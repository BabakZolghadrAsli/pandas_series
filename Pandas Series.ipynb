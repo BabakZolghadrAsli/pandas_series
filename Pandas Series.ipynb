{
 "cells": [
  {
   "cell_type": "markdown",
   "id": "a5d5dc0b-4394-4e6a-8b12-78f2f91036d8",
   "metadata": {},
   "source": [
    "<div class='alert alert-success'>\n",
    "<h1><code>Pandas</code> series for <b>Beginners</b></h1>\n",
    "\n",
    "by: <b>SomeBiziCoder</b> | a.k.a. <i>Babak Zolghadr-Asli</i>\n",
    "---\n",
    "\n",
    "[YouTube Main Channel](https://www.youtube.com/@SomeBiZiCoder) |\n",
    "[YouTube Second Channel](https://www.youtube.com/@babakzolghadr-asli) |\n",
    "[Google Scholar](https://scholar.google.com/citations?user=6owBze4AAAAJ&hl=en) |\n",
    "[Researchgate](https://www.researchgate.net/profile/Babak_Zolghadr-Asli) |\n",
    "[Linkdedin](https://www.linkedin.com/in/babak-zolghadr-asli/) |\n",
    "[GitHub](https://github.com/BabakZolghadrAsli) |\n",
    "[Instagram](https://www.instagram.com/babakzolghadrasli/) |\n",
    "[Twitter](https://x.com/babak_zolghadr) |\n",
    "[Website](https://babakzolghadrasli.space)\n",
    "\n",
    "</div>"
   ]
  },
  {
   "cell_type": "markdown",
   "id": "5e6181e8-62a5-4ad3-8cc7-3e3f1f2bd707",
   "metadata": {
    "jp-MarkdownHeadingCollapsed": true
   },
   "source": [
    "<div class='alert alert-info'>\n",
    "    <h2>Episode #01 | Introduction</h2>\n",
    "</div>"
   ]
  },
  {
   "cell_type": "markdown",
   "id": "d393e0d7-bfe2-470c-b5d4-90855a823370",
   "metadata": {},
   "source": [
    "* Original Data Source: [NASA](https://climate.nasa.gov/vital-signs/global-temperature/)\n",
    "* Working Data Repo: [GitHub@BabakZolghadrAsli](https://github.com/BabakZolghadrAsli/pandas_series/tree/main/Data)"
   ]
  },
  {
   "cell_type": "markdown",
   "id": "8ec5dbf6-4061-4ab4-9a4e-481c4a307314",
   "metadata": {
    "jp-MarkdownHeadingCollapsed": true
   },
   "source": [
    "<div class='alert alert-warning'>\n",
    "    <h3>Importing <code>pandas</code> library</h3>\n",
    "</div>"
   ]
  },
  {
   "cell_type": "code",
   "execution_count": null,
   "id": "e89ccfa9-4d67-4e06-b074-ad7a46c0e026",
   "metadata": {},
   "outputs": [],
   "source": [
    "import pandas"
   ]
  },
  {
   "cell_type": "code",
   "execution_count": null,
   "id": "5a379357-e0d6-45e1-ae73-466945ebf0be",
   "metadata": {},
   "outputs": [],
   "source": [
    "import pandas as pd"
   ]
  },
  {
   "cell_type": "markdown",
   "id": "787c4723-961d-4479-be46-38fa01599fc2",
   "metadata": {
    "jp-MarkdownHeadingCollapsed": true
   },
   "source": [
    "<div class='alert alert-warning'>\n",
    "    <h3>Reading a <code>csv</code> file</h3>\n",
    "</div>"
   ]
  },
  {
   "cell_type": "code",
   "execution_count": null,
   "id": "9557527f-c4c2-4c79-af70-c064dca385d4",
   "metadata": {},
   "outputs": [],
   "source": [
    "pd.read_csv('World Temperature - Nasa.csv')"
   ]
  },
  {
   "cell_type": "code",
   "execution_count": null,
   "id": "8de55519-a52a-4e4f-8e99-6f0d6daf338e",
   "metadata": {
    "scrolled": true
   },
   "outputs": [],
   "source": [
    "pd.read_csv('C:/Users/bz267/OneDrive - University of Exeter/Desktop/Social Media/YouTube/Coding Channel/Series/Excel Automation with Pyhton Series/Data/World Temperature - Nasa.csv')"
   ]
  },
  {
   "cell_type": "code",
   "execution_count": null,
   "id": "c18fbcec-b6f0-4e60-bbe4-e6648d1a3336",
   "metadata": {},
   "outputs": [],
   "source": []
  },
  {
   "attachments": {},
   "cell_type": "markdown",
   "id": "1809cf45-4b04-4fe3-8f72-668266f2ba8a",
   "metadata": {
    "jp-MarkdownHeadingCollapsed": true
   },
   "source": [
    "<div class='alert alert-warning'>\n",
    "    <h3>Reading a <code>xlsx</code> file</h3>\n",
    "</div>"
   ]
  },
  {
   "cell_type": "code",
   "execution_count": null,
   "id": "7cd929a0-e2bd-4a54-b595-0b40f99900b3",
   "metadata": {},
   "outputs": [],
   "source": [
    "pd.read_excel('World Temperature - Nasa.xlsx')"
   ]
  },
  {
   "cell_type": "code",
   "execution_count": null,
   "id": "7737fb95-805f-4208-be40-d83e3023bd88",
   "metadata": {},
   "outputs": [],
   "source": [
    "pd.read_excel('World Temperature - Nasa.xlsx', sheet_name='Source')"
   ]
  },
  {
   "cell_type": "code",
   "execution_count": null,
   "id": "bea769b2-a8b9-4a33-95e1-6016d7032982",
   "metadata": {},
   "outputs": [],
   "source": [
    "pd.read_excel('World Temperature - Nasa.xlsx', sheet_name=0)"
   ]
  },
  {
   "cell_type": "code",
   "execution_count": null,
   "id": "fe81f900-bb2b-4a90-b09b-585ab91df5a1",
   "metadata": {},
   "outputs": [],
   "source": [
    "db_new = pd.read_excel('World Temperature - Nasa.xlsx')\n",
    "db_new"
   ]
  },
  {
   "cell_type": "code",
   "execution_count": null,
   "id": "b8168255-4727-4c27-8fc7-64e17cd7dc50",
   "metadata": {},
   "outputs": [],
   "source": [
    "type(db_new)"
   ]
  },
  {
   "cell_type": "code",
   "execution_count": null,
   "id": "19c4179a-8c72-4194-994c-e6ed8303d869",
   "metadata": {},
   "outputs": [],
   "source": [
    "excl_obj = pd.ExcelFile('World Temperature - Nasa.xlsx')\n",
    "excl_obj"
   ]
  },
  {
   "cell_type": "code",
   "execution_count": null,
   "id": "ff4202ed-a911-460b-84d6-5e898c286fe3",
   "metadata": {},
   "outputs": [],
   "source": [
    "sheet_names = excl_obj.sheet_names\n",
    "sheet_names"
   ]
  },
  {
   "cell_type": "code",
   "execution_count": null,
   "id": "a331792d-abe9-4278-9336-d4fccd2aea17",
   "metadata": {},
   "outputs": [],
   "source": [
    "pd.read_excel('World Temperature - Nasa.xlsx', sheet_name=sheet_names[-1])"
   ]
  },
  {
   "cell_type": "code",
   "execution_count": null,
   "id": "7231425f-2c53-4096-8ab1-7beb5d453b53",
   "metadata": {},
   "outputs": [],
   "source": [
    "pd.read_excel()"
   ]
  },
  {
   "cell_type": "markdown",
   "id": "c7ae5c44-5a29-4127-bd0f-d07b68d5c3d4",
   "metadata": {
    "jp-MarkdownHeadingCollapsed": true
   },
   "source": [
    "<div class='alert alert-warning'>\n",
    "    <h3>Saving Excel files</h3>\n",
    "</div>"
   ]
  },
  {
   "cell_type": "code",
   "execution_count": null,
   "id": "889806b1-74c2-4955-97c4-1935f6cbc1a8",
   "metadata": {},
   "outputs": [],
   "source": [
    "table_1 = pd.read_csv('World Temperature - Nasa.csv')\n",
    "table_1"
   ]
  },
  {
   "cell_type": "code",
   "execution_count": null,
   "id": "15fac1a6-29df-4c26-adac-5b9f3184b2af",
   "metadata": {},
   "outputs": [],
   "source": [
    "table_1.to_csv('testing_csv_file.csv')"
   ]
  },
  {
   "cell_type": "markdown",
   "id": "299bcfd0-e4f1-4226-a92d-9b047e002169",
   "metadata": {
    "jp-MarkdownHeadingCollapsed": true
   },
   "source": [
    "<div class='alert alert-info'>\n",
    "    <h2>Episode #02 | Basic Concepts of DataFrames</h2>\n",
    "</div>"
   ]
  },
  {
   "cell_type": "code",
   "execution_count": null,
   "id": "5efe02ea-0298-4ba6-aa5c-25d379d1491f",
   "metadata": {},
   "outputs": [],
   "source": [
    "import pandas as pd"
   ]
  },
  {
   "cell_type": "markdown",
   "id": "c78bdad3-d12f-46c6-b2b0-3f63cbf15131",
   "metadata": {
    "jp-MarkdownHeadingCollapsed": true
   },
   "source": [
    "<div class='alert alert-warning'>\n",
    "    <h3>Dataframe Properties</h3>\n",
    "</div>"
   ]
  },
  {
   "cell_type": "code",
   "execution_count": null,
   "id": "f06b92e8-e0b8-410b-b002-3f1dd43c9fe7",
   "metadata": {},
   "outputs": [],
   "source": [
    "db = pd.read_csv('World Temperature - Nasa.csv')\n",
    "db"
   ]
  },
  {
   "cell_type": "code",
   "execution_count": null,
   "id": "31c7f0d6-1609-452c-80a6-9859930da27a",
   "metadata": {},
   "outputs": [],
   "source": [
    "type(db)"
   ]
  },
  {
   "cell_type": "code",
   "execution_count": null,
   "id": "7f1a3dd9-957b-43ff-91eb-789a4de9ac46",
   "metadata": {},
   "outputs": [],
   "source": [
    "db.shape"
   ]
  },
  {
   "cell_type": "code",
   "execution_count": null,
   "id": "16afed84-7734-409b-ae6c-088df23596e6",
   "metadata": {},
   "outputs": [],
   "source": [
    "db.size, 144 * 3 # db.shape[0]*db.shape[1]"
   ]
  },
  {
   "cell_type": "code",
   "execution_count": null,
   "id": "90a6db67-1a56-44a7-a234-b1e750a1f1cc",
   "metadata": {},
   "outputs": [],
   "source": [
    "db.ndim, len(db.shape)"
   ]
  },
  {
   "cell_type": "code",
   "execution_count": null,
   "id": "3f25437e-187b-4b10-951c-6ef74b557cd2",
   "metadata": {},
   "outputs": [],
   "source": [
    "db.columns"
   ]
  },
  {
   "cell_type": "code",
   "execution_count": null,
   "id": "0b0887fa-8b54-4f9d-9bc4-fef90a1b2a59",
   "metadata": {},
   "outputs": [],
   "source": [
    "db.index"
   ]
  },
  {
   "cell_type": "code",
   "execution_count": null,
   "id": "1f48dbd7-ec14-4b3c-bd50-90b936ccb9f9",
   "metadata": {},
   "outputs": [],
   "source": [
    "db.axes"
   ]
  },
  {
   "cell_type": "code",
   "execution_count": null,
   "id": "22b1bfb1-29d3-4fac-b321-8b74543e4fd6",
   "metadata": {},
   "outputs": [],
   "source": [
    "db.head()"
   ]
  },
  {
   "cell_type": "code",
   "execution_count": null,
   "id": "0e662d70-1deb-449b-a24b-fa0b62777d0b",
   "metadata": {},
   "outputs": [],
   "source": [
    "db.tail()"
   ]
  },
  {
   "cell_type": "code",
   "execution_count": null,
   "id": "803254fd-87ff-44d0-a2b5-c9ee6d2bcf08",
   "metadata": {},
   "outputs": [],
   "source": [
    "db.head(10)"
   ]
  },
  {
   "cell_type": "code",
   "execution_count": null,
   "id": "f780644c-26cb-4ee8-a59b-7d018121f5a5",
   "metadata": {},
   "outputs": [],
   "source": [
    "db.describe()"
   ]
  },
  {
   "cell_type": "code",
   "execution_count": null,
   "id": "fdbb2f79-bd26-43ba-9cc6-53cc29d8dc77",
   "metadata": {},
   "outputs": [],
   "source": [
    "db.isnull()"
   ]
  },
  {
   "cell_type": "code",
   "execution_count": null,
   "id": "ca5bb8ff-b8fc-4809-8e3e-fbcc34dbcebb",
   "metadata": {
    "scrolled": true
   },
   "outputs": [],
   "source": [
    "db.isna()"
   ]
  },
  {
   "cell_type": "code",
   "execution_count": null,
   "id": "c4230ef5-7e81-4f42-a827-fb4852dfd737",
   "metadata": {},
   "outputs": [],
   "source": [
    "db.isnull().sum(axis=0)"
   ]
  },
  {
   "cell_type": "code",
   "execution_count": null,
   "id": "8db14ee0-167a-4e37-82bb-0a9ba29ded50",
   "metadata": {},
   "outputs": [],
   "source": [
    "db.dtypes"
   ]
  },
  {
   "cell_type": "code",
   "execution_count": null,
   "id": "cd2802b0-1093-4dcf-adb9-19f9b25a538c",
   "metadata": {},
   "outputs": [],
   "source": [
    "db.iloc[1, 1]"
   ]
  },
  {
   "cell_type": "markdown",
   "id": "a3163180-0fbe-4ee6-827a-8bb8952bf3c5",
   "metadata": {
    "jp-MarkdownHeadingCollapsed": true
   },
   "source": [
    "<div class='alert alert-warning'>\n",
    "    <h3>Accessing the Data</h3>\n",
    "</div>"
   ]
  },
  {
   "cell_type": "code",
   "execution_count": null,
   "id": "df270c29-0ba0-435e-9328-fe2286a9488a",
   "metadata": {},
   "outputs": [],
   "source": [
    "db.head()"
   ]
  },
  {
   "cell_type": "code",
   "execution_count": null,
   "id": "bcf71219-b6f8-4002-9fd7-3cc233303da9",
   "metadata": {},
   "outputs": [],
   "source": [
    "db.columns"
   ]
  },
  {
   "cell_type": "code",
   "execution_count": null,
   "id": "10668a8a-2aad-4ff3-aa88-fae76596af6b",
   "metadata": {},
   "outputs": [],
   "source": [
    "db['Year']"
   ]
  },
  {
   "cell_type": "code",
   "execution_count": null,
   "id": "dc445fdf-c55c-48c9-b4bc-33d0cc96399f",
   "metadata": {},
   "outputs": [],
   "source": [
    "db['No_Smoothing']"
   ]
  },
  {
   "cell_type": "code",
   "execution_count": null,
   "id": "62d3d5cc-bc73-4990-bf14-d669ac95da9c",
   "metadata": {},
   "outputs": [],
   "source": [
    "db['Lowess(5)']"
   ]
  },
  {
   "cell_type": "code",
   "execution_count": null,
   "id": "fa195e0f-1122-41da-90ff-ef7cc0a994d2",
   "metadata": {},
   "outputs": [],
   "source": [
    "db[['Year', 'Lowess(5)']]"
   ]
  },
  {
   "cell_type": "code",
   "execution_count": null,
   "id": "64b19850-f68d-469b-a4cf-17bb7de5d7ee",
   "metadata": {},
   "outputs": [],
   "source": [
    "type(db['Year'])"
   ]
  },
  {
   "cell_type": "code",
   "execution_count": null,
   "id": "2876d949-0c3c-4837-9b4a-c069e6830a18",
   "metadata": {},
   "outputs": [],
   "source": [
    "db['Year'][1]"
   ]
  },
  {
   "cell_type": "code",
   "execution_count": null,
   "id": "6edd5b8e-0993-4969-8de8-13cf1641170f",
   "metadata": {},
   "outputs": [],
   "source": [
    "db['Year'][5:]"
   ]
  },
  {
   "cell_type": "code",
   "execution_count": null,
   "id": "c8a45fbf-7da0-4b95-8c8c-2e9e1da87d6d",
   "metadata": {},
   "outputs": [],
   "source": [
    "db['Year'][:3]"
   ]
  },
  {
   "cell_type": "code",
   "execution_count": null,
   "id": "34f28608-c628-4554-ac44-215016452087",
   "metadata": {},
   "outputs": [],
   "source": [
    "db['Year'][5:-2:2]"
   ]
  },
  {
   "cell_type": "code",
   "execution_count": null,
   "id": "478fd5ed-7ea1-4b05-992b-57d2685c79c0",
   "metadata": {},
   "outputs": [],
   "source": [
    "db['Year'][5:-2:2].index"
   ]
  },
  {
   "cell_type": "code",
   "execution_count": null,
   "id": "32b6c038-f94b-42c9-ba2f-4f425ac4a482",
   "metadata": {},
   "outputs": [],
   "source": [
    "db.Year"
   ]
  },
  {
   "cell_type": "code",
   "execution_count": null,
   "id": "51454086-5979-47dd-bce2-534a5a0345bc",
   "metadata": {},
   "outputs": [],
   "source": [
    "db.No_Smoothing"
   ]
  },
  {
   "cell_type": "code",
   "execution_count": null,
   "id": "b720c780-e766-41e3-a3ee-4dc0f3bc5699",
   "metadata": {},
   "outputs": [],
   "source": [
    "db.Lowess(5)"
   ]
  },
  {
   "cell_type": "code",
   "execution_count": null,
   "id": "d93a4ef3-a201-4058-b02c-c2393e397b21",
   "metadata": {},
   "outputs": [],
   "source": [
    "Lowess(5) = 2"
   ]
  },
  {
   "cell_type": "code",
   "execution_count": null,
   "id": "b7666259-b6cd-4d61-ba39-05f3f8e1fb35",
   "metadata": {},
   "outputs": [],
   "source": [
    "db.iat[1, 2] # row, column"
   ]
  },
  {
   "cell_type": "code",
   "execution_count": null,
   "id": "d7fe09fb-c51f-49e1-845d-2f85e860a805",
   "metadata": {},
   "outputs": [],
   "source": [
    "db.head()"
   ]
  },
  {
   "cell_type": "code",
   "execution_count": null,
   "id": "c6fc1741-cc4a-475c-9835-bc03fd050555",
   "metadata": {},
   "outputs": [],
   "source": [
    "db.iat[1]"
   ]
  },
  {
   "cell_type": "code",
   "execution_count": null,
   "id": "d4fa381d-4e71-4b74-b1ad-cc4d8dfe44c3",
   "metadata": {},
   "outputs": [],
   "source": [
    "db['Year'].iat[1]"
   ]
  },
  {
   "cell_type": "code",
   "execution_count": null,
   "id": "9417a281-728d-466d-aa5b-8f2825fdc2cd",
   "metadata": {},
   "outputs": [],
   "source": [
    "db.at[1, 'Year'] # row, columns name"
   ]
  },
  {
   "cell_type": "code",
   "execution_count": null,
   "id": "fec5fabd-631c-422e-b54c-8c3db2ed69eb",
   "metadata": {},
   "outputs": [],
   "source": [
    "db.iloc[1, 1]"
   ]
  },
  {
   "cell_type": "code",
   "execution_count": null,
   "id": "ce0e56bb-ae93-45dc-8625-ce7cd7eb92b4",
   "metadata": {},
   "outputs": [],
   "source": [
    "db.head()"
   ]
  },
  {
   "cell_type": "code",
   "execution_count": null,
   "id": "1eae6151-e371-465e-a36c-1d76c19c1bfe",
   "metadata": {},
   "outputs": [],
   "source": [
    "db.iloc[[1, 2], [0, 2]] # row(s), column(s)"
   ]
  },
  {
   "cell_type": "code",
   "execution_count": null,
   "id": "cf392354-5b0b-4388-88ef-bcb171361dc0",
   "metadata": {},
   "outputs": [],
   "source": [
    "db.iloc[[1, 2], 2]"
   ]
  },
  {
   "cell_type": "code",
   "execution_count": null,
   "id": "91e88b59-65c3-432a-84b7-68a7faeaef2d",
   "metadata": {},
   "outputs": [],
   "source": [
    "db.iat[[1, 2], 2]"
   ]
  },
  {
   "cell_type": "code",
   "execution_count": null,
   "id": "a539e080-d696-440d-ae93-3affe4c868cf",
   "metadata": {},
   "outputs": [],
   "source": [
    "db.iloc[1:, :]"
   ]
  },
  {
   "cell_type": "code",
   "execution_count": null,
   "id": "d3cdc70a-44ac-4c64-a8b0-7ff90a8edbb0",
   "metadata": {},
   "outputs": [],
   "source": [
    "db.loc[[1, 2], ['Year', 'No_Smoothing']] # row(s), column names(s)"
   ]
  },
  {
   "cell_type": "code",
   "execution_count": null,
   "id": "c0354fba-f9d8-4965-ba30-ae093021e4d4",
   "metadata": {},
   "outputs": [],
   "source": [
    "db.loc[[1, 2], 'Year'] # row(s), column names(s)"
   ]
  },
  {
   "cell_type": "code",
   "execution_count": null,
   "id": "3bc000e0-0d2b-44db-8cd0-74764971c5d7",
   "metadata": {},
   "outputs": [],
   "source": [
    "db.loc[[1, 2], ['Year']]"
   ]
  },
  {
   "cell_type": "markdown",
   "id": "9718110b-e5bf-4807-b503-8d0137ddbed1",
   "metadata": {
    "jp-MarkdownHeadingCollapsed": true
   },
   "source": [
    "<div class='alert alert-info'>\n",
    "    <h2>Episode #03 | Basic Numeric Analysis</h2>\n",
    "</div>"
   ]
  },
  {
   "cell_type": "code",
   "execution_count": null,
   "id": "655355cf-4e05-4438-b5d2-2a1c74aa793d",
   "metadata": {
    "scrolled": true
   },
   "outputs": [],
   "source": [
    "import pandas as pd\n",
    "\n",
    "db = pd.read_csv('World Temperature - Nasa.csv')\n",
    "db"
   ]
  },
  {
   "cell_type": "code",
   "execution_count": null,
   "id": "75674452-e491-4f5e-aa86-bcfd092ed38f",
   "metadata": {},
   "outputs": [],
   "source": [
    "db.dtypes"
   ]
  },
  {
   "cell_type": "markdown",
   "id": "a11f1da5-8ff9-4664-86d4-1c5d35f068cf",
   "metadata": {
    "jp-MarkdownHeadingCollapsed": true
   },
   "source": [
    "<div class='alert alert-warning'>\n",
    "    <h3>Basic Pre-processing</h3>\n",
    "</div>"
   ]
  },
  {
   "cell_type": "code",
   "execution_count": null,
   "id": "aed6cbf4-e1a0-4671-a472-69a73da353e3",
   "metadata": {},
   "outputs": [],
   "source": [
    "# Pre-processing\n",
    "\n",
    "db = db.iloc[1:]\n",
    "db"
   ]
  },
  {
   "cell_type": "code",
   "execution_count": null,
   "id": "4afcb50c-5996-494d-9c78-60aaed3e7c6f",
   "metadata": {},
   "outputs": [],
   "source": [
    "db.dtypes"
   ]
  },
  {
   "cell_type": "code",
   "execution_count": null,
   "id": "5eb8a08e-a7e9-43dd-a0a8-c5449178c208",
   "metadata": {},
   "outputs": [],
   "source": [
    "db.iloc[0, 0]"
   ]
  },
  {
   "cell_type": "code",
   "execution_count": null,
   "id": "485983f9-309e-4171-be00-0bd5e9abd556",
   "metadata": {},
   "outputs": [],
   "source": [
    "db.Year"
   ]
  },
  {
   "cell_type": "code",
   "execution_count": null,
   "id": "1dee1520-0c34-4191-bc95-6c76b24f2ed2",
   "metadata": {},
   "outputs": [],
   "source": [
    "pd.to_numeric(db.Year)"
   ]
  },
  {
   "cell_type": "code",
   "execution_count": null,
   "id": "f7b28cd5-1a3d-49af-a211-52210293f00d",
   "metadata": {},
   "outputs": [],
   "source": [
    "pd.to_numeric(db)"
   ]
  },
  {
   "cell_type": "code",
   "execution_count": null,
   "id": "072c1c94-b60c-4f45-a43d-89b2005c0d65",
   "metadata": {},
   "outputs": [],
   "source": [
    "db.apply(pd.to_numeric)"
   ]
  },
  {
   "cell_type": "code",
   "execution_count": null,
   "id": "cc6e640f-b7dc-46c0-a057-d7a56c452693",
   "metadata": {},
   "outputs": [],
   "source": [
    "db.dtypes"
   ]
  },
  {
   "cell_type": "code",
   "execution_count": null,
   "id": "4e483a27-4e08-4653-bb57-9199cf84d30e",
   "metadata": {},
   "outputs": [],
   "source": [
    "db.apply(pd.to_numeric).dtypes"
   ]
  },
  {
   "cell_type": "code",
   "execution_count": null,
   "id": "dcd06404-77fd-4866-bd4b-4dcb409f8b6c",
   "metadata": {},
   "outputs": [],
   "source": [
    "db = db.apply(pd.to_numeric)\n",
    "db"
   ]
  },
  {
   "cell_type": "code",
   "execution_count": null,
   "id": "90715e6c-64a4-4beb-b96e-947bd6c7686f",
   "metadata": {},
   "outputs": [],
   "source": [
    "db.dtypes"
   ]
  },
  {
   "cell_type": "code",
   "execution_count": null,
   "id": "35fa996b-d807-45cf-893f-3c5d7a124283",
   "metadata": {},
   "outputs": [],
   "source": [
    "db.describe()"
   ]
  },
  {
   "cell_type": "code",
   "execution_count": null,
   "id": "28a85f66-83fd-4001-8766-72b617777ee1",
   "metadata": {},
   "outputs": [],
   "source": [
    "db['No_Smoothing'].astype(float)"
   ]
  },
  {
   "cell_type": "code",
   "execution_count": null,
   "id": "1891494e-77d1-47f7-b503-1b736fa5171b",
   "metadata": {},
   "outputs": [],
   "source": [
    "df = pd.DataFrame({'Col_1': ['A', 'A', 'B', 'B', 'B'],\n",
    "                   'Col_2': ['a', 'a', 'a', 'b', 'b'],\n",
    "                   'Col_3': [4, 4, 3.5, 15, 5]})\n",
    "df"
   ]
  },
  {
   "cell_type": "code",
   "execution_count": null,
   "id": "edcccb88-9af1-4e3a-a6c2-427d482630ce",
   "metadata": {},
   "outputs": [],
   "source": [
    "df.drop_duplicates()"
   ]
  },
  {
   "cell_type": "code",
   "execution_count": null,
   "id": "1e2af310-ecc3-45e7-a382-3913627c488f",
   "metadata": {},
   "outputs": [],
   "source": [
    "df"
   ]
  },
  {
   "cell_type": "code",
   "execution_count": null,
   "id": "2508204d-bd2b-499b-997f-97beaaaf3602",
   "metadata": {},
   "outputs": [],
   "source": [
    "df.drop_duplicates(inplace=True)"
   ]
  },
  {
   "cell_type": "code",
   "execution_count": null,
   "id": "5260625d-499b-4551-9fc0-cdf7c2bd4f93",
   "metadata": {},
   "outputs": [],
   "source": [
    "df"
   ]
  },
  {
   "cell_type": "code",
   "execution_count": null,
   "id": "f570e93b-f0bd-45a6-8869-6088628d479e",
   "metadata": {},
   "outputs": [],
   "source": [
    "import numpy as np\n",
    "\n",
    "df = pd.DataFrame({'Col_1': ['A', 'A', 'B', 'B', 'B'],\n",
    "                   'Col_2': ['a', np.nan, 'a', 'b', 'b'],\n",
    "                   'Col_3': [np.nan, 4, 3.5, 15, 5]})\n",
    "df"
   ]
  },
  {
   "cell_type": "code",
   "execution_count": null,
   "id": "5ccd4b3c-68f3-4b2d-8923-7ff33434d359",
   "metadata": {},
   "outputs": [],
   "source": [
    "df.dropna()"
   ]
  },
  {
   "cell_type": "code",
   "execution_count": null,
   "id": "59c9fff6-94b5-4d55-8c25-31de37d3445e",
   "metadata": {},
   "outputs": [],
   "source": [
    "df"
   ]
  },
  {
   "cell_type": "code",
   "execution_count": null,
   "id": "17e138bb-3f1d-40e4-bdfe-6d9366a72bdf",
   "metadata": {},
   "outputs": [],
   "source": [
    "df.dropna(inplace=True)\n",
    "df"
   ]
  },
  {
   "cell_type": "code",
   "execution_count": null,
   "id": "9e3dbf9d-a439-4212-a9ad-8af32cea0e4e",
   "metadata": {},
   "outputs": [],
   "source": [
    "df = pd.DataFrame({'Col_1': ['A', 'A', 'B', 'B', 'B'],\n",
    "                   'Col_2': ['a', np.nan, 'a', 'b', 'b'],\n",
    "                   'Col_3': [np.nan, 4, 3.5, 15, 5]})\n",
    "df"
   ]
  },
  {
   "cell_type": "code",
   "execution_count": null,
   "id": "93389a07-cea4-44bd-83b9-35909a9d212c",
   "metadata": {},
   "outputs": [],
   "source": [
    "df.fillna(9999)"
   ]
  },
  {
   "cell_type": "code",
   "execution_count": null,
   "id": "c6814188-672d-4fda-8986-d8dab8487a90",
   "metadata": {},
   "outputs": [],
   "source": [
    "df.fillna({'Col_1':'NaN', 'Col_2':'nan', 'Col_3':9999})"
   ]
  },
  {
   "cell_type": "code",
   "execution_count": null,
   "id": "cd4e251b-c9fd-4372-b4cd-a73810db85be",
   "metadata": {},
   "outputs": [],
   "source": [
    "df"
   ]
  },
  {
   "cell_type": "code",
   "execution_count": null,
   "id": "519385d0-4d79-4514-920e-0609669f3652",
   "metadata": {},
   "outputs": [],
   "source": [
    "df.fillna(0, inplace=True)"
   ]
  },
  {
   "cell_type": "code",
   "execution_count": null,
   "id": "f5b2d973-ea10-4793-9fa4-2146613ceadf",
   "metadata": {},
   "outputs": [],
   "source": [
    "df"
   ]
  },
  {
   "cell_type": "markdown",
   "id": "fde63164-eecd-47b2-af6d-6c3ed0733dce",
   "metadata": {
    "jp-MarkdownHeadingCollapsed": true
   },
   "source": [
    "<div class='alert alert-danger'>\n",
    "    <h4>Exc. #1</h4>\n",
    "    Use what we have learned to have the second column show values with one decimal points.<br>\n",
    "    Hint: <code>round()</code> can help change float properties\n",
    "</div>"
   ]
  },
  {
   "cell_type": "code",
   "execution_count": null,
   "id": "27ed8bda-33b8-4b7d-ab17-882867255528",
   "metadata": {},
   "outputs": [],
   "source": [
    "round(3.42, ndigits=1)"
   ]
  },
  {
   "cell_type": "code",
   "execution_count": null,
   "id": "e45b23d6-a124-4541-8708-666f34538bef",
   "metadata": {},
   "outputs": [],
   "source": [
    "round(3.42, 1)"
   ]
  },
  {
   "cell_type": "code",
   "execution_count": null,
   "id": "b2ab1988-e8fb-46ba-922a-997f00d7f942",
   "metadata": {},
   "outputs": [],
   "source": [
    "db.head()"
   ]
  },
  {
   "cell_type": "code",
   "execution_count": null,
   "id": "dcf7be2d-501b-4871-a740-f29ab080096a",
   "metadata": {},
   "outputs": [],
   "source": [
    "db.apply(round)"
   ]
  },
  {
   "cell_type": "code",
   "execution_count": null,
   "id": "7946bc1c-6ddf-46a8-a49a-121049413b86",
   "metadata": {},
   "outputs": [],
   "source": [
    "db['No_Smoothing'].apply(round)"
   ]
  },
  {
   "cell_type": "code",
   "execution_count": null,
   "id": "b813ca58-e3b0-4524-8d2a-f2c3977ffc7d",
   "metadata": {},
   "outputs": [],
   "source": [
    "db['No_Smoothing'].apply(round(ndigits=2))"
   ]
  },
  {
   "cell_type": "code",
   "execution_count": null,
   "id": "ef85167e-08e5-436e-a189-0999f2dd7422",
   "metadata": {},
   "outputs": [],
   "source": [
    "db['No_Smoothing'].apply(round(db['No_Smoothing'], ndigits=2))"
   ]
  },
  {
   "cell_type": "code",
   "execution_count": null,
   "id": "023580b7-7065-47a1-81e7-99d82c5904e6",
   "metadata": {},
   "outputs": [],
   "source": [
    "round(db['No_Smoothing'], ndigits=1)"
   ]
  },
  {
   "cell_type": "code",
   "execution_count": null,
   "id": "d6576bae-6f5a-4379-8f26-b70e9fe80ff3",
   "metadata": {},
   "outputs": [],
   "source": [
    "f = lambda x:round(x, ndigits=1)\n",
    "db['No_Smoothing'].apply(f)"
   ]
  },
  {
   "cell_type": "code",
   "execution_count": null,
   "id": "42fa814e-db56-40a1-98aa-b3c910d2a64d",
   "metadata": {},
   "outputs": [],
   "source": [
    "def g(x):\n",
    "    return round(x, ndigits=1)\n",
    "\n",
    "db['No_Smoothing'].apply(g)"
   ]
  },
  {
   "cell_type": "code",
   "execution_count": null,
   "id": "230101ef-f7a2-4c2d-9857-7612658da4dd",
   "metadata": {},
   "outputs": [],
   "source": [
    "db"
   ]
  },
  {
   "cell_type": "code",
   "execution_count": null,
   "id": "13ee26ee-07b5-4d0f-9735-3cf0faf1a714",
   "metadata": {},
   "outputs": [],
   "source": [
    "f(db['No_Smoothing'])"
   ]
  },
  {
   "cell_type": "code",
   "execution_count": null,
   "id": "e45bc90c-b44d-488e-8b59-c97d127aecf3",
   "metadata": {},
   "outputs": [],
   "source": [
    "g(db['No_Smoothing'])"
   ]
  },
  {
   "cell_type": "code",
   "execution_count": null,
   "id": "cb09ec78-f4b3-4de2-9d48-d1b9ee0e70f4",
   "metadata": {},
   "outputs": [],
   "source": [
    "db['No_Smoothing'].round(1)"
   ]
  },
  {
   "cell_type": "code",
   "execution_count": null,
   "id": "fe5614e6-4cec-4373-baea-a96e07980a2d",
   "metadata": {},
   "outputs": [],
   "source": [
    "db"
   ]
  },
  {
   "cell_type": "markdown",
   "id": "860100c3-3432-4260-a47a-56e88d089a82",
   "metadata": {
    "jp-MarkdownHeadingCollapsed": true
   },
   "source": [
    "<div class='alert alert-warning'>\n",
    "    <h3>Basic Stat. Analysis</h3>\n",
    "</div>"
   ]
  },
  {
   "cell_type": "code",
   "execution_count": null,
   "id": "40985209-d778-4dae-94ad-58e3cacad80e",
   "metadata": {},
   "outputs": [],
   "source": [
    "db"
   ]
  },
  {
   "cell_type": "code",
   "execution_count": null,
   "id": "31fd9e37-dcd3-4cb6-b672-bb7b813ccad2",
   "metadata": {},
   "outputs": [],
   "source": [
    "db.describe()"
   ]
  },
  {
   "cell_type": "code",
   "execution_count": null,
   "id": "2bb80635-051f-4b08-94eb-d5b8eded71af",
   "metadata": {},
   "outputs": [],
   "source": [
    "db.max()"
   ]
  },
  {
   "cell_type": "code",
   "execution_count": null,
   "id": "2cceca86-9368-4fce-ad24-56d27d1f9b02",
   "metadata": {},
   "outputs": [],
   "source": [
    "db.min()"
   ]
  },
  {
   "cell_type": "code",
   "execution_count": null,
   "id": "25ea2c75-f53d-4f6c-8630-4dc884283d30",
   "metadata": {},
   "outputs": [],
   "source": [
    "db.median()"
   ]
  },
  {
   "cell_type": "code",
   "execution_count": null,
   "id": "6f21b3e1-140e-4d94-8251-6005b1cc30ce",
   "metadata": {},
   "outputs": [],
   "source": [
    "db.mean()"
   ]
  },
  {
   "cell_type": "code",
   "execution_count": null,
   "id": "e943a802-5d5c-4d44-ac41-78fec4d8831e",
   "metadata": {},
   "outputs": [],
   "source": [
    "db.var()"
   ]
  },
  {
   "cell_type": "code",
   "execution_count": null,
   "id": "561c9108-c762-498c-928a-a53b7bf4cc99",
   "metadata": {},
   "outputs": [],
   "source": [
    "db.skew()"
   ]
  },
  {
   "cell_type": "code",
   "execution_count": null,
   "id": "43f73496-8b74-44c8-b0fe-d2324fec4d6c",
   "metadata": {},
   "outputs": [],
   "source": [
    "db.kurtosis()"
   ]
  },
  {
   "cell_type": "code",
   "execution_count": null,
   "id": "966834a4-6941-4455-97e0-243ad225d6a4",
   "metadata": {},
   "outputs": [],
   "source": [
    "db.quantile(q=.25)"
   ]
  },
  {
   "cell_type": "code",
   "execution_count": null,
   "id": "f08dedff-bfd5-4a08-a611-91b7573258f2",
   "metadata": {},
   "outputs": [],
   "source": [
    "db.describe()"
   ]
  },
  {
   "cell_type": "code",
   "execution_count": null,
   "id": "c15a7f32-eda3-4f8e-b412-80f63091e5f5",
   "metadata": {},
   "outputs": [],
   "source": [
    "db.nlargest(5, ['No_Smoothing', ])"
   ]
  },
  {
   "cell_type": "code",
   "execution_count": null,
   "id": "a7327a6c-787d-4c85-a4fc-f009b2145c08",
   "metadata": {},
   "outputs": [],
   "source": [
    "db.nlargest(5, ['No_Smoothing', 'Lowess(5)'])"
   ]
  },
  {
   "cell_type": "code",
   "execution_count": null,
   "id": "683b45d4-dd20-40f2-8106-31fb3a0837f9",
   "metadata": {},
   "outputs": [],
   "source": [
    "db.nsmallest(10, ['No_Smoothing', ])"
   ]
  },
  {
   "cell_type": "code",
   "execution_count": null,
   "id": "f15f4327-a91d-417a-bc08-530b0b74951a",
   "metadata": {},
   "outputs": [],
   "source": [
    "db.nunique()"
   ]
  },
  {
   "cell_type": "code",
   "execution_count": null,
   "id": "06c375f2-db89-4c90-9a1b-d6415c219bca",
   "metadata": {},
   "outputs": [],
   "source": [
    "db.sum()"
   ]
  },
  {
   "cell_type": "code",
   "execution_count": null,
   "id": "6b9480b1-2f60-490d-bc9d-0d3a41fc8ae3",
   "metadata": {},
   "outputs": [],
   "source": [
    "sum_val = 0\n",
    "for i in db.No_Smoothing:\n",
    "    sum_val += i # sum_val = sum_val + i\n",
    "sum_val"
   ]
  },
  {
   "cell_type": "code",
   "execution_count": null,
   "id": "0234fffd-4301-425d-b763-47185270f12f",
   "metadata": {},
   "outputs": [],
   "source": [
    "db.head()"
   ]
  },
  {
   "cell_type": "code",
   "execution_count": null,
   "id": "4b106338-d87d-498b-8114-1937166e7ac0",
   "metadata": {},
   "outputs": [],
   "source": [
    "db.sum(axis=1)"
   ]
  },
  {
   "cell_type": "code",
   "execution_count": null,
   "id": "f90f6ab6-b5a0-4aba-825e-3feafbae3a62",
   "metadata": {},
   "outputs": [],
   "source": [
    "db.mean(axis=1)"
   ]
  },
  {
   "cell_type": "markdown",
   "id": "9b3b9c45-4d72-45a7-a875-985e5cc9cfb3",
   "metadata": {
    "jp-MarkdownHeadingCollapsed": true
   },
   "source": [
    "<div class='alert alert-info'>\n",
    "    <h2>Episode #04 | Basic DataBase Manipulations - Part 1</h2>\n",
    "</div>"
   ]
  },
  {
   "cell_type": "code",
   "execution_count": null,
   "id": "ab90d583-3505-4657-b06e-7ba217b3d766",
   "metadata": {},
   "outputs": [],
   "source": [
    "import pandas as pd\n",
    "\n",
    "db = pd.read_csv('World Temperature - Nasa.csv') # Ep. 2\n",
    "db = db.iloc[1:] # Ep. 2\n",
    "db = db.apply(pd.to_numeric) # Ep. 3\n",
    "db.head()"
   ]
  },
  {
   "cell_type": "markdown",
   "id": "7893db14-f54d-4655-87d7-2c0e29ed3077",
   "metadata": {
    "jp-MarkdownHeadingCollapsed": true
   },
   "source": [
    "<div class='alert alert-warning'>\n",
    "    <h3>Changing the Dataframe</h3>\n",
    "</div>"
   ]
  },
  {
   "cell_type": "code",
   "execution_count": null,
   "id": "f8cf615a-8f1b-4dd5-8927-55a082606e4f",
   "metadata": {},
   "outputs": [],
   "source": [
    "db.iloc[0, 0]"
   ]
  },
  {
   "cell_type": "code",
   "execution_count": null,
   "id": "a3f1c5cc-6a11-4c00-b617-64212f8de7bd",
   "metadata": {},
   "outputs": [],
   "source": [
    "db.iloc[0, 0] = 1870\n",
    "db.head()"
   ]
  },
  {
   "cell_type": "code",
   "execution_count": null,
   "id": "53ef7204-d587-4927-b5a1-b46bacf2afda",
   "metadata": {},
   "outputs": [],
   "source": [
    "db.dtypes"
   ]
  },
  {
   "cell_type": "code",
   "execution_count": null,
   "id": "769376be-0da7-493a-8608-d1cf604f572b",
   "metadata": {},
   "outputs": [],
   "source": [
    "db.iloc[0, 0] = db.iloc[1, 0] - 1\n",
    "db.head()"
   ]
  },
  {
   "cell_type": "code",
   "execution_count": null,
   "id": "78c30e10-fcb7-4ba3-8a50-b08331800b5b",
   "metadata": {},
   "outputs": [],
   "source": [
    "db['No_Smoothing'].abs() * 2"
   ]
  },
  {
   "cell_type": "code",
   "execution_count": null,
   "id": "12065035-72e5-4124-b3c0-6e5b381da914",
   "metadata": {},
   "outputs": [],
   "source": [
    "db['No_Smoothing'] = db['Lowess(5)'] - db['No_Smoothing'].abs() * 2\n",
    "db"
   ]
  },
  {
   "cell_type": "code",
   "execution_count": null,
   "id": "f972c107-5d2d-4081-b685-2f1b00d499f3",
   "metadata": {},
   "outputs": [],
   "source": [
    "db.replace(2022, 2030)"
   ]
  },
  {
   "cell_type": "code",
   "execution_count": null,
   "id": "a5e86000-4499-415c-a10c-ec3cd925c841",
   "metadata": {},
   "outputs": [],
   "source": [
    "db"
   ]
  },
  {
   "cell_type": "code",
   "execution_count": null,
   "id": "b8e54a10-8fb7-4393-b7c7-cbddc4bb7336",
   "metadata": {},
   "outputs": [],
   "source": [
    "db.replace(2022, 2023, inplace=True)\n",
    "db"
   ]
  },
  {
   "cell_type": "code",
   "execution_count": null,
   "id": "69954be7-cf8e-4edb-a01e-d75bb671b10d",
   "metadata": {},
   "outputs": [],
   "source": [
    "db.clip(lower=-.7, inplace=True)\n",
    "db"
   ]
  },
  {
   "cell_type": "code",
   "execution_count": null,
   "id": "af375994-3b41-4854-bfec-64f74dad40bf",
   "metadata": {},
   "outputs": [],
   "source": [
    "db['No_Smoothing'].clip(lower=-.5, upper=0, inplace=True)\n",
    "db"
   ]
  },
  {
   "cell_type": "code",
   "execution_count": null,
   "id": "8608b354-fdbe-4401-88be-ad01bcafc5dd",
   "metadata": {},
   "outputs": [],
   "source": [
    "db['No_Smoothing'] = db['No_Smoothing'].clip(lower=-.2, upper=0,)\n",
    "db"
   ]
  },
  {
   "cell_type": "code",
   "execution_count": null,
   "id": "8c0e8e11-ebb5-459b-9556-7bd212930496",
   "metadata": {},
   "outputs": [],
   "source": [
    "db['Year']>=1900"
   ]
  },
  {
   "cell_type": "code",
   "execution_count": null,
   "id": "df84e3a0-c0ac-4754-93b7-f40c188b3fa5",
   "metadata": {},
   "outputs": [],
   "source": [
    "db[db['Year']>=1900]"
   ]
  },
  {
   "cell_type": "code",
   "execution_count": null,
   "id": "06ff1334-0b2e-4880-84cf-4ce4c941c750",
   "metadata": {},
   "outputs": [],
   "source": [
    "db['Year'].where(db['Year']>=1900, -10, )"
   ]
  },
  {
   "cell_type": "code",
   "execution_count": null,
   "id": "cf139ee3-92d0-4d8d-83cb-0856c0661029",
   "metadata": {},
   "outputs": [],
   "source": [
    "db"
   ]
  },
  {
   "cell_type": "code",
   "execution_count": null,
   "id": "2076938b-4a1c-4aa5-901f-a5215eed37f6",
   "metadata": {},
   "outputs": [],
   "source": [
    "db['Year'] = db['Year'].where(db['Year']>=1900, -10, )\n",
    "db"
   ]
  },
  {
   "cell_type": "code",
   "execution_count": null,
   "id": "129a0985-539d-4a47-92a6-147a9d275dbd",
   "metadata": {},
   "outputs": [],
   "source": [
    "db['No_Smoothing'] = db['No_Smoothing'].where(db['Year']>=1900, 0, )\n",
    "db"
   ]
  },
  {
   "cell_type": "markdown",
   "id": "8dca5c78-547a-4521-ab0b-c4c4fbf40f5f",
   "metadata": {},
   "source": [
    "<div class='alert alert-danger'>\n",
    "    <h4>Exc. #1</h4>\n",
    "    Try to replicate what <code>clip()</code> does using what we have learned thus far.<br>\n",
    "    For example, implement <code>db['Year'].clip(-5, 10)</code>\n",
    "</div>"
   ]
  },
  {
   "cell_type": "code",
   "execution_count": null,
   "id": "1ce28dde-39c5-4d47-9119-f010839a9660",
   "metadata": {},
   "outputs": [],
   "source": [
    "db['Year'].clip(-5, 10)"
   ]
  },
  {
   "cell_type": "code",
   "execution_count": null,
   "id": "7bebfcc7-9905-4e01-8b9b-acc8da92b973",
   "metadata": {},
   "outputs": [],
   "source": [
    "lower, upper = -5, 10 \n",
    "db['Year'].where(db['Year']>lower, lower)"
   ]
  },
  {
   "cell_type": "code",
   "execution_count": null,
   "id": "214a31e4-6d36-4f46-b037-86f5a622f5b8",
   "metadata": {},
   "outputs": [],
   "source": [
    "db['Year'].where(db['Year']<upper, upper)"
   ]
  },
  {
   "cell_type": "code",
   "execution_count": null,
   "id": "01ff4ff3-8969-4134-a4db-6d2333789255",
   "metadata": {},
   "outputs": [],
   "source": [
    "db['Year'].where(db['Year']>lower, lower).where(db['Year']<upper, upper)"
   ]
  },
  {
   "cell_type": "code",
   "execution_count": null,
   "id": "64e66999-2f4a-48c3-8cd5-f5b8c46dbaa2",
   "metadata": {},
   "outputs": [],
   "source": [
    "db['Year']"
   ]
  },
  {
   "cell_type": "code",
   "execution_count": null,
   "id": "8e6b512a-90a9-4490-9fce-92885003c5e6",
   "metadata": {},
   "outputs": [],
   "source": [
    "db = pd.read_csv('World Temperature - Nasa.csv')\n",
    "db = db.iloc[1:]\n",
    "db = db.apply(pd.to_numeric)\n",
    "db.head()"
   ]
  },
  {
   "cell_type": "code",
   "execution_count": null,
   "id": "68049e32-6184-47d3-b3c5-650c3080d4a2",
   "metadata": {},
   "outputs": [],
   "source": [
    "db['No_Smoothing'].rolling(window=3)"
   ]
  },
  {
   "cell_type": "code",
   "execution_count": null,
   "id": "faaa54f9-a8ca-443a-b87e-3f28ca76fb23",
   "metadata": {},
   "outputs": [],
   "source": [
    "db['No_Smoothing'].rolling(window=3).mean()"
   ]
  },
  {
   "cell_type": "code",
   "execution_count": null,
   "id": "9db73867-cbb2-4382-ba1c-1473ec26e172",
   "metadata": {},
   "outputs": [],
   "source": [
    "db['No_Smoothing'].rolling(window=3).mean().round(2)"
   ]
  },
  {
   "cell_type": "code",
   "execution_count": null,
   "id": "9425bd85-0975-4ab8-a77e-176c464f4c23",
   "metadata": {},
   "outputs": [],
   "source": [
    "db.head()"
   ]
  },
  {
   "cell_type": "code",
   "execution_count": null,
   "id": "fc04b705-a67f-43e6-9451-4ba43f08bccf",
   "metadata": {},
   "outputs": [],
   "source": [
    "import numpy as np\n",
    "\n",
    "df = pd.DataFrame({'Col_1': [1, 3, 5, 3, np.nan],\n",
    "                   'Col_2': [1.7, np.nan, 1.9, 2.7, 3],\n",
    "                   'Col_3': [np.nan, 4, 3.5, 15, 5]})\n",
    "df"
   ]
  },
  {
   "cell_type": "code",
   "execution_count": null,
   "id": "dc07a8c9-e2cb-485e-aba6-7264ea879c1e",
   "metadata": {},
   "outputs": [],
   "source": [
    "df.fillna(1000)"
   ]
  },
  {
   "cell_type": "code",
   "execution_count": null,
   "id": "328dbe67-8050-4b5c-b0ca-19e864ec2bd8",
   "metadata": {},
   "outputs": [],
   "source": [
    "df.bfill()"
   ]
  },
  {
   "cell_type": "code",
   "execution_count": null,
   "id": "aebc2278-1cbb-4e9f-81f4-bbc5b1796314",
   "metadata": {},
   "outputs": [],
   "source": [
    "df.ffill()"
   ]
  },
  {
   "cell_type": "code",
   "execution_count": null,
   "id": "ca93e44d-f2dd-4e36-99ba-7a1ffd3d47b8",
   "metadata": {},
   "outputs": [],
   "source": [
    "df.isna()"
   ]
  },
  {
   "cell_type": "markdown",
   "id": "23c7aa5e-7ad4-4011-b715-18221874cf46",
   "metadata": {},
   "source": [
    "<div class='alert alert-danger'>\n",
    "    <h4>Exc. #2</h4>\n",
    "    Consider a DataFrame with null values where you want to replace these with the average of each given column.\n",
    "</div>"
   ]
  },
  {
   "cell_type": "code",
   "execution_count": null,
   "id": "3e6bb48d-fac9-4d95-aac9-062eb4f70c90",
   "metadata": {},
   "outputs": [],
   "source": [
    "df = pd.DataFrame({'Col_1': [1, 3, 5, 3, np.nan],\n",
    "                   'Col_2': [1.7, np.nan, 1.9, 2.7, 3],\n",
    "                   'Col_3': [np.nan, 4, 3.5, 15, 5]})\n",
    "df"
   ]
  },
  {
   "cell_type": "code",
   "execution_count": null,
   "id": "254751c0-5e6b-48a9-ade0-00b41524bd0c",
   "metadata": {},
   "outputs": [],
   "source": [
    "df.mean()"
   ]
  },
  {
   "cell_type": "code",
   "execution_count": null,
   "id": "36fffdc4-ae18-414c-9771-ff667a40f383",
   "metadata": {},
   "outputs": [],
   "source": [
    "df.fillna(df.mean())"
   ]
  },
  {
   "cell_type": "code",
   "execution_count": null,
   "id": "8d229c79-b155-429a-9858-1d19d83b0957",
   "metadata": {},
   "outputs": [],
   "source": [
    "df"
   ]
  },
  {
   "cell_type": "markdown",
   "id": "e9ea37be-5d91-48a6-8319-8bf1595bd833",
   "metadata": {
    "jp-MarkdownHeadingCollapsed": true
   },
   "source": [
    "<div class='alert alert-info'>\n",
    "    <h2>Episode #05 | Basic DataBase Manipulations - Part 2</h2>\n",
    "</div>"
   ]
  },
  {
   "cell_type": "code",
   "execution_count": null,
   "id": "b532ee37-2fdd-44aa-be9a-fd999db3b05a",
   "metadata": {},
   "outputs": [],
   "source": [
    "import pandas as pd\n",
    "\n",
    "db = pd.read_csv('World Temperature - Nasa.csv') # Ep. 2\n",
    "db = db.iloc[1:] # Ep. 2\n",
    "db = db.apply(pd.to_numeric) # Ep. 3\n",
    "db.head()"
   ]
  },
  {
   "cell_type": "markdown",
   "id": "fec56024-3f86-4352-abbc-892f7e71ae8e",
   "metadata": {
    "jp-MarkdownHeadingCollapsed": true
   },
   "source": [
    "<div class='alert alert-warning'>\n",
    "    <h3>Expanding the DataFrame</h3>\n",
    "</div>"
   ]
  },
  {
   "cell_type": "code",
   "execution_count": null,
   "id": "3e4f41c7-f19b-4cb5-a945-4eb0a5bd8df1",
   "metadata": {},
   "outputs": [],
   "source": [
    "db['No_Smoothing'].rolling(window=4).mean()"
   ]
  },
  {
   "cell_type": "code",
   "execution_count": null,
   "id": "653fccac-e292-4560-aab4-a06ecb7c0727",
   "metadata": {},
   "outputs": [],
   "source": [
    "db['Moving_Avr_w4'] = db['No_Smoothing'].rolling(window=4).mean().round(2)\n",
    "db.head()"
   ]
  },
  {
   "cell_type": "code",
   "execution_count": null,
   "id": "5ba8cfa9-cd5c-444f-850a-242180fcea04",
   "metadata": {},
   "outputs": [],
   "source": [
    "db['Moving_Avr_w2'] = db['No_Smoothing'].rolling(window=2).mean().round(2)\n",
    "db['Moving_Avr_w3'] = db['No_Smoothing'].rolling(window=3).mean().round(2)\n",
    "db.head()"
   ]
  },
  {
   "cell_type": "code",
   "execution_count": null,
   "id": "e484a833-57a6-4877-b2f4-d4af74a576cd",
   "metadata": {},
   "outputs": [],
   "source": [
    "db[['Year', 'No_Smoothing']]"
   ]
  },
  {
   "cell_type": "code",
   "execution_count": null,
   "id": "7658d6d3-8310-47a3-a2b0-d3faf4814376",
   "metadata": {},
   "outputs": [],
   "source": [
    "db[['Year', 'No_Smoothing', 'Lowess(5)', 'Moving_Avr_w2', 'Moving_Avr_w3', 'Moving_Avr_w4']]"
   ]
  },
  {
   "cell_type": "code",
   "execution_count": null,
   "id": "d2ca3e75-a6ce-4b30-a2b7-bf863dc7fd80",
   "metadata": {},
   "outputs": [],
   "source": [
    "db"
   ]
  },
  {
   "cell_type": "code",
   "execution_count": null,
   "id": "133bfe4e-7e2a-40d8-85e2-0c0dbdeb1141",
   "metadata": {},
   "outputs": [],
   "source": [
    "db = db[['Year', 'No_Smoothing', 'Lowess(5)', 'Moving_Avr_w2', 'Moving_Avr_w3', 'Moving_Avr_w4']]\n",
    "db"
   ]
  },
  {
   "cell_type": "code",
   "execution_count": null,
   "id": "6f903ed8-5b53-4647-b36a-224e36f67787",
   "metadata": {},
   "outputs": [],
   "source": [
    "new_row_dict = {'Year':2023, 'No_Smoothing':.91, 'Lowess(5)':.88}\n",
    "new_row_dict"
   ]
  },
  {
   "cell_type": "code",
   "execution_count": null,
   "id": "dd15ba1f-e20f-4b81-8ffb-8e598ecbfe5c",
   "metadata": {},
   "outputs": [],
   "source": [
    "len(db)"
   ]
  },
  {
   "cell_type": "code",
   "execution_count": null,
   "id": "ddd8d05c-d911-45ba-a835-9ea481b2f62f",
   "metadata": {},
   "outputs": [],
   "source": [
    "db.loc[len(db)] = new_row_dict"
   ]
  },
  {
   "cell_type": "code",
   "execution_count": null,
   "id": "1c6b762f-a52e-4e74-aa5c-b5150b1824d9",
   "metadata": {},
   "outputs": [],
   "source": [
    "db.tail()"
   ]
  },
  {
   "cell_type": "code",
   "execution_count": null,
   "id": "89917f43-5d8a-4d91-9491-19d15fbbb67e",
   "metadata": {},
   "outputs": [],
   "source": [
    "db.loc[300] = new_row_dict\n",
    "db.tail()"
   ]
  },
  {
   "cell_type": "code",
   "execution_count": null,
   "id": "76bdedbb-373d-4824-be5c-8836fa093641",
   "metadata": {},
   "outputs": [],
   "source": [
    "db.loc[0] = new_row_dict\n",
    "db.head()"
   ]
  },
  {
   "cell_type": "code",
   "execution_count": null,
   "id": "fad6de2e-7ddd-4edd-b93a-c17279d42c4a",
   "metadata": {},
   "outputs": [],
   "source": [
    "db = pd.read_csv('World Temperature - Nasa.csv')\n",
    "db = db.iloc[1:]\n",
    "db = db.apply(pd.to_numeric)\n",
    "db.head()"
   ]
  },
  {
   "cell_type": "code",
   "execution_count": null,
   "id": "88ec1b06-f190-44c0-b578-15ee81e351f0",
   "metadata": {},
   "outputs": [],
   "source": [
    "new_df = pd.DataFrame({'Year': [2023, 2024], 'No_Smoothing':[.91, .92], 'Lowess(5)':[.88, .87]}) #{'Year':2023, 'No_Smoothing':.91, 'Lowess(5)':.88}\n",
    "new_df"
   ]
  },
  {
   "cell_type": "code",
   "execution_count": null,
   "id": "c3fcb2c1-a89c-4417-8066-54b49f38df60",
   "metadata": {},
   "outputs": [],
   "source": [
    "pd.concat([db, new_df])"
   ]
  },
  {
   "cell_type": "code",
   "execution_count": null,
   "id": "48945d14-1fb1-46f3-8b85-b4ddb396dcc8",
   "metadata": {},
   "outputs": [],
   "source": [
    "pd.concat([db, new_df], ignore_index=True)"
   ]
  },
  {
   "cell_type": "code",
   "execution_count": null,
   "id": "16a299cd-5bcc-4fa3-bc13-d7eb3e2ffcfc",
   "metadata": {},
   "outputs": [],
   "source": [
    "db"
   ]
  },
  {
   "cell_type": "code",
   "execution_count": null,
   "id": "363ec1cc-a075-49fd-8f3e-c2d9a92c5f68",
   "metadata": {},
   "outputs": [],
   "source": [
    "db = pd.concat([db, new_df], ignore_index=True)\n",
    "db"
   ]
  },
  {
   "cell_type": "code",
   "execution_count": null,
   "id": "55a2daea-e2f9-470b-bde0-b39eb93daad5",
   "metadata": {},
   "outputs": [],
   "source": [
    "new_df = pd.DataFrame({'New_Col':(db['No_Smoothing'] * .5 - .8)})\n",
    "new_df"
   ]
  },
  {
   "cell_type": "code",
   "execution_count": null,
   "id": "1c9e0b34-c2df-454f-87bd-a6a51a6669d9",
   "metadata": {},
   "outputs": [],
   "source": [
    "pd.concat([db, new_df])"
   ]
  },
  {
   "cell_type": "code",
   "execution_count": null,
   "id": "29f92c26-0cef-4597-8628-1c0aa6dfd1f5",
   "metadata": {},
   "outputs": [],
   "source": [
    "pd.concat([db, new_df], axis=1, )"
   ]
  },
  {
   "cell_type": "markdown",
   "id": "27928ec3-77d0-41f9-993f-f195271aacfe",
   "metadata": {
    "jp-MarkdownHeadingCollapsed": true
   },
   "source": [
    "<div class='alert alert-warning'>\n",
    "    <h3>How NOT to copy?!</h3>\n",
    "</div>"
   ]
  },
  {
   "cell_type": "code",
   "execution_count": null,
   "id": "ed932243-210f-4ffe-bbb4-f53d4347b059",
   "metadata": {},
   "outputs": [],
   "source": [
    "db = pd.read_csv('World Temperature - Nasa.csv') # Ep. 2\n",
    "db = db.iloc[1:] # Ep. 2\n",
    "db = db.apply(pd.to_numeric) # Ep. 3\n",
    "db.head()"
   ]
  },
  {
   "cell_type": "code",
   "execution_count": null,
   "id": "ff47121a-1afb-4f44-bf8c-b7d4efff1ccd",
   "metadata": {},
   "outputs": [],
   "source": [
    "id(db)"
   ]
  },
  {
   "cell_type": "code",
   "execution_count": null,
   "id": "39f99b24-c979-471a-9459-3822ed302366",
   "metadata": {},
   "outputs": [],
   "source": [
    "new_db = db\n",
    "new_db.head()"
   ]
  },
  {
   "cell_type": "code",
   "execution_count": null,
   "id": "d982d46a-0f93-40fd-907f-09989bfef573",
   "metadata": {},
   "outputs": [],
   "source": [
    "db['new_col'] = db['Year']\n",
    "db.head()"
   ]
  },
  {
   "cell_type": "code",
   "execution_count": null,
   "id": "584cd19e-69d0-4598-8f0c-e782298cb70b",
   "metadata": {},
   "outputs": [],
   "source": [
    "new_db.head()"
   ]
  },
  {
   "cell_type": "code",
   "execution_count": null,
   "id": "19b5cb01-a87a-4c5a-9291-3db7ea823732",
   "metadata": {},
   "outputs": [],
   "source": [
    "new_db.iloc[0, 0] = 1870\n",
    "new_db.head()"
   ]
  },
  {
   "cell_type": "code",
   "execution_count": null,
   "id": "8ce85f3d-2e14-4556-837e-9f74e8f5f207",
   "metadata": {},
   "outputs": [],
   "source": [
    "db.head()"
   ]
  },
  {
   "cell_type": "code",
   "execution_count": null,
   "id": "d957a91a-9fcd-4953-84d2-f4767a7c23e8",
   "metadata": {},
   "outputs": [],
   "source": [
    "id(db)"
   ]
  },
  {
   "cell_type": "code",
   "execution_count": null,
   "id": "7b722130-6217-4921-b76e-50f0b4cc8100",
   "metadata": {},
   "outputs": [],
   "source": [
    "id(new_db)"
   ]
  },
  {
   "cell_type": "code",
   "execution_count": null,
   "id": "44941c12-8a1d-4ce9-889c-38a6286d1be7",
   "metadata": {},
   "outputs": [],
   "source": [
    "db_shallow_copy = db.copy()\n",
    "db_shallow_copy"
   ]
  },
  {
   "cell_type": "code",
   "execution_count": null,
   "id": "ea131e05-4eb1-49ab-82b3-57a290009f54",
   "metadata": {},
   "outputs": [],
   "source": [
    "db.iloc[1, 0] = 1872\n",
    "db.head()"
   ]
  },
  {
   "cell_type": "code",
   "execution_count": null,
   "id": "51306fcf-4a81-4f5c-8ada-9f6cd81f901a",
   "metadata": {},
   "outputs": [],
   "source": [
    "new_db.head()"
   ]
  },
  {
   "cell_type": "code",
   "execution_count": null,
   "id": "64f55d13-6c11-4689-9bde-08e1efe51e74",
   "metadata": {},
   "outputs": [],
   "source": [
    "db_shallow_copy.head()"
   ]
  },
  {
   "cell_type": "code",
   "execution_count": null,
   "id": "7b6f557c-feba-42b0-ac6e-140614e91be4",
   "metadata": {},
   "outputs": [],
   "source": [
    "id(db_shallow_copy)"
   ]
  },
  {
   "cell_type": "markdown",
   "id": "256ec4a5-b00b-4e19-b107-03059ed79cd3",
   "metadata": {},
   "source": [
    "<div class='alert alert-info'>\n",
    "    <h2>Episode #06 | Basic DataBase Manipulations - Part 3</h2>\n",
    "</div>"
   ]
  },
  {
   "cell_type": "code",
   "execution_count": 1,
   "id": "caa706d8-fa82-4aa9-a2d7-63d80ffffe90",
   "metadata": {},
   "outputs": [
    {
     "data": {
      "text/html": [
       "<div>\n",
       "<style scoped>\n",
       "    .dataframe tbody tr th:only-of-type {\n",
       "        vertical-align: middle;\n",
       "    }\n",
       "\n",
       "    .dataframe tbody tr th {\n",
       "        vertical-align: top;\n",
       "    }\n",
       "\n",
       "    .dataframe thead th {\n",
       "        text-align: right;\n",
       "    }\n",
       "</style>\n",
       "<table border=\"1\" class=\"dataframe\">\n",
       "  <thead>\n",
       "    <tr style=\"text-align: right;\">\n",
       "      <th></th>\n",
       "      <th>Year</th>\n",
       "      <th>No_Smoothing</th>\n",
       "      <th>Lowess(5)</th>\n",
       "    </tr>\n",
       "  </thead>\n",
       "  <tbody>\n",
       "    <tr>\n",
       "      <th>1</th>\n",
       "      <td>1880</td>\n",
       "      <td>-0.17</td>\n",
       "      <td>-0.10</td>\n",
       "    </tr>\n",
       "    <tr>\n",
       "      <th>2</th>\n",
       "      <td>1881</td>\n",
       "      <td>-0.09</td>\n",
       "      <td>-0.13</td>\n",
       "    </tr>\n",
       "    <tr>\n",
       "      <th>3</th>\n",
       "      <td>1882</td>\n",
       "      <td>-0.11</td>\n",
       "      <td>-0.17</td>\n",
       "    </tr>\n",
       "    <tr>\n",
       "      <th>4</th>\n",
       "      <td>1883</td>\n",
       "      <td>-0.18</td>\n",
       "      <td>-0.21</td>\n",
       "    </tr>\n",
       "    <tr>\n",
       "      <th>5</th>\n",
       "      <td>1884</td>\n",
       "      <td>-0.29</td>\n",
       "      <td>-0.24</td>\n",
       "    </tr>\n",
       "  </tbody>\n",
       "</table>\n",
       "</div>"
      ],
      "text/plain": [
       "   Year  No_Smoothing  Lowess(5)\n",
       "1  1880         -0.17      -0.10\n",
       "2  1881         -0.09      -0.13\n",
       "3  1882         -0.11      -0.17\n",
       "4  1883         -0.18      -0.21\n",
       "5  1884         -0.29      -0.24"
      ]
     },
     "execution_count": 1,
     "metadata": {},
     "output_type": "execute_result"
    }
   ],
   "source": [
    "import pandas as pd\n",
    "\n",
    "db = pd.read_csv('World Temperature - Nasa.csv') # Ep. 2\n",
    "db = db.iloc[1:] # Ep. 2\n",
    "db = db.apply(pd.to_numeric) # Ep. 3\n",
    "db.head()"
   ]
  },
  {
   "cell_type": "markdown",
   "id": "158cde8a-14c1-4802-8fb6-002670d10028",
   "metadata": {},
   "source": [
    "<div class='alert alert-warning'>\n",
    "    <h3>Arithmetic operations</h3>\n",
    "</div>"
   ]
  },
  {
   "cell_type": "code",
   "execution_count": 2,
   "id": "df7384a8-e1ad-42ef-93ce-0c53220e3f92",
   "metadata": {},
   "outputs": [],
   "source": [
    "import numpy as np"
   ]
  },
  {
   "cell_type": "code",
   "execution_count": null,
   "id": "31e0037c-9ca6-4732-a11a-c28f84563e97",
   "metadata": {},
   "outputs": [],
   "source": [
    "a, b = 1, 2\n",
    "list_1 = [1, 2, 3]\n",
    "list_2 = [4, 5, 6]\n",
    "array_1 = np.array(list_1)\n",
    "array_2 = np.array(list_2)"
   ]
  },
  {
   "cell_type": "code",
   "execution_count": null,
   "id": "fd557aca-d52c-4483-bfff-28e6e7ee4304",
   "metadata": {},
   "outputs": [],
   "source": [
    "a + b"
   ]
  },
  {
   "cell_type": "code",
   "execution_count": null,
   "id": "4ca62cef-d21f-42f8-a325-a5256e95f94e",
   "metadata": {},
   "outputs": [],
   "source": [
    "list_1 + list_2"
   ]
  },
  {
   "cell_type": "code",
   "execution_count": null,
   "id": "8fbd4597-ee08-4859-b071-bed8e81a5d2f",
   "metadata": {},
   "outputs": [],
   "source": [
    "[i+j for (i, j) in zip(list_1, list_2)]"
   ]
  },
  {
   "cell_type": "code",
   "execution_count": null,
   "id": "1685b01b-aa9c-49a1-b92d-402f0ddc9d3b",
   "metadata": {},
   "outputs": [],
   "source": [
    "result = list()\n",
    "for i in range(len(list_1)):\n",
    "    result.append(list_1[i]+list_2[i])\n",
    "result"
   ]
  },
  {
   "cell_type": "code",
   "execution_count": null,
   "id": "7438e52c-674e-4fd9-9bc5-4a483fc82bb9",
   "metadata": {},
   "outputs": [],
   "source": [
    "array_1 + array_2"
   ]
  },
  {
   "cell_type": "code",
   "execution_count": null,
   "id": "22354210-0691-4f7d-b270-73664c3a7d0b",
   "metadata": {},
   "outputs": [],
   "source": [
    "a + list_1"
   ]
  },
  {
   "cell_type": "code",
   "execution_count": null,
   "id": "a69101d0-0a1f-4962-b1db-6ac15a56ac14",
   "metadata": {},
   "outputs": [],
   "source": [
    "a + array_1"
   ]
  },
  {
   "cell_type": "code",
   "execution_count": null,
   "id": "445b54ba-0ce8-4ad7-a628-7a1050b2d4a1",
   "metadata": {},
   "outputs": [],
   "source": [
    "array_3 = np.array([[1], [2], [3]])\n",
    "array_3"
   ]
  },
  {
   "cell_type": "code",
   "execution_count": null,
   "id": "02efa82a-a086-43cc-bd0b-9d75553b44c2",
   "metadata": {},
   "outputs": [],
   "source": [
    "array_3.shape"
   ]
  },
  {
   "cell_type": "code",
   "execution_count": null,
   "id": "f70b4a56-1739-4a1a-8f2c-66e093b99f7f",
   "metadata": {},
   "outputs": [],
   "source": [
    "array_1.reshape(1, -1)"
   ]
  },
  {
   "cell_type": "code",
   "execution_count": null,
   "id": "c0bf272b-2f22-49ca-b729-1c14cfde4e84",
   "metadata": {},
   "outputs": [],
   "source": [
    "array_1.shape"
   ]
  },
  {
   "cell_type": "code",
   "execution_count": null,
   "id": "31a91a94-d53f-4f5c-a48b-0c2f5afcb478",
   "metadata": {},
   "outputs": [],
   "source": [
    "array_1.reshape(1, -1).T"
   ]
  },
  {
   "cell_type": "code",
   "execution_count": null,
   "id": "bcf1343c-d645-419c-9a8d-5502339f5de4",
   "metadata": {},
   "outputs": [],
   "source": [
    "array_1 + array_3"
   ]
  },
  {
   "cell_type": "code",
   "execution_count": null,
   "id": "290ac1d3-7c1e-46f7-bca4-b07bf1b1b3a5",
   "metadata": {},
   "outputs": [],
   "source": [
    "db.Year + 100"
   ]
  },
  {
   "cell_type": "code",
   "execution_count": 3,
   "id": "81daa9a9-221c-44fd-ab02-e7eecc383cd2",
   "metadata": {},
   "outputs": [
    {
     "data": {
      "text/plain": [
       "1      1879.83\n",
       "2      1880.91\n",
       "3      1881.89\n",
       "4      1882.82\n",
       "5      1883.71\n",
       "        ...   \n",
       "139    2018.85\n",
       "140    2019.97\n",
       "141    2021.01\n",
       "142    2021.84\n",
       "143    2022.89\n",
       "Length: 143, dtype: float64"
      ]
     },
     "execution_count": 3,
     "metadata": {},
     "output_type": "execute_result"
    }
   ],
   "source": [
    "db.Year + db.No_Smoothing"
   ]
  },
  {
   "cell_type": "code",
   "execution_count": 24,
   "id": "979a69c6-f6b5-4fee-a90b-31ef00591379",
   "metadata": {},
   "outputs": [
    {
     "data": {
      "text/plain": [
       "0    1\n",
       "1    2\n",
       "2    3\n",
       "dtype: int64"
      ]
     },
     "execution_count": 24,
     "metadata": {},
     "output_type": "execute_result"
    }
   ],
   "source": [
    "pd.Series([1, 2, 3])"
   ]
  },
  {
   "cell_type": "code",
   "execution_count": 25,
   "id": "2bfa055e-f94b-4709-8c38-aedc4c88f22d",
   "metadata": {},
   "outputs": [
    {
     "data": {
      "text/plain": [
       "array([1, 2, 3])"
      ]
     },
     "execution_count": 25,
     "metadata": {},
     "output_type": "execute_result"
    }
   ],
   "source": [
    "np.array([1, 2, 3])"
   ]
  },
  {
   "cell_type": "code",
   "execution_count": 26,
   "id": "be015532-4ee3-48b6-8f1f-d8bcd8c8c6a8",
   "metadata": {},
   "outputs": [
    {
     "data": {
      "text/plain": [
       "(3,)"
      ]
     },
     "execution_count": 26,
     "metadata": {},
     "output_type": "execute_result"
    }
   ],
   "source": [
    "pd.Series([1, 2, 3]).shape"
   ]
  },
  {
   "cell_type": "code",
   "execution_count": 27,
   "id": "9df1582c-9b33-4a06-a55e-3dc091813eb4",
   "metadata": {},
   "outputs": [
    {
     "data": {
      "text/plain": [
       "(3,)"
      ]
     },
     "execution_count": 27,
     "metadata": {},
     "output_type": "execute_result"
    }
   ],
   "source": [
    "np.array([1, 2, 3]).shape"
   ]
  },
  {
   "cell_type": "code",
   "execution_count": 28,
   "id": "fc9c3400-84f9-489f-9883-66bf4e5649fa",
   "metadata": {},
   "outputs": [
    {
     "data": {
      "text/plain": [
       "RangeIndex(start=0, stop=3, step=1)"
      ]
     },
     "execution_count": 28,
     "metadata": {},
     "output_type": "execute_result"
    }
   ],
   "source": [
    "pd.Series([1, 2, 3]).index"
   ]
  },
  {
   "cell_type": "code",
   "execution_count": 29,
   "id": "680da7e1-1d84-4bb0-80bd-71a653f6e6d8",
   "metadata": {},
   "outputs": [
    {
     "ename": "AttributeError",
     "evalue": "'numpy.ndarray' object has no attribute 'index'",
     "output_type": "error",
     "traceback": [
      "\u001b[1;31m---------------------------------------------------------------------------\u001b[0m",
      "\u001b[1;31mAttributeError\u001b[0m                            Traceback (most recent call last)",
      "Cell \u001b[1;32mIn[29], line 1\u001b[0m\n\u001b[1;32m----> 1\u001b[0m np\u001b[38;5;241m.\u001b[39marray([\u001b[38;5;241m1\u001b[39m, \u001b[38;5;241m2\u001b[39m, \u001b[38;5;241m3\u001b[39m])\u001b[38;5;241m.\u001b[39mindex\n",
      "\u001b[1;31mAttributeError\u001b[0m: 'numpy.ndarray' object has no attribute 'index'"
     ]
    }
   ],
   "source": [
    "np.array([1, 2, 3]).index"
   ]
  },
  {
   "cell_type": "code",
   "execution_count": 30,
   "id": "babb1e6a-3343-4cd8-9e0b-73e965ae4c5c",
   "metadata": {},
   "outputs": [
    {
     "data": {
      "text/plain": [
       "(1, 1, 1)"
      ]
     },
     "execution_count": 30,
     "metadata": {},
     "output_type": "execute_result"
    }
   ],
   "source": [
    "pd.Series([1, 2, 3])[0], pd.Series([1, 2, 3]).iloc[0], pd.Series([1, 2, 3]).iat[0]"
   ]
  },
  {
   "cell_type": "code",
   "execution_count": 31,
   "id": "a77c122d-8280-466a-9ab2-b04296300a1c",
   "metadata": {},
   "outputs": [
    {
     "data": {
      "text/plain": [
       "1"
      ]
     },
     "execution_count": 31,
     "metadata": {},
     "output_type": "execute_result"
    }
   ],
   "source": [
    "np.array([1, 2, 3])[0]"
   ]
  },
  {
   "cell_type": "code",
   "execution_count": 32,
   "id": "2e8e1e4e-4c00-450a-80a6-fe4eb5e9a562",
   "metadata": {},
   "outputs": [],
   "source": [
    "df_a = pd.DataFrame(np.random.randint(0, 5, (4, 4), ))\n",
    "df_b = pd.DataFrame(np.random.randint(0, 5, (4, 4), ))"
   ]
  },
  {
   "cell_type": "code",
   "execution_count": 33,
   "id": "fcc7c9bd-ddf9-4c33-9ad4-761d7a105b1b",
   "metadata": {},
   "outputs": [
    {
     "data": {
      "text/html": [
       "<div>\n",
       "<style scoped>\n",
       "    .dataframe tbody tr th:only-of-type {\n",
       "        vertical-align: middle;\n",
       "    }\n",
       "\n",
       "    .dataframe tbody tr th {\n",
       "        vertical-align: top;\n",
       "    }\n",
       "\n",
       "    .dataframe thead th {\n",
       "        text-align: right;\n",
       "    }\n",
       "</style>\n",
       "<table border=\"1\" class=\"dataframe\">\n",
       "  <thead>\n",
       "    <tr style=\"text-align: right;\">\n",
       "      <th></th>\n",
       "      <th>0</th>\n",
       "      <th>1</th>\n",
       "      <th>2</th>\n",
       "      <th>3</th>\n",
       "    </tr>\n",
       "  </thead>\n",
       "  <tbody>\n",
       "    <tr>\n",
       "      <th>0</th>\n",
       "      <td>1</td>\n",
       "      <td>1</td>\n",
       "      <td>0</td>\n",
       "      <td>3</td>\n",
       "    </tr>\n",
       "    <tr>\n",
       "      <th>1</th>\n",
       "      <td>4</td>\n",
       "      <td>1</td>\n",
       "      <td>3</td>\n",
       "      <td>0</td>\n",
       "    </tr>\n",
       "    <tr>\n",
       "      <th>2</th>\n",
       "      <td>1</td>\n",
       "      <td>3</td>\n",
       "      <td>4</td>\n",
       "      <td>2</td>\n",
       "    </tr>\n",
       "    <tr>\n",
       "      <th>3</th>\n",
       "      <td>1</td>\n",
       "      <td>1</td>\n",
       "      <td>0</td>\n",
       "      <td>4</td>\n",
       "    </tr>\n",
       "  </tbody>\n",
       "</table>\n",
       "</div>"
      ],
      "text/plain": [
       "   0  1  2  3\n",
       "0  1  1  0  3\n",
       "1  4  1  3  0\n",
       "2  1  3  4  2\n",
       "3  1  1  0  4"
      ]
     },
     "execution_count": 33,
     "metadata": {},
     "output_type": "execute_result"
    }
   ],
   "source": [
    "df_a"
   ]
  },
  {
   "cell_type": "code",
   "execution_count": 34,
   "id": "7403ce6b-e7cb-440f-aa70-6be98f51a5aa",
   "metadata": {},
   "outputs": [
    {
     "data": {
      "text/html": [
       "<div>\n",
       "<style scoped>\n",
       "    .dataframe tbody tr th:only-of-type {\n",
       "        vertical-align: middle;\n",
       "    }\n",
       "\n",
       "    .dataframe tbody tr th {\n",
       "        vertical-align: top;\n",
       "    }\n",
       "\n",
       "    .dataframe thead th {\n",
       "        text-align: right;\n",
       "    }\n",
       "</style>\n",
       "<table border=\"1\" class=\"dataframe\">\n",
       "  <thead>\n",
       "    <tr style=\"text-align: right;\">\n",
       "      <th></th>\n",
       "      <th>0</th>\n",
       "      <th>1</th>\n",
       "      <th>2</th>\n",
       "      <th>3</th>\n",
       "    </tr>\n",
       "  </thead>\n",
       "  <tbody>\n",
       "    <tr>\n",
       "      <th>0</th>\n",
       "      <td>4</td>\n",
       "      <td>4</td>\n",
       "      <td>4</td>\n",
       "      <td>4</td>\n",
       "    </tr>\n",
       "    <tr>\n",
       "      <th>1</th>\n",
       "      <td>1</td>\n",
       "      <td>3</td>\n",
       "      <td>3</td>\n",
       "      <td>0</td>\n",
       "    </tr>\n",
       "    <tr>\n",
       "      <th>2</th>\n",
       "      <td>1</td>\n",
       "      <td>0</td>\n",
       "      <td>4</td>\n",
       "      <td>1</td>\n",
       "    </tr>\n",
       "    <tr>\n",
       "      <th>3</th>\n",
       "      <td>3</td>\n",
       "      <td>3</td>\n",
       "      <td>0</td>\n",
       "      <td>2</td>\n",
       "    </tr>\n",
       "  </tbody>\n",
       "</table>\n",
       "</div>"
      ],
      "text/plain": [
       "   0  1  2  3\n",
       "0  4  4  4  4\n",
       "1  1  3  3  0\n",
       "2  1  0  4  1\n",
       "3  3  3  0  2"
      ]
     },
     "execution_count": 34,
     "metadata": {},
     "output_type": "execute_result"
    }
   ],
   "source": [
    "df_b"
   ]
  },
  {
   "cell_type": "code",
   "execution_count": 35,
   "id": "0133fa76-d9e3-4631-bc56-9c4b4e626902",
   "metadata": {},
   "outputs": [
    {
     "data": {
      "text/html": [
       "<div>\n",
       "<style scoped>\n",
       "    .dataframe tbody tr th:only-of-type {\n",
       "        vertical-align: middle;\n",
       "    }\n",
       "\n",
       "    .dataframe tbody tr th {\n",
       "        vertical-align: top;\n",
       "    }\n",
       "\n",
       "    .dataframe thead th {\n",
       "        text-align: right;\n",
       "    }\n",
       "</style>\n",
       "<table border=\"1\" class=\"dataframe\">\n",
       "  <thead>\n",
       "    <tr style=\"text-align: right;\">\n",
       "      <th></th>\n",
       "      <th>0</th>\n",
       "      <th>1</th>\n",
       "      <th>2</th>\n",
       "      <th>3</th>\n",
       "    </tr>\n",
       "  </thead>\n",
       "  <tbody>\n",
       "    <tr>\n",
       "      <th>0</th>\n",
       "      <td>5</td>\n",
       "      <td>5</td>\n",
       "      <td>4</td>\n",
       "      <td>7</td>\n",
       "    </tr>\n",
       "    <tr>\n",
       "      <th>1</th>\n",
       "      <td>5</td>\n",
       "      <td>4</td>\n",
       "      <td>6</td>\n",
       "      <td>0</td>\n",
       "    </tr>\n",
       "    <tr>\n",
       "      <th>2</th>\n",
       "      <td>2</td>\n",
       "      <td>3</td>\n",
       "      <td>8</td>\n",
       "      <td>3</td>\n",
       "    </tr>\n",
       "    <tr>\n",
       "      <th>3</th>\n",
       "      <td>4</td>\n",
       "      <td>4</td>\n",
       "      <td>0</td>\n",
       "      <td>6</td>\n",
       "    </tr>\n",
       "  </tbody>\n",
       "</table>\n",
       "</div>"
      ],
      "text/plain": [
       "   0  1  2  3\n",
       "0  5  5  4  7\n",
       "1  5  4  6  0\n",
       "2  2  3  8  3\n",
       "3  4  4  0  6"
      ]
     },
     "execution_count": 35,
     "metadata": {},
     "output_type": "execute_result"
    }
   ],
   "source": [
    "df_a + df_b"
   ]
  },
  {
   "cell_type": "code",
   "execution_count": 36,
   "id": "1d26a778-51cd-49f6-abe4-7d6ffa55163c",
   "metadata": {},
   "outputs": [
    {
     "data": {
      "text/html": [
       "<div>\n",
       "<style scoped>\n",
       "    .dataframe tbody tr th:only-of-type {\n",
       "        vertical-align: middle;\n",
       "    }\n",
       "\n",
       "    .dataframe tbody tr th {\n",
       "        vertical-align: top;\n",
       "    }\n",
       "\n",
       "    .dataframe thead th {\n",
       "        text-align: right;\n",
       "    }\n",
       "</style>\n",
       "<table border=\"1\" class=\"dataframe\">\n",
       "  <thead>\n",
       "    <tr style=\"text-align: right;\">\n",
       "      <th></th>\n",
       "      <th>0</th>\n",
       "      <th>1</th>\n",
       "      <th>2</th>\n",
       "      <th>3</th>\n",
       "    </tr>\n",
       "  </thead>\n",
       "  <tbody>\n",
       "    <tr>\n",
       "      <th>0</th>\n",
       "      <td>-3</td>\n",
       "      <td>-3</td>\n",
       "      <td>-4</td>\n",
       "      <td>-1</td>\n",
       "    </tr>\n",
       "    <tr>\n",
       "      <th>1</th>\n",
       "      <td>3</td>\n",
       "      <td>-2</td>\n",
       "      <td>0</td>\n",
       "      <td>0</td>\n",
       "    </tr>\n",
       "    <tr>\n",
       "      <th>2</th>\n",
       "      <td>0</td>\n",
       "      <td>3</td>\n",
       "      <td>0</td>\n",
       "      <td>1</td>\n",
       "    </tr>\n",
       "    <tr>\n",
       "      <th>3</th>\n",
       "      <td>-2</td>\n",
       "      <td>-2</td>\n",
       "      <td>0</td>\n",
       "      <td>2</td>\n",
       "    </tr>\n",
       "  </tbody>\n",
       "</table>\n",
       "</div>"
      ],
      "text/plain": [
       "   0  1  2  3\n",
       "0 -3 -3 -4 -1\n",
       "1  3 -2  0  0\n",
       "2  0  3  0  1\n",
       "3 -2 -2  0  2"
      ]
     },
     "execution_count": 36,
     "metadata": {},
     "output_type": "execute_result"
    }
   ],
   "source": [
    "df_a - df_b"
   ]
  },
  {
   "cell_type": "code",
   "execution_count": 37,
   "id": "78b89f94-e40b-4738-aca7-5d5184ef13b2",
   "metadata": {},
   "outputs": [
    {
     "data": {
      "text/html": [
       "<div>\n",
       "<style scoped>\n",
       "    .dataframe tbody tr th:only-of-type {\n",
       "        vertical-align: middle;\n",
       "    }\n",
       "\n",
       "    .dataframe tbody tr th {\n",
       "        vertical-align: top;\n",
       "    }\n",
       "\n",
       "    .dataframe thead th {\n",
       "        text-align: right;\n",
       "    }\n",
       "</style>\n",
       "<table border=\"1\" class=\"dataframe\">\n",
       "  <thead>\n",
       "    <tr style=\"text-align: right;\">\n",
       "      <th></th>\n",
       "      <th>0</th>\n",
       "      <th>1</th>\n",
       "      <th>2</th>\n",
       "      <th>3</th>\n",
       "    </tr>\n",
       "  </thead>\n",
       "  <tbody>\n",
       "    <tr>\n",
       "      <th>0</th>\n",
       "      <td>4</td>\n",
       "      <td>4</td>\n",
       "      <td>0</td>\n",
       "      <td>12</td>\n",
       "    </tr>\n",
       "    <tr>\n",
       "      <th>1</th>\n",
       "      <td>4</td>\n",
       "      <td>3</td>\n",
       "      <td>9</td>\n",
       "      <td>0</td>\n",
       "    </tr>\n",
       "    <tr>\n",
       "      <th>2</th>\n",
       "      <td>1</td>\n",
       "      <td>0</td>\n",
       "      <td>16</td>\n",
       "      <td>2</td>\n",
       "    </tr>\n",
       "    <tr>\n",
       "      <th>3</th>\n",
       "      <td>3</td>\n",
       "      <td>3</td>\n",
       "      <td>0</td>\n",
       "      <td>8</td>\n",
       "    </tr>\n",
       "  </tbody>\n",
       "</table>\n",
       "</div>"
      ],
      "text/plain": [
       "   0  1   2   3\n",
       "0  4  4   0  12\n",
       "1  4  3   9   0\n",
       "2  1  0  16   2\n",
       "3  3  3   0   8"
      ]
     },
     "execution_count": 37,
     "metadata": {},
     "output_type": "execute_result"
    }
   ],
   "source": [
    "df_a * df_b"
   ]
  },
  {
   "cell_type": "code",
   "execution_count": 38,
   "id": "c06b2721-437d-4094-8ec6-c9ae685ae757",
   "metadata": {},
   "outputs": [
    {
     "data": {
      "text/html": [
       "<div>\n",
       "<style scoped>\n",
       "    .dataframe tbody tr th:only-of-type {\n",
       "        vertical-align: middle;\n",
       "    }\n",
       "\n",
       "    .dataframe tbody tr th {\n",
       "        vertical-align: top;\n",
       "    }\n",
       "\n",
       "    .dataframe thead th {\n",
       "        text-align: right;\n",
       "    }\n",
       "</style>\n",
       "<table border=\"1\" class=\"dataframe\">\n",
       "  <thead>\n",
       "    <tr style=\"text-align: right;\">\n",
       "      <th></th>\n",
       "      <th>0</th>\n",
       "      <th>1</th>\n",
       "      <th>2</th>\n",
       "      <th>3</th>\n",
       "    </tr>\n",
       "  </thead>\n",
       "  <tbody>\n",
       "    <tr>\n",
       "      <th>0</th>\n",
       "      <td>0.250000</td>\n",
       "      <td>0.250000</td>\n",
       "      <td>0.0</td>\n",
       "      <td>0.75</td>\n",
       "    </tr>\n",
       "    <tr>\n",
       "      <th>1</th>\n",
       "      <td>4.000000</td>\n",
       "      <td>0.333333</td>\n",
       "      <td>1.0</td>\n",
       "      <td>NaN</td>\n",
       "    </tr>\n",
       "    <tr>\n",
       "      <th>2</th>\n",
       "      <td>1.000000</td>\n",
       "      <td>inf</td>\n",
       "      <td>1.0</td>\n",
       "      <td>2.00</td>\n",
       "    </tr>\n",
       "    <tr>\n",
       "      <th>3</th>\n",
       "      <td>0.333333</td>\n",
       "      <td>0.333333</td>\n",
       "      <td>NaN</td>\n",
       "      <td>2.00</td>\n",
       "    </tr>\n",
       "  </tbody>\n",
       "</table>\n",
       "</div>"
      ],
      "text/plain": [
       "          0         1    2     3\n",
       "0  0.250000  0.250000  0.0  0.75\n",
       "1  4.000000  0.333333  1.0   NaN\n",
       "2  1.000000       inf  1.0  2.00\n",
       "3  0.333333  0.333333  NaN  2.00"
      ]
     },
     "execution_count": 38,
     "metadata": {},
     "output_type": "execute_result"
    }
   ],
   "source": [
    "df_a / df_b"
   ]
  },
  {
   "cell_type": "code",
   "execution_count": 39,
   "id": "5ee65ca9-7ec2-4b00-a034-2a2180b12a45",
   "metadata": {},
   "outputs": [
    {
     "data": {
      "text/html": [
       "<div>\n",
       "<style scoped>\n",
       "    .dataframe tbody tr th:only-of-type {\n",
       "        vertical-align: middle;\n",
       "    }\n",
       "\n",
       "    .dataframe tbody tr th {\n",
       "        vertical-align: top;\n",
       "    }\n",
       "\n",
       "    .dataframe thead th {\n",
       "        text-align: right;\n",
       "    }\n",
       "</style>\n",
       "<table border=\"1\" class=\"dataframe\">\n",
       "  <thead>\n",
       "    <tr style=\"text-align: right;\">\n",
       "      <th></th>\n",
       "      <th>0</th>\n",
       "      <th>1</th>\n",
       "      <th>2</th>\n",
       "      <th>3</th>\n",
       "    </tr>\n",
       "  </thead>\n",
       "  <tbody>\n",
       "    <tr>\n",
       "      <th>0</th>\n",
       "      <td>1</td>\n",
       "      <td>1</td>\n",
       "      <td>0</td>\n",
       "      <td>81</td>\n",
       "    </tr>\n",
       "    <tr>\n",
       "      <th>1</th>\n",
       "      <td>4</td>\n",
       "      <td>1</td>\n",
       "      <td>27</td>\n",
       "      <td>1</td>\n",
       "    </tr>\n",
       "    <tr>\n",
       "      <th>2</th>\n",
       "      <td>1</td>\n",
       "      <td>1</td>\n",
       "      <td>256</td>\n",
       "      <td>2</td>\n",
       "    </tr>\n",
       "    <tr>\n",
       "      <th>3</th>\n",
       "      <td>1</td>\n",
       "      <td>1</td>\n",
       "      <td>1</td>\n",
       "      <td>16</td>\n",
       "    </tr>\n",
       "  </tbody>\n",
       "</table>\n",
       "</div>"
      ],
      "text/plain": [
       "   0  1    2   3\n",
       "0  1  1    0  81\n",
       "1  4  1   27   1\n",
       "2  1  1  256   2\n",
       "3  1  1    1  16"
      ]
     },
     "execution_count": 39,
     "metadata": {},
     "output_type": "execute_result"
    }
   ],
   "source": [
    "df_a ** df_b"
   ]
  },
  {
   "cell_type": "code",
   "execution_count": 40,
   "id": "ca85b48f-9af2-4457-952e-cf358fe8daaf",
   "metadata": {},
   "outputs": [
    {
     "data": {
      "text/html": [
       "<div>\n",
       "<style scoped>\n",
       "    .dataframe tbody tr th:only-of-type {\n",
       "        vertical-align: middle;\n",
       "    }\n",
       "\n",
       "    .dataframe tbody tr th {\n",
       "        vertical-align: top;\n",
       "    }\n",
       "\n",
       "    .dataframe thead th {\n",
       "        text-align: right;\n",
       "    }\n",
       "</style>\n",
       "<table border=\"1\" class=\"dataframe\">\n",
       "  <thead>\n",
       "    <tr style=\"text-align: right;\">\n",
       "      <th></th>\n",
       "      <th>0</th>\n",
       "      <th>1</th>\n",
       "      <th>2</th>\n",
       "      <th>3</th>\n",
       "    </tr>\n",
       "  </thead>\n",
       "  <tbody>\n",
       "    <tr>\n",
       "      <th>0</th>\n",
       "      <td>1.0</td>\n",
       "      <td>1.0</td>\n",
       "      <td>0.0</td>\n",
       "      <td>3.0</td>\n",
       "    </tr>\n",
       "    <tr>\n",
       "      <th>1</th>\n",
       "      <td>0.0</td>\n",
       "      <td>1.0</td>\n",
       "      <td>0.0</td>\n",
       "      <td>NaN</td>\n",
       "    </tr>\n",
       "    <tr>\n",
       "      <th>2</th>\n",
       "      <td>0.0</td>\n",
       "      <td>NaN</td>\n",
       "      <td>0.0</td>\n",
       "      <td>0.0</td>\n",
       "    </tr>\n",
       "    <tr>\n",
       "      <th>3</th>\n",
       "      <td>1.0</td>\n",
       "      <td>1.0</td>\n",
       "      <td>NaN</td>\n",
       "      <td>0.0</td>\n",
       "    </tr>\n",
       "  </tbody>\n",
       "</table>\n",
       "</div>"
      ],
      "text/plain": [
       "     0    1    2    3\n",
       "0  1.0  1.0  0.0  3.0\n",
       "1  0.0  1.0  0.0  NaN\n",
       "2  0.0  NaN  0.0  0.0\n",
       "3  1.0  1.0  NaN  0.0"
      ]
     },
     "execution_count": 40,
     "metadata": {},
     "output_type": "execute_result"
    }
   ],
   "source": [
    "df_a % df_b"
   ]
  },
  {
   "cell_type": "code",
   "execution_count": 41,
   "id": "c226de08-9803-44d8-9152-6dd39430976c",
   "metadata": {},
   "outputs": [
    {
     "data": {
      "text/html": [
       "<div>\n",
       "<style scoped>\n",
       "    .dataframe tbody tr th:only-of-type {\n",
       "        vertical-align: middle;\n",
       "    }\n",
       "\n",
       "    .dataframe tbody tr th {\n",
       "        vertical-align: top;\n",
       "    }\n",
       "\n",
       "    .dataframe thead th {\n",
       "        text-align: right;\n",
       "    }\n",
       "</style>\n",
       "<table border=\"1\" class=\"dataframe\">\n",
       "  <thead>\n",
       "    <tr style=\"text-align: right;\">\n",
       "      <th></th>\n",
       "      <th>0</th>\n",
       "      <th>1</th>\n",
       "      <th>2</th>\n",
       "      <th>3</th>\n",
       "    </tr>\n",
       "  </thead>\n",
       "  <tbody>\n",
       "    <tr>\n",
       "      <th>0</th>\n",
       "      <td>0.0</td>\n",
       "      <td>0.0</td>\n",
       "      <td>0.0</td>\n",
       "      <td>0.0</td>\n",
       "    </tr>\n",
       "    <tr>\n",
       "      <th>1</th>\n",
       "      <td>4.0</td>\n",
       "      <td>0.0</td>\n",
       "      <td>1.0</td>\n",
       "      <td>NaN</td>\n",
       "    </tr>\n",
       "    <tr>\n",
       "      <th>2</th>\n",
       "      <td>1.0</td>\n",
       "      <td>inf</td>\n",
       "      <td>1.0</td>\n",
       "      <td>2.0</td>\n",
       "    </tr>\n",
       "    <tr>\n",
       "      <th>3</th>\n",
       "      <td>0.0</td>\n",
       "      <td>0.0</td>\n",
       "      <td>NaN</td>\n",
       "      <td>2.0</td>\n",
       "    </tr>\n",
       "  </tbody>\n",
       "</table>\n",
       "</div>"
      ],
      "text/plain": [
       "     0    1    2    3\n",
       "0  0.0  0.0  0.0  0.0\n",
       "1  4.0  0.0  1.0  NaN\n",
       "2  1.0  inf  1.0  2.0\n",
       "3  0.0  0.0  NaN  2.0"
      ]
     },
     "execution_count": 41,
     "metadata": {},
     "output_type": "execute_result"
    }
   ],
   "source": [
    "df_a // df_b"
   ]
  },
  {
   "cell_type": "code",
   "execution_count": 42,
   "id": "79ec840f-c010-4732-8cfb-112837f531e6",
   "metadata": {},
   "outputs": [
    {
     "data": {
      "text/html": [
       "<div>\n",
       "<style scoped>\n",
       "    .dataframe tbody tr th:only-of-type {\n",
       "        vertical-align: middle;\n",
       "    }\n",
       "\n",
       "    .dataframe tbody tr th {\n",
       "        vertical-align: top;\n",
       "    }\n",
       "\n",
       "    .dataframe thead th {\n",
       "        text-align: right;\n",
       "    }\n",
       "</style>\n",
       "<table border=\"1\" class=\"dataframe\">\n",
       "  <thead>\n",
       "    <tr style=\"text-align: right;\">\n",
       "      <th></th>\n",
       "      <th>0</th>\n",
       "      <th>1</th>\n",
       "      <th>2</th>\n",
       "      <th>3</th>\n",
       "    </tr>\n",
       "  </thead>\n",
       "  <tbody>\n",
       "    <tr>\n",
       "      <th>0</th>\n",
       "      <td>5</td>\n",
       "      <td>5</td>\n",
       "      <td>4</td>\n",
       "      <td>7</td>\n",
       "    </tr>\n",
       "    <tr>\n",
       "      <th>1</th>\n",
       "      <td>5</td>\n",
       "      <td>4</td>\n",
       "      <td>6</td>\n",
       "      <td>0</td>\n",
       "    </tr>\n",
       "    <tr>\n",
       "      <th>2</th>\n",
       "      <td>2</td>\n",
       "      <td>3</td>\n",
       "      <td>8</td>\n",
       "      <td>3</td>\n",
       "    </tr>\n",
       "    <tr>\n",
       "      <th>3</th>\n",
       "      <td>4</td>\n",
       "      <td>4</td>\n",
       "      <td>0</td>\n",
       "      <td>6</td>\n",
       "    </tr>\n",
       "  </tbody>\n",
       "</table>\n",
       "</div>"
      ],
      "text/plain": [
       "   0  1  2  3\n",
       "0  5  5  4  7\n",
       "1  5  4  6  0\n",
       "2  2  3  8  3\n",
       "3  4  4  0  6"
      ]
     },
     "execution_count": 42,
     "metadata": {},
     "output_type": "execute_result"
    }
   ],
   "source": [
    "pd.DataFrame.add(df_a, df_b) # df_a + df_b"
   ]
  },
  {
   "cell_type": "code",
   "execution_count": 43,
   "id": "9f69b7db-9eaa-4818-bc86-51118c4d4626",
   "metadata": {},
   "outputs": [
    {
     "data": {
      "text/html": [
       "<div>\n",
       "<style scoped>\n",
       "    .dataframe tbody tr th:only-of-type {\n",
       "        vertical-align: middle;\n",
       "    }\n",
       "\n",
       "    .dataframe tbody tr th {\n",
       "        vertical-align: top;\n",
       "    }\n",
       "\n",
       "    .dataframe thead th {\n",
       "        text-align: right;\n",
       "    }\n",
       "</style>\n",
       "<table border=\"1\" class=\"dataframe\">\n",
       "  <thead>\n",
       "    <tr style=\"text-align: right;\">\n",
       "      <th></th>\n",
       "      <th>0</th>\n",
       "      <th>1</th>\n",
       "      <th>2</th>\n",
       "      <th>3</th>\n",
       "    </tr>\n",
       "  </thead>\n",
       "  <tbody>\n",
       "    <tr>\n",
       "      <th>0</th>\n",
       "      <td>-3</td>\n",
       "      <td>-3</td>\n",
       "      <td>-4</td>\n",
       "      <td>-1</td>\n",
       "    </tr>\n",
       "    <tr>\n",
       "      <th>1</th>\n",
       "      <td>3</td>\n",
       "      <td>-2</td>\n",
       "      <td>0</td>\n",
       "      <td>0</td>\n",
       "    </tr>\n",
       "    <tr>\n",
       "      <th>2</th>\n",
       "      <td>0</td>\n",
       "      <td>3</td>\n",
       "      <td>0</td>\n",
       "      <td>1</td>\n",
       "    </tr>\n",
       "    <tr>\n",
       "      <th>3</th>\n",
       "      <td>-2</td>\n",
       "      <td>-2</td>\n",
       "      <td>0</td>\n",
       "      <td>2</td>\n",
       "    </tr>\n",
       "  </tbody>\n",
       "</table>\n",
       "</div>"
      ],
      "text/plain": [
       "   0  1  2  3\n",
       "0 -3 -3 -4 -1\n",
       "1  3 -2  0  0\n",
       "2  0  3  0  1\n",
       "3 -2 -2  0  2"
      ]
     },
     "execution_count": 43,
     "metadata": {},
     "output_type": "execute_result"
    }
   ],
   "source": [
    "pd.DataFrame.sub(df_a, df_b) # df_a - df_b"
   ]
  },
  {
   "cell_type": "code",
   "execution_count": 44,
   "id": "4439a1a3-3f9d-452a-b1b3-859bc60e5144",
   "metadata": {},
   "outputs": [
    {
     "data": {
      "text/html": [
       "<div>\n",
       "<style scoped>\n",
       "    .dataframe tbody tr th:only-of-type {\n",
       "        vertical-align: middle;\n",
       "    }\n",
       "\n",
       "    .dataframe tbody tr th {\n",
       "        vertical-align: top;\n",
       "    }\n",
       "\n",
       "    .dataframe thead th {\n",
       "        text-align: right;\n",
       "    }\n",
       "</style>\n",
       "<table border=\"1\" class=\"dataframe\">\n",
       "  <thead>\n",
       "    <tr style=\"text-align: right;\">\n",
       "      <th></th>\n",
       "      <th>0</th>\n",
       "      <th>1</th>\n",
       "      <th>2</th>\n",
       "      <th>3</th>\n",
       "    </tr>\n",
       "  </thead>\n",
       "  <tbody>\n",
       "    <tr>\n",
       "      <th>0</th>\n",
       "      <td>4</td>\n",
       "      <td>4</td>\n",
       "      <td>0</td>\n",
       "      <td>12</td>\n",
       "    </tr>\n",
       "    <tr>\n",
       "      <th>1</th>\n",
       "      <td>4</td>\n",
       "      <td>3</td>\n",
       "      <td>9</td>\n",
       "      <td>0</td>\n",
       "    </tr>\n",
       "    <tr>\n",
       "      <th>2</th>\n",
       "      <td>1</td>\n",
       "      <td>0</td>\n",
       "      <td>16</td>\n",
       "      <td>2</td>\n",
       "    </tr>\n",
       "    <tr>\n",
       "      <th>3</th>\n",
       "      <td>3</td>\n",
       "      <td>3</td>\n",
       "      <td>0</td>\n",
       "      <td>8</td>\n",
       "    </tr>\n",
       "  </tbody>\n",
       "</table>\n",
       "</div>"
      ],
      "text/plain": [
       "   0  1   2   3\n",
       "0  4  4   0  12\n",
       "1  4  3   9   0\n",
       "2  1  0  16   2\n",
       "3  3  3   0   8"
      ]
     },
     "execution_count": 44,
     "metadata": {},
     "output_type": "execute_result"
    }
   ],
   "source": [
    "pd.DataFrame.multiply(df_a, df_b) # df_a * df_b"
   ]
  },
  {
   "cell_type": "code",
   "execution_count": 45,
   "id": "243276b7-8f37-41ab-9830-cbcc580cc16c",
   "metadata": {},
   "outputs": [
    {
     "data": {
      "text/html": [
       "<div>\n",
       "<style scoped>\n",
       "    .dataframe tbody tr th:only-of-type {\n",
       "        vertical-align: middle;\n",
       "    }\n",
       "\n",
       "    .dataframe tbody tr th {\n",
       "        vertical-align: top;\n",
       "    }\n",
       "\n",
       "    .dataframe thead th {\n",
       "        text-align: right;\n",
       "    }\n",
       "</style>\n",
       "<table border=\"1\" class=\"dataframe\">\n",
       "  <thead>\n",
       "    <tr style=\"text-align: right;\">\n",
       "      <th></th>\n",
       "      <th>0</th>\n",
       "      <th>1</th>\n",
       "      <th>2</th>\n",
       "      <th>3</th>\n",
       "    </tr>\n",
       "  </thead>\n",
       "  <tbody>\n",
       "    <tr>\n",
       "      <th>0</th>\n",
       "      <td>4</td>\n",
       "      <td>4</td>\n",
       "      <td>0</td>\n",
       "      <td>12</td>\n",
       "    </tr>\n",
       "    <tr>\n",
       "      <th>1</th>\n",
       "      <td>4</td>\n",
       "      <td>3</td>\n",
       "      <td>9</td>\n",
       "      <td>0</td>\n",
       "    </tr>\n",
       "    <tr>\n",
       "      <th>2</th>\n",
       "      <td>1</td>\n",
       "      <td>0</td>\n",
       "      <td>16</td>\n",
       "      <td>2</td>\n",
       "    </tr>\n",
       "    <tr>\n",
       "      <th>3</th>\n",
       "      <td>3</td>\n",
       "      <td>3</td>\n",
       "      <td>0</td>\n",
       "      <td>8</td>\n",
       "    </tr>\n",
       "  </tbody>\n",
       "</table>\n",
       "</div>"
      ],
      "text/plain": [
       "   0  1   2   3\n",
       "0  4  4   0  12\n",
       "1  4  3   9   0\n",
       "2  1  0  16   2\n",
       "3  3  3   0   8"
      ]
     },
     "execution_count": 45,
     "metadata": {},
     "output_type": "execute_result"
    }
   ],
   "source": [
    "pd.DataFrame.mul(df_a, df_b) # df_a * df_b"
   ]
  },
  {
   "cell_type": "code",
   "execution_count": 46,
   "id": "f84a329d-5730-4a8f-930e-3c43dc1f4c4c",
   "metadata": {},
   "outputs": [
    {
     "data": {
      "text/html": [
       "<div>\n",
       "<style scoped>\n",
       "    .dataframe tbody tr th:only-of-type {\n",
       "        vertical-align: middle;\n",
       "    }\n",
       "\n",
       "    .dataframe tbody tr th {\n",
       "        vertical-align: top;\n",
       "    }\n",
       "\n",
       "    .dataframe thead th {\n",
       "        text-align: right;\n",
       "    }\n",
       "</style>\n",
       "<table border=\"1\" class=\"dataframe\">\n",
       "  <thead>\n",
       "    <tr style=\"text-align: right;\">\n",
       "      <th></th>\n",
       "      <th>0</th>\n",
       "      <th>1</th>\n",
       "      <th>2</th>\n",
       "      <th>3</th>\n",
       "    </tr>\n",
       "  </thead>\n",
       "  <tbody>\n",
       "    <tr>\n",
       "      <th>0</th>\n",
       "      <td>0.250000</td>\n",
       "      <td>0.250000</td>\n",
       "      <td>0.0</td>\n",
       "      <td>0.75</td>\n",
       "    </tr>\n",
       "    <tr>\n",
       "      <th>1</th>\n",
       "      <td>4.000000</td>\n",
       "      <td>0.333333</td>\n",
       "      <td>1.0</td>\n",
       "      <td>NaN</td>\n",
       "    </tr>\n",
       "    <tr>\n",
       "      <th>2</th>\n",
       "      <td>1.000000</td>\n",
       "      <td>inf</td>\n",
       "      <td>1.0</td>\n",
       "      <td>2.00</td>\n",
       "    </tr>\n",
       "    <tr>\n",
       "      <th>3</th>\n",
       "      <td>0.333333</td>\n",
       "      <td>0.333333</td>\n",
       "      <td>NaN</td>\n",
       "      <td>2.00</td>\n",
       "    </tr>\n",
       "  </tbody>\n",
       "</table>\n",
       "</div>"
      ],
      "text/plain": [
       "          0         1    2     3\n",
       "0  0.250000  0.250000  0.0  0.75\n",
       "1  4.000000  0.333333  1.0   NaN\n",
       "2  1.000000       inf  1.0  2.00\n",
       "3  0.333333  0.333333  NaN  2.00"
      ]
     },
     "execution_count": 46,
     "metadata": {},
     "output_type": "execute_result"
    }
   ],
   "source": [
    "pd.DataFrame.divide(df_a, df_b) # # df_a / df_b"
   ]
  },
  {
   "cell_type": "code",
   "execution_count": 47,
   "id": "0ad9b534-e192-40c1-92ba-e3ff6fcd4cad",
   "metadata": {},
   "outputs": [
    {
     "data": {
      "text/html": [
       "<div>\n",
       "<style scoped>\n",
       "    .dataframe tbody tr th:only-of-type {\n",
       "        vertical-align: middle;\n",
       "    }\n",
       "\n",
       "    .dataframe tbody tr th {\n",
       "        vertical-align: top;\n",
       "    }\n",
       "\n",
       "    .dataframe thead th {\n",
       "        text-align: right;\n",
       "    }\n",
       "</style>\n",
       "<table border=\"1\" class=\"dataframe\">\n",
       "  <thead>\n",
       "    <tr style=\"text-align: right;\">\n",
       "      <th></th>\n",
       "      <th>0</th>\n",
       "      <th>1</th>\n",
       "      <th>2</th>\n",
       "      <th>3</th>\n",
       "    </tr>\n",
       "  </thead>\n",
       "  <tbody>\n",
       "    <tr>\n",
       "      <th>0</th>\n",
       "      <td>0.250000</td>\n",
       "      <td>0.250000</td>\n",
       "      <td>0.0</td>\n",
       "      <td>0.75</td>\n",
       "    </tr>\n",
       "    <tr>\n",
       "      <th>1</th>\n",
       "      <td>4.000000</td>\n",
       "      <td>0.333333</td>\n",
       "      <td>1.0</td>\n",
       "      <td>NaN</td>\n",
       "    </tr>\n",
       "    <tr>\n",
       "      <th>2</th>\n",
       "      <td>1.000000</td>\n",
       "      <td>inf</td>\n",
       "      <td>1.0</td>\n",
       "      <td>2.00</td>\n",
       "    </tr>\n",
       "    <tr>\n",
       "      <th>3</th>\n",
       "      <td>0.333333</td>\n",
       "      <td>0.333333</td>\n",
       "      <td>NaN</td>\n",
       "      <td>2.00</td>\n",
       "    </tr>\n",
       "  </tbody>\n",
       "</table>\n",
       "</div>"
      ],
      "text/plain": [
       "          0         1    2     3\n",
       "0  0.250000  0.250000  0.0  0.75\n",
       "1  4.000000  0.333333  1.0   NaN\n",
       "2  1.000000       inf  1.0  2.00\n",
       "3  0.333333  0.333333  NaN  2.00"
      ]
     },
     "execution_count": 47,
     "metadata": {},
     "output_type": "execute_result"
    }
   ],
   "source": [
    "pd.DataFrame.div(df_a, df_b) # df_a / df_b"
   ]
  },
  {
   "cell_type": "code",
   "execution_count": 48,
   "id": "cd988914-3985-429b-8aca-a6e06d77a196",
   "metadata": {},
   "outputs": [
    {
     "data": {
      "text/html": [
       "<div>\n",
       "<style scoped>\n",
       "    .dataframe tbody tr th:only-of-type {\n",
       "        vertical-align: middle;\n",
       "    }\n",
       "\n",
       "    .dataframe tbody tr th {\n",
       "        vertical-align: top;\n",
       "    }\n",
       "\n",
       "    .dataframe thead th {\n",
       "        text-align: right;\n",
       "    }\n",
       "</style>\n",
       "<table border=\"1\" class=\"dataframe\">\n",
       "  <thead>\n",
       "    <tr style=\"text-align: right;\">\n",
       "      <th></th>\n",
       "      <th>0</th>\n",
       "      <th>1</th>\n",
       "      <th>2</th>\n",
       "      <th>3</th>\n",
       "    </tr>\n",
       "  </thead>\n",
       "  <tbody>\n",
       "    <tr>\n",
       "      <th>0</th>\n",
       "      <td>1</td>\n",
       "      <td>1</td>\n",
       "      <td>0</td>\n",
       "      <td>81</td>\n",
       "    </tr>\n",
       "    <tr>\n",
       "      <th>1</th>\n",
       "      <td>4</td>\n",
       "      <td>1</td>\n",
       "      <td>27</td>\n",
       "      <td>1</td>\n",
       "    </tr>\n",
       "    <tr>\n",
       "      <th>2</th>\n",
       "      <td>1</td>\n",
       "      <td>1</td>\n",
       "      <td>256</td>\n",
       "      <td>2</td>\n",
       "    </tr>\n",
       "    <tr>\n",
       "      <th>3</th>\n",
       "      <td>1</td>\n",
       "      <td>1</td>\n",
       "      <td>1</td>\n",
       "      <td>16</td>\n",
       "    </tr>\n",
       "  </tbody>\n",
       "</table>\n",
       "</div>"
      ],
      "text/plain": [
       "   0  1    2   3\n",
       "0  1  1    0  81\n",
       "1  4  1   27   1\n",
       "2  1  1  256   2\n",
       "3  1  1    1  16"
      ]
     },
     "execution_count": 48,
     "metadata": {},
     "output_type": "execute_result"
    }
   ],
   "source": [
    "pd.DataFrame.pow(df_a, df_b) # df_a ** df_b"
   ]
  },
  {
   "cell_type": "code",
   "execution_count": 49,
   "id": "0c0981f8-e504-4039-919b-075e91d993b0",
   "metadata": {},
   "outputs": [
    {
     "data": {
      "text/html": [
       "<div>\n",
       "<style scoped>\n",
       "    .dataframe tbody tr th:only-of-type {\n",
       "        vertical-align: middle;\n",
       "    }\n",
       "\n",
       "    .dataframe tbody tr th {\n",
       "        vertical-align: top;\n",
       "    }\n",
       "\n",
       "    .dataframe thead th {\n",
       "        text-align: right;\n",
       "    }\n",
       "</style>\n",
       "<table border=\"1\" class=\"dataframe\">\n",
       "  <thead>\n",
       "    <tr style=\"text-align: right;\">\n",
       "      <th></th>\n",
       "      <th>0</th>\n",
       "      <th>1</th>\n",
       "      <th>2</th>\n",
       "      <th>3</th>\n",
       "    </tr>\n",
       "  </thead>\n",
       "  <tbody>\n",
       "    <tr>\n",
       "      <th>0</th>\n",
       "      <td>1.0</td>\n",
       "      <td>1.0</td>\n",
       "      <td>0.0</td>\n",
       "      <td>3.0</td>\n",
       "    </tr>\n",
       "    <tr>\n",
       "      <th>1</th>\n",
       "      <td>0.0</td>\n",
       "      <td>1.0</td>\n",
       "      <td>0.0</td>\n",
       "      <td>NaN</td>\n",
       "    </tr>\n",
       "    <tr>\n",
       "      <th>2</th>\n",
       "      <td>0.0</td>\n",
       "      <td>NaN</td>\n",
       "      <td>0.0</td>\n",
       "      <td>0.0</td>\n",
       "    </tr>\n",
       "    <tr>\n",
       "      <th>3</th>\n",
       "      <td>1.0</td>\n",
       "      <td>1.0</td>\n",
       "      <td>NaN</td>\n",
       "      <td>0.0</td>\n",
       "    </tr>\n",
       "  </tbody>\n",
       "</table>\n",
       "</div>"
      ],
      "text/plain": [
       "     0    1    2    3\n",
       "0  1.0  1.0  0.0  3.0\n",
       "1  0.0  1.0  0.0  NaN\n",
       "2  0.0  NaN  0.0  0.0\n",
       "3  1.0  1.0  NaN  0.0"
      ]
     },
     "execution_count": 49,
     "metadata": {},
     "output_type": "execute_result"
    }
   ],
   "source": [
    "pd.DataFrame.mod(df_a, df_b) # df_a % df_b"
   ]
  },
  {
   "cell_type": "code",
   "execution_count": 50,
   "id": "72336bcb-f171-4df6-9806-b4873e93faa9",
   "metadata": {},
   "outputs": [
    {
     "data": {
      "text/html": [
       "<div>\n",
       "<style scoped>\n",
       "    .dataframe tbody tr th:only-of-type {\n",
       "        vertical-align: middle;\n",
       "    }\n",
       "\n",
       "    .dataframe tbody tr th {\n",
       "        vertical-align: top;\n",
       "    }\n",
       "\n",
       "    .dataframe thead th {\n",
       "        text-align: right;\n",
       "    }\n",
       "</style>\n",
       "<table border=\"1\" class=\"dataframe\">\n",
       "  <thead>\n",
       "    <tr style=\"text-align: right;\">\n",
       "      <th></th>\n",
       "      <th>0</th>\n",
       "      <th>1</th>\n",
       "      <th>2</th>\n",
       "      <th>3</th>\n",
       "    </tr>\n",
       "  </thead>\n",
       "  <tbody>\n",
       "    <tr>\n",
       "      <th>0</th>\n",
       "      <td>0.0</td>\n",
       "      <td>0.0</td>\n",
       "      <td>0.0</td>\n",
       "      <td>0.0</td>\n",
       "    </tr>\n",
       "    <tr>\n",
       "      <th>1</th>\n",
       "      <td>4.0</td>\n",
       "      <td>0.0</td>\n",
       "      <td>1.0</td>\n",
       "      <td>NaN</td>\n",
       "    </tr>\n",
       "    <tr>\n",
       "      <th>2</th>\n",
       "      <td>1.0</td>\n",
       "      <td>inf</td>\n",
       "      <td>1.0</td>\n",
       "      <td>2.0</td>\n",
       "    </tr>\n",
       "    <tr>\n",
       "      <th>3</th>\n",
       "      <td>0.0</td>\n",
       "      <td>0.0</td>\n",
       "      <td>NaN</td>\n",
       "      <td>2.0</td>\n",
       "    </tr>\n",
       "  </tbody>\n",
       "</table>\n",
       "</div>"
      ],
      "text/plain": [
       "     0    1    2    3\n",
       "0  0.0  0.0  0.0  0.0\n",
       "1  4.0  0.0  1.0  NaN\n",
       "2  1.0  inf  1.0  2.0\n",
       "3  0.0  0.0  NaN  2.0"
      ]
     },
     "execution_count": 50,
     "metadata": {},
     "output_type": "execute_result"
    }
   ],
   "source": [
    "pd.DataFrame.floordiv(df_a, df_b) # df_a // df_b"
   ]
  },
  {
   "cell_type": "code",
   "execution_count": 59,
   "id": "3285ada5-fd8a-42e8-8389-297d14ad7d51",
   "metadata": {},
   "outputs": [
    {
     "data": {
      "text/html": [
       "<div>\n",
       "<style scoped>\n",
       "    .dataframe tbody tr th:only-of-type {\n",
       "        vertical-align: middle;\n",
       "    }\n",
       "\n",
       "    .dataframe tbody tr th {\n",
       "        vertical-align: top;\n",
       "    }\n",
       "\n",
       "    .dataframe thead th {\n",
       "        text-align: right;\n",
       "    }\n",
       "</style>\n",
       "<table border=\"1\" class=\"dataframe\">\n",
       "  <thead>\n",
       "    <tr style=\"text-align: right;\">\n",
       "      <th></th>\n",
       "      <th>0</th>\n",
       "      <th>1</th>\n",
       "      <th>2</th>\n",
       "      <th>3</th>\n",
       "    </tr>\n",
       "  </thead>\n",
       "  <tbody>\n",
       "    <tr>\n",
       "      <th>0</th>\n",
       "      <td>1</td>\n",
       "      <td>1</td>\n",
       "      <td>0</td>\n",
       "      <td>3</td>\n",
       "    </tr>\n",
       "    <tr>\n",
       "      <th>1</th>\n",
       "      <td>4</td>\n",
       "      <td>1</td>\n",
       "      <td>3</td>\n",
       "      <td>0</td>\n",
       "    </tr>\n",
       "    <tr>\n",
       "      <th>2</th>\n",
       "      <td>1</td>\n",
       "      <td>3</td>\n",
       "      <td>4</td>\n",
       "      <td>2</td>\n",
       "    </tr>\n",
       "    <tr>\n",
       "      <th>3</th>\n",
       "      <td>1</td>\n",
       "      <td>1</td>\n",
       "      <td>0</td>\n",
       "      <td>4</td>\n",
       "    </tr>\n",
       "  </tbody>\n",
       "</table>\n",
       "</div>"
      ],
      "text/plain": [
       "   0  1  2  3\n",
       "0  1  1  0  3\n",
       "1  4  1  3  0\n",
       "2  1  3  4  2\n",
       "3  1  1  0  4"
      ]
     },
     "execution_count": 59,
     "metadata": {},
     "output_type": "execute_result"
    }
   ],
   "source": [
    "df_a"
   ]
  },
  {
   "cell_type": "code",
   "execution_count": 60,
   "id": "42768a13-dafa-4050-87d4-28193bdc581d",
   "metadata": {},
   "outputs": [
    {
     "data": {
      "text/plain": [
       "0    1\n",
       "1    1\n",
       "2    0\n",
       "3    3\n",
       "Name: 0, dtype: int32"
      ]
     },
     "execution_count": 60,
     "metadata": {},
     "output_type": "execute_result"
    }
   ],
   "source": [
    " df_a.iloc[0]"
   ]
  },
  {
   "cell_type": "code",
   "execution_count": 61,
   "id": "63b4c550-48ef-4c89-baf8-9f71088fda56",
   "metadata": {},
   "outputs": [
    {
     "data": {
      "text/html": [
       "<div>\n",
       "<style scoped>\n",
       "    .dataframe tbody tr th:only-of-type {\n",
       "        vertical-align: middle;\n",
       "    }\n",
       "\n",
       "    .dataframe tbody tr th {\n",
       "        vertical-align: top;\n",
       "    }\n",
       "\n",
       "    .dataframe thead th {\n",
       "        text-align: right;\n",
       "    }\n",
       "</style>\n",
       "<table border=\"1\" class=\"dataframe\">\n",
       "  <thead>\n",
       "    <tr style=\"text-align: right;\">\n",
       "      <th></th>\n",
       "      <th>0</th>\n",
       "      <th>1</th>\n",
       "      <th>2</th>\n",
       "      <th>3</th>\n",
       "    </tr>\n",
       "  </thead>\n",
       "  <tbody>\n",
       "    <tr>\n",
       "      <th>0</th>\n",
       "      <td>2</td>\n",
       "      <td>2</td>\n",
       "      <td>0</td>\n",
       "      <td>6</td>\n",
       "    </tr>\n",
       "    <tr>\n",
       "      <th>1</th>\n",
       "      <td>5</td>\n",
       "      <td>2</td>\n",
       "      <td>3</td>\n",
       "      <td>3</td>\n",
       "    </tr>\n",
       "    <tr>\n",
       "      <th>2</th>\n",
       "      <td>2</td>\n",
       "      <td>4</td>\n",
       "      <td>4</td>\n",
       "      <td>5</td>\n",
       "    </tr>\n",
       "    <tr>\n",
       "      <th>3</th>\n",
       "      <td>2</td>\n",
       "      <td>2</td>\n",
       "      <td>0</td>\n",
       "      <td>7</td>\n",
       "    </tr>\n",
       "  </tbody>\n",
       "</table>\n",
       "</div>"
      ],
      "text/plain": [
       "   0  1  2  3\n",
       "0  2  2  0  6\n",
       "1  5  2  3  3\n",
       "2  2  4  4  5\n",
       "3  2  2  0  7"
      ]
     },
     "execution_count": 61,
     "metadata": {},
     "output_type": "execute_result"
    }
   ],
   "source": [
    "pd.DataFrame.add(df_a, df_a.iloc[0])"
   ]
  },
  {
   "cell_type": "code",
   "execution_count": 68,
   "id": "6dd51043-d788-447a-a98f-47cade34475d",
   "metadata": {},
   "outputs": [
    {
     "data": {
      "text/plain": [
       "0    1\n",
       "1    4\n",
       "2    1\n",
       "3    1\n",
       "Name: 0, dtype: int32"
      ]
     },
     "execution_count": 68,
     "metadata": {},
     "output_type": "execute_result"
    }
   ],
   "source": [
    "df_a.iloc[:, 0]"
   ]
  },
  {
   "cell_type": "code",
   "execution_count": 69,
   "id": "e4dc05ce-e5c4-4d6b-86f9-98c914d9f986",
   "metadata": {},
   "outputs": [
    {
     "data": {
      "text/html": [
       "<div>\n",
       "<style scoped>\n",
       "    .dataframe tbody tr th:only-of-type {\n",
       "        vertical-align: middle;\n",
       "    }\n",
       "\n",
       "    .dataframe tbody tr th {\n",
       "        vertical-align: top;\n",
       "    }\n",
       "\n",
       "    .dataframe thead th {\n",
       "        text-align: right;\n",
       "    }\n",
       "</style>\n",
       "<table border=\"1\" class=\"dataframe\">\n",
       "  <thead>\n",
       "    <tr style=\"text-align: right;\">\n",
       "      <th></th>\n",
       "      <th>0</th>\n",
       "      <th>1</th>\n",
       "      <th>2</th>\n",
       "      <th>3</th>\n",
       "    </tr>\n",
       "  </thead>\n",
       "  <tbody>\n",
       "    <tr>\n",
       "      <th>0</th>\n",
       "      <td>1</td>\n",
       "      <td>1</td>\n",
       "      <td>0</td>\n",
       "      <td>3</td>\n",
       "    </tr>\n",
       "    <tr>\n",
       "      <th>1</th>\n",
       "      <td>4</td>\n",
       "      <td>1</td>\n",
       "      <td>3</td>\n",
       "      <td>0</td>\n",
       "    </tr>\n",
       "    <tr>\n",
       "      <th>2</th>\n",
       "      <td>1</td>\n",
       "      <td>3</td>\n",
       "      <td>4</td>\n",
       "      <td>2</td>\n",
       "    </tr>\n",
       "    <tr>\n",
       "      <th>3</th>\n",
       "      <td>1</td>\n",
       "      <td>1</td>\n",
       "      <td>0</td>\n",
       "      <td>4</td>\n",
       "    </tr>\n",
       "  </tbody>\n",
       "</table>\n",
       "</div>"
      ],
      "text/plain": [
       "   0  1  2  3\n",
       "0  1  1  0  3\n",
       "1  4  1  3  0\n",
       "2  1  3  4  2\n",
       "3  1  1  0  4"
      ]
     },
     "execution_count": 69,
     "metadata": {},
     "output_type": "execute_result"
    }
   ],
   "source": [
    "df_a"
   ]
  },
  {
   "cell_type": "code",
   "execution_count": 70,
   "id": "aa7fe7e4-32c5-4d28-a4d5-79d55712389e",
   "metadata": {},
   "outputs": [
    {
     "data": {
      "text/html": [
       "<div>\n",
       "<style scoped>\n",
       "    .dataframe tbody tr th:only-of-type {\n",
       "        vertical-align: middle;\n",
       "    }\n",
       "\n",
       "    .dataframe tbody tr th {\n",
       "        vertical-align: top;\n",
       "    }\n",
       "\n",
       "    .dataframe thead th {\n",
       "        text-align: right;\n",
       "    }\n",
       "</style>\n",
       "<table border=\"1\" class=\"dataframe\">\n",
       "  <thead>\n",
       "    <tr style=\"text-align: right;\">\n",
       "      <th></th>\n",
       "      <th>0</th>\n",
       "      <th>1</th>\n",
       "      <th>2</th>\n",
       "      <th>3</th>\n",
       "    </tr>\n",
       "  </thead>\n",
       "  <tbody>\n",
       "    <tr>\n",
       "      <th>0</th>\n",
       "      <td>2</td>\n",
       "      <td>5</td>\n",
       "      <td>1</td>\n",
       "      <td>4</td>\n",
       "    </tr>\n",
       "    <tr>\n",
       "      <th>1</th>\n",
       "      <td>5</td>\n",
       "      <td>5</td>\n",
       "      <td>4</td>\n",
       "      <td>1</td>\n",
       "    </tr>\n",
       "    <tr>\n",
       "      <th>2</th>\n",
       "      <td>2</td>\n",
       "      <td>7</td>\n",
       "      <td>5</td>\n",
       "      <td>3</td>\n",
       "    </tr>\n",
       "    <tr>\n",
       "      <th>3</th>\n",
       "      <td>2</td>\n",
       "      <td>5</td>\n",
       "      <td>1</td>\n",
       "      <td>5</td>\n",
       "    </tr>\n",
       "  </tbody>\n",
       "</table>\n",
       "</div>"
      ],
      "text/plain": [
       "   0  1  2  3\n",
       "0  2  5  1  4\n",
       "1  5  5  4  1\n",
       "2  2  7  5  3\n",
       "3  2  5  1  5"
      ]
     },
     "execution_count": 70,
     "metadata": {},
     "output_type": "execute_result"
    }
   ],
   "source": [
    "pd.DataFrame.add(df_a, df_a.iloc[:, 0])"
   ]
  },
  {
   "cell_type": "code",
   "execution_count": 71,
   "id": "a1377e21-b678-4091-97aa-2b8bfd402f87",
   "metadata": {},
   "outputs": [
    {
     "data": {
      "text/plain": [
       "(4,)"
      ]
     },
     "execution_count": 71,
     "metadata": {},
     "output_type": "execute_result"
    }
   ],
   "source": [
    "df_a.iloc[:, 0].shape"
   ]
  },
  {
   "cell_type": "code",
   "execution_count": 72,
   "id": "4ee6d46a-5cfb-4080-acc2-aac595ad1001",
   "metadata": {},
   "outputs": [
    {
     "data": {
      "text/html": [
       "<div>\n",
       "<style scoped>\n",
       "    .dataframe tbody tr th:only-of-type {\n",
       "        vertical-align: middle;\n",
       "    }\n",
       "\n",
       "    .dataframe tbody tr th {\n",
       "        vertical-align: top;\n",
       "    }\n",
       "\n",
       "    .dataframe thead th {\n",
       "        text-align: right;\n",
       "    }\n",
       "</style>\n",
       "<table border=\"1\" class=\"dataframe\">\n",
       "  <thead>\n",
       "    <tr style=\"text-align: right;\">\n",
       "      <th></th>\n",
       "      <th>0</th>\n",
       "      <th>1</th>\n",
       "      <th>2</th>\n",
       "      <th>3</th>\n",
       "    </tr>\n",
       "  </thead>\n",
       "  <tbody>\n",
       "    <tr>\n",
       "      <th>0</th>\n",
       "      <td>1</td>\n",
       "      <td>1</td>\n",
       "      <td>0</td>\n",
       "      <td>3</td>\n",
       "    </tr>\n",
       "    <tr>\n",
       "      <th>1</th>\n",
       "      <td>4</td>\n",
       "      <td>1</td>\n",
       "      <td>3</td>\n",
       "      <td>0</td>\n",
       "    </tr>\n",
       "    <tr>\n",
       "      <th>2</th>\n",
       "      <td>1</td>\n",
       "      <td>3</td>\n",
       "      <td>4</td>\n",
       "      <td>2</td>\n",
       "    </tr>\n",
       "    <tr>\n",
       "      <th>3</th>\n",
       "      <td>1</td>\n",
       "      <td>1</td>\n",
       "      <td>0</td>\n",
       "      <td>4</td>\n",
       "    </tr>\n",
       "  </tbody>\n",
       "</table>\n",
       "</div>"
      ],
      "text/plain": [
       "   0  1  2  3\n",
       "0  1  1  0  3\n",
       "1  4  1  3  0\n",
       "2  1  3  4  2\n",
       "3  1  1  0  4"
      ]
     },
     "execution_count": 72,
     "metadata": {},
     "output_type": "execute_result"
    }
   ],
   "source": [
    "df_a"
   ]
  },
  {
   "cell_type": "code",
   "execution_count": 73,
   "id": "9bd239f8-6244-4c62-ae83-abacbc074d24",
   "metadata": {},
   "outputs": [
    {
     "data": {
      "text/html": [
       "<div>\n",
       "<style scoped>\n",
       "    .dataframe tbody tr th:only-of-type {\n",
       "        vertical-align: middle;\n",
       "    }\n",
       "\n",
       "    .dataframe tbody tr th {\n",
       "        vertical-align: top;\n",
       "    }\n",
       "\n",
       "    .dataframe thead th {\n",
       "        text-align: right;\n",
       "    }\n",
       "</style>\n",
       "<table border=\"1\" class=\"dataframe\">\n",
       "  <thead>\n",
       "    <tr style=\"text-align: right;\">\n",
       "      <th></th>\n",
       "      <th>0</th>\n",
       "      <th>1</th>\n",
       "      <th>2</th>\n",
       "      <th>3</th>\n",
       "    </tr>\n",
       "  </thead>\n",
       "  <tbody>\n",
       "    <tr>\n",
       "      <th>0</th>\n",
       "      <td>2</td>\n",
       "      <td>2</td>\n",
       "      <td>1</td>\n",
       "      <td>4</td>\n",
       "    </tr>\n",
       "    <tr>\n",
       "      <th>1</th>\n",
       "      <td>8</td>\n",
       "      <td>5</td>\n",
       "      <td>7</td>\n",
       "      <td>4</td>\n",
       "    </tr>\n",
       "    <tr>\n",
       "      <th>2</th>\n",
       "      <td>2</td>\n",
       "      <td>4</td>\n",
       "      <td>5</td>\n",
       "      <td>3</td>\n",
       "    </tr>\n",
       "    <tr>\n",
       "      <th>3</th>\n",
       "      <td>2</td>\n",
       "      <td>2</td>\n",
       "      <td>1</td>\n",
       "      <td>5</td>\n",
       "    </tr>\n",
       "  </tbody>\n",
       "</table>\n",
       "</div>"
      ],
      "text/plain": [
       "   0  1  2  3\n",
       "0  2  2  1  4\n",
       "1  8  5  7  4\n",
       "2  2  4  5  3\n",
       "3  2  2  1  5"
      ]
     },
     "execution_count": 73,
     "metadata": {},
     "output_type": "execute_result"
    }
   ],
   "source": [
    "pd.DataFrame.add(df_a, df_a.iloc[:, 0], axis=0)"
   ]
  },
  {
   "cell_type": "markdown",
   "id": "176cbd59-ee02-40d9-8205-329c8c5762b6",
   "metadata": {
    "jp-MarkdownHeadingCollapsed": true
   },
   "source": [
    "<div class='alert alert-info'>\n",
    "    <h2>Episode #07 | Indexing System in DataFrames and Series</h2>\n",
    "</div>"
   ]
  },
  {
   "cell_type": "code",
   "execution_count": null,
   "id": "f2fd09e3-8dd9-4e9a-b3e8-feb6cb28ac62",
   "metadata": {},
   "outputs": [],
   "source": [
    "import pandas as pd\n",
    "\n",
    "db = pd.read_csv('World Temperature - Nasa.csv') # Ep. 2\n",
    "db = db.iloc[1:] # Ep. 2\n",
    "db = db.apply(pd.to_numeric) # Ep. 3\n",
    "db.head()"
   ]
  },
  {
   "cell_type": "markdown",
   "id": "b3d74aac-59a9-4937-86fe-c0c1219d7f7e",
   "metadata": {
    "jp-MarkdownHeadingCollapsed": true
   },
   "source": [
    "<div class='alert alert-warning'>\n",
    "    <h3>Location vs. Lable-based index: <code>iloc[]</code> vs. <code>loc[]</code></h3>\n",
    "</div>"
   ]
  },
  {
   "cell_type": "code",
   "execution_count": null,
   "id": "fed8a2b0-70f5-4350-a786-0ea68c2570df",
   "metadata": {},
   "outputs": [],
   "source": [
    "db.iloc[:, 0]"
   ]
  },
  {
   "cell_type": "code",
   "execution_count": null,
   "id": "b9c68a1f-742b-4a6c-89b6-4d68051551d0",
   "metadata": {},
   "outputs": [],
   "source": [
    "db.loc[:, 'Year']"
   ]
  },
  {
   "cell_type": "code",
   "execution_count": null,
   "id": "e1c6e632-6147-4748-b6e9-3ef1433a2a94",
   "metadata": {},
   "outputs": [],
   "source": [
    "db.index"
   ]
  },
  {
   "cell_type": "code",
   "execution_count": null,
   "id": "5f7d8197-5201-4d81-8c0f-9e406bc46a89",
   "metadata": {},
   "outputs": [],
   "source": [
    "db"
   ]
  },
  {
   "cell_type": "code",
   "execution_count": null,
   "id": "e7de27d6-31e5-4ade-b191-77c2abb18cbf",
   "metadata": {},
   "outputs": [],
   "source": [
    "db.iloc[1]"
   ]
  },
  {
   "cell_type": "code",
   "execution_count": null,
   "id": "fb9729a4-3aa1-4214-8ea8-c6b9cc8510ab",
   "metadata": {},
   "outputs": [],
   "source": [
    "db.loc[1]"
   ]
  },
  {
   "cell_type": "code",
   "execution_count": null,
   "id": "12f14739-05d0-4eaf-b6bc-6c20e1d8a8fc",
   "metadata": {},
   "outputs": [],
   "source": [
    "db.axes"
   ]
  },
  {
   "cell_type": "code",
   "execution_count": null,
   "id": "790601bc-0b2b-4b50-9c30-5c377c8e7d86",
   "metadata": {},
   "outputs": [],
   "source": [
    "db.index==1"
   ]
  },
  {
   "cell_type": "code",
   "execution_count": null,
   "id": "86fecd0a-e74d-42a3-b84c-ca62d08846bd",
   "metadata": {},
   "outputs": [],
   "source": [
    "db[db.index==1]"
   ]
  },
  {
   "cell_type": "code",
   "execution_count": null,
   "id": "9656a0b6-5fba-4df2-8d87-32baa84357e3",
   "metadata": {},
   "outputs": [],
   "source": [
    "db.loc[300] = {'Year':2025, 'No_Smoothing':.1, 'Lowess(5)':.9}"
   ]
  },
  {
   "cell_type": "code",
   "execution_count": null,
   "id": "bd36ead2-5319-4b53-b357-937b31b3608f",
   "metadata": {},
   "outputs": [],
   "source": [
    "db.tail()"
   ]
  },
  {
   "cell_type": "code",
   "execution_count": null,
   "id": "b31b85f4-9ac3-4b50-a35b-6024d9a0ed35",
   "metadata": {},
   "outputs": [],
   "source": [
    "db.last_valid_index()"
   ]
  },
  {
   "cell_type": "code",
   "execution_count": null,
   "id": "2cdd6642-4128-446f-b9df-af061f153ae5",
   "metadata": {},
   "outputs": [],
   "source": [
    "len(db)"
   ]
  },
  {
   "cell_type": "code",
   "execution_count": null,
   "id": "1d8cb191-5af4-4ec0-b384-41759991f5e1",
   "metadata": {},
   "outputs": [],
   "source": [
    "db.iloc[142]"
   ]
  },
  {
   "cell_type": "code",
   "execution_count": null,
   "id": "41355655-2019-4237-9380-577991b1dfd3",
   "metadata": {},
   "outputs": [],
   "source": [
    "db.iloc[-1]"
   ]
  },
  {
   "cell_type": "code",
   "execution_count": null,
   "id": "ee82ffd3-6a31-4576-bf85-82abf25d31e5",
   "metadata": {},
   "outputs": [],
   "source": [
    "db.iloc[143]"
   ]
  },
  {
   "cell_type": "code",
   "execution_count": null,
   "id": "9564ebb7-2ccb-4064-9eb7-cfe7b6d7ebe9",
   "metadata": {},
   "outputs": [],
   "source": [
    "db.iloc[300]"
   ]
  },
  {
   "cell_type": "code",
   "execution_count": null,
   "id": "b7a24665-0c90-42f6-b7ad-381372745913",
   "metadata": {},
   "outputs": [],
   "source": [
    "db.loc[300]"
   ]
  },
  {
   "cell_type": "code",
   "execution_count": null,
   "id": "08b37f07-629f-4dae-8081-2af7833c18c3",
   "metadata": {},
   "outputs": [],
   "source": [
    "db.loc[143]"
   ]
  },
  {
   "cell_type": "code",
   "execution_count": null,
   "id": "724c9bcb-0cf9-45a9-9ed0-30dd0414f567",
   "metadata": {},
   "outputs": [],
   "source": [
    "series_obj = pd.Series([1, 2, 3])\n",
    "series_obj"
   ]
  },
  {
   "cell_type": "code",
   "execution_count": null,
   "id": "95954a82-a691-4884-ad25-b700315d0cf8",
   "metadata": {},
   "outputs": [],
   "source": [
    "series_obj.index"
   ]
  },
  {
   "cell_type": "code",
   "execution_count": null,
   "id": "b4223871-9d8b-4dfa-bdc6-0c24cc45d1e8",
   "metadata": {},
   "outputs": [],
   "source": [
    "series_obj.loc[10] = 20\n",
    "series_obj"
   ]
  },
  {
   "cell_type": "code",
   "execution_count": null,
   "id": "0ccda8e0-00b7-4b8e-84ff-2a24d36de916",
   "metadata": {},
   "outputs": [],
   "source": [
    "series_obj[10]"
   ]
  },
  {
   "cell_type": "code",
   "execution_count": null,
   "id": "2100b775-c6e8-41ae-b85c-3feb54fa5c93",
   "metadata": {},
   "outputs": [],
   "source": [
    "series_obj.loc[10]"
   ]
  },
  {
   "cell_type": "code",
   "execution_count": null,
   "id": "207df911-93e0-4b43-8bbd-001df0b4c42f",
   "metadata": {},
   "outputs": [],
   "source": [
    "series_obj.iloc[10]"
   ]
  },
  {
   "cell_type": "code",
   "execution_count": null,
   "id": "c4b693b2-bc3a-4971-b2e0-d4bb5fdc13d7",
   "metadata": {},
   "outputs": [],
   "source": [
    "series_obj.iloc[3]"
   ]
  },
  {
   "cell_type": "code",
   "execution_count": null,
   "id": "21dc395b-16a2-49c1-b54a-8ce6c58a04ef",
   "metadata": {},
   "outputs": [],
   "source": [
    "series_obj.iloc[-1]"
   ]
  },
  {
   "cell_type": "markdown",
   "id": "1e14d2d3-c028-42cf-8d29-ad776642d761",
   "metadata": {
    "jp-MarkdownHeadingCollapsed": true
   },
   "source": [
    "<div class='alert alert-warning'>\n",
    "    <h3>Altering the indexing system</h3>\n",
    "</div>"
   ]
  },
  {
   "cell_type": "code",
   "execution_count": null,
   "id": "49bfd6b0-7974-4aa3-ac8a-dfbc82730ab7",
   "metadata": {},
   "outputs": [],
   "source": [
    "db.index"
   ]
  },
  {
   "cell_type": "code",
   "execution_count": null,
   "id": "4d50f303-e6bb-42ec-9d8c-8168645b22f5",
   "metadata": {},
   "outputs": [],
   "source": [
    "db.index[0]"
   ]
  },
  {
   "cell_type": "code",
   "execution_count": null,
   "id": "bf39aacf-5dea-46c4-8cde-9138018c8956",
   "metadata": {},
   "outputs": [],
   "source": [
    "db.index[:5]"
   ]
  },
  {
   "cell_type": "code",
   "execution_count": null,
   "id": "38cdf4d0-798a-4d24-b14e-e40d3d511431",
   "metadata": {},
   "outputs": [],
   "source": [
    "db.reset_index()"
   ]
  },
  {
   "cell_type": "code",
   "execution_count": null,
   "id": "6e305488-d210-48fa-8a7e-11d6b66cf1ff",
   "metadata": {},
   "outputs": [],
   "source": [
    "db"
   ]
  },
  {
   "cell_type": "code",
   "execution_count": null,
   "id": "cf22fda1-200a-4d9b-954f-3a346543ddc6",
   "metadata": {},
   "outputs": [],
   "source": [
    "db.reset_index(drop=True)"
   ]
  },
  {
   "cell_type": "code",
   "execution_count": null,
   "id": "c3a7e33b-194e-419d-9b0a-85a899d3900a",
   "metadata": {},
   "outputs": [],
   "source": [
    "db.reset_index(drop=True, inplace=True)"
   ]
  },
  {
   "cell_type": "code",
   "execution_count": null,
   "id": "341acb01-7c8d-4499-a1d3-9fef287f9ecf",
   "metadata": {},
   "outputs": [],
   "source": [
    "db"
   ]
  },
  {
   "cell_type": "code",
   "execution_count": null,
   "id": "f686fc3c-a94a-4c88-be42-db41ff99918f",
   "metadata": {},
   "outputs": [],
   "source": [
    "db.set_index('Year')"
   ]
  },
  {
   "cell_type": "code",
   "execution_count": null,
   "id": "e6a1b62f-4cb2-4db3-bb23-2a25c19723db",
   "metadata": {},
   "outputs": [],
   "source": [
    "db"
   ]
  },
  {
   "cell_type": "code",
   "execution_count": null,
   "id": "29cce70e-cdbe-4a42-9975-e96965a19ca9",
   "metadata": {},
   "outputs": [],
   "source": [
    "pd.Timestamp(year=1880, month=1, day=1, )"
   ]
  },
  {
   "cell_type": "code",
   "execution_count": null,
   "id": "8390cb6b-d9e9-4427-b8e6-673c97d24db5",
   "metadata": {},
   "outputs": [],
   "source": [
    "pd.Timestamp(year=1880, month=1, day=1, ).strftime('%m-%d-%Y')"
   ]
  },
  {
   "cell_type": "code",
   "execution_count": null,
   "id": "228c4859-a62c-4b8b-ba37-590f0c89a6fd",
   "metadata": {},
   "outputs": [],
   "source": [
    "tstamp = pd.Timestamp(year=1880, month=1, day=1, )\n",
    "tstamp"
   ]
  },
  {
   "cell_type": "code",
   "execution_count": null,
   "id": "10e2b267-d838-46a2-86a2-dd9f2512477e",
   "metadata": {},
   "outputs": [],
   "source": [
    "tstamp.year, tstamp.month, tstamp.day, tstamp.hour"
   ]
  },
  {
   "cell_type": "code",
   "execution_count": null,
   "id": "17a9487c-8ef2-4ae0-a4cf-4ddc5bc3f9a7",
   "metadata": {},
   "outputs": [],
   "source": [
    "pd.date_range(start=pd.Timestamp(year=1880, month=1, day=1, ), periods=len(db), freq='YE-JAN')"
   ]
  },
  {
   "cell_type": "code",
   "execution_count": null,
   "id": "d27fe9fa-f87c-48a0-ac8a-68ce97d5ea1c",
   "metadata": {},
   "outputs": [],
   "source": [
    "pd.date_range(start=pd.Timestamp(year=1880, month=1, day=1, ), periods=len(db), freq='YE-DEC')"
   ]
  },
  {
   "cell_type": "code",
   "execution_count": null,
   "id": "26278aa7-59b0-410b-aae4-1fb5eb63d4c8",
   "metadata": {},
   "outputs": [],
   "source": [
    "index = pd.date_range(start=pd.Timestamp(year=1880, month=1, day=1, ), periods=len(db), freq='YE-JAN')"
   ]
  },
  {
   "cell_type": "code",
   "execution_count": null,
   "id": "99e187bc-db07-42ce-986a-2c7fdc2c88a0",
   "metadata": {},
   "outputs": [],
   "source": [
    "db['index'] = index\n",
    "db.head()"
   ]
  },
  {
   "cell_type": "code",
   "execution_count": null,
   "id": "1e99d675-d222-46e2-b5a6-3c57af17c89e",
   "metadata": {},
   "outputs": [],
   "source": [
    "new_db = db.set_index('index', drop=True)"
   ]
  },
  {
   "cell_type": "code",
   "execution_count": null,
   "id": "b04adc0b-d482-4a33-ba89-d3c1337692e7",
   "metadata": {},
   "outputs": [],
   "source": [
    "new_db"
   ]
  },
  {
   "cell_type": "code",
   "execution_count": null,
   "id": "d71de8d7-7d6f-4c1b-9532-1e90760d1ec9",
   "metadata": {},
   "outputs": [],
   "source": [
    "new_db.index"
   ]
  },
  {
   "cell_type": "code",
   "execution_count": null,
   "id": "8aa164d1-2d7d-40a8-aaf8-60464eb36f91",
   "metadata": {},
   "outputs": [],
   "source": [
    "new_db.index.year"
   ]
  },
  {
   "cell_type": "code",
   "execution_count": null,
   "id": "5df70900-235a-4856-9b18-9642ebaf747a",
   "metadata": {},
   "outputs": [],
   "source": [
    "new_db.index.month"
   ]
  },
  {
   "cell_type": "code",
   "execution_count": null,
   "id": "d5379e24-cb10-4649-88be-faa0fe342700",
   "metadata": {},
   "outputs": [],
   "source": [
    "new_db.index.year>=2000"
   ]
  },
  {
   "cell_type": "code",
   "execution_count": null,
   "id": "2ddd7283-4ea5-4739-bdf6-a082df199c06",
   "metadata": {},
   "outputs": [],
   "source": [
    "new_db[new_db.index.year>=2000]"
   ]
  },
  {
   "cell_type": "code",
   "execution_count": null,
   "id": "3d690df6-c81e-432d-b3b0-8be3f9febb75",
   "metadata": {},
   "outputs": [],
   "source": [
    "db[db.Year>=2000]"
   ]
  },
  {
   "cell_type": "code",
   "execution_count": null,
   "id": "dc38c9ce-6227-406d-9086-ad1eb0dd5d81",
   "metadata": {},
   "outputs": [],
   "source": [
    "db.index = index\n",
    "db"
   ]
  },
  {
   "cell_type": "code",
   "execution_count": null,
   "id": "7764e2c7-9699-4d90-8317-fa70a363d9b0",
   "metadata": {},
   "outputs": [],
   "source": [
    "db = db[['Year', 'No_Smoothing', 'Lowess(5)']]\n",
    "db"
   ]
  },
  {
   "cell_type": "markdown",
   "id": "a54a5219-50be-4dd1-abd5-7c2dc5b3b5f0",
   "metadata": {
    "jp-MarkdownHeadingCollapsed": true
   },
   "source": [
    "<div class='alert alert-warning'>\n",
    "    <h3>Linking datafarmes</h3>\n",
    "</div>"
   ]
  },
  {
   "cell_type": "code",
   "execution_count": null,
   "id": "def44bae-7915-461f-afb6-3589d16dd72d",
   "metadata": {},
   "outputs": [],
   "source": [
    "df_1 = pd.DataFrame({'A': [1, 2], 'B': [3, 4]})\n",
    "df_2 = pd.DataFrame({'A': [5, 6], 'B': [7, 8]})"
   ]
  },
  {
   "cell_type": "code",
   "execution_count": null,
   "id": "20b8cb77-5b96-4a4e-bcfb-167a20f45086",
   "metadata": {},
   "outputs": [],
   "source": [
    "df_1"
   ]
  },
  {
   "cell_type": "code",
   "execution_count": null,
   "id": "781e46cb-6be2-4584-8781-2fb9f43a2b2c",
   "metadata": {},
   "outputs": [],
   "source": [
    "df_2"
   ]
  },
  {
   "cell_type": "code",
   "execution_count": null,
   "id": "29915ef3-5d54-4c40-860f-95ea1367cbd2",
   "metadata": {},
   "outputs": [],
   "source": [
    "pd.concat([df_1, df_2], )"
   ]
  },
  {
   "cell_type": "code",
   "execution_count": null,
   "id": "6ea33513-5619-4d36-8937-84e20e0d3a9a",
   "metadata": {},
   "outputs": [],
   "source": [
    "pd.concat([df_1, df_2], ignore_index=True)"
   ]
  },
  {
   "cell_type": "code",
   "execution_count": null,
   "id": "0db5b480-c5d7-42e3-81ed-27c2e7214ab8",
   "metadata": {},
   "outputs": [],
   "source": [
    "pd.concat([df_1, df_2], axis=1)"
   ]
  },
  {
   "cell_type": "code",
   "execution_count": null,
   "id": "643dd5d9-96af-4091-8512-f6365c479df6",
   "metadata": {},
   "outputs": [],
   "source": [
    "pd.concat([df_1, df_2], axis=1, ignore_index=True)"
   ]
  },
  {
   "cell_type": "code",
   "execution_count": null,
   "id": "b6486268-80ee-4d5c-b2b5-e829bb1e5c37",
   "metadata": {},
   "outputs": [],
   "source": [
    "df_3 = pd.DataFrame({'Year': [1990, 1991, 1992], 'Max. Temp.':[32, 31, 28], 'Min Temp.': [-5, -2, 1]}, )\n",
    "df_4 = pd.DataFrame({'Year': [1991, 1992, 1993], 'Prec.': [190, 185, 195], 'Rainy Days': [100, 80, 120]}, )"
   ]
  },
  {
   "cell_type": "code",
   "execution_count": null,
   "id": "88bb18dc-5b92-49d2-8bf3-bf7343942382",
   "metadata": {},
   "outputs": [],
   "source": [
    "df_3"
   ]
  },
  {
   "cell_type": "code",
   "execution_count": null,
   "id": "a9db071f-3900-4ab3-ae9b-adf1b57b3958",
   "metadata": {},
   "outputs": [],
   "source": [
    "df_4"
   ]
  },
  {
   "cell_type": "code",
   "execution_count": null,
   "id": "5f41fb0c-aec6-405d-b2eb-e0f787802fb0",
   "metadata": {},
   "outputs": [],
   "source": [
    "df_3.merge(df_4, on='Year', )"
   ]
  },
  {
   "cell_type": "code",
   "execution_count": null,
   "id": "da4b8775-b07b-4f6d-acdb-44e32d35bac0",
   "metadata": {},
   "outputs": [],
   "source": [
    "df_3.merge(df_4, on='Year', how='inner')"
   ]
  },
  {
   "cell_type": "code",
   "execution_count": null,
   "id": "dd34072f-fd7c-4a97-bd57-eff1d46e949f",
   "metadata": {},
   "outputs": [],
   "source": [
    "df_3.merge(df_4, on='Year', how='left')"
   ]
  },
  {
   "cell_type": "code",
   "execution_count": null,
   "id": "ee2d887b-0649-4429-bb48-498b536d75e2",
   "metadata": {},
   "outputs": [],
   "source": [
    "df_3.merge(df_4, on='Year', how='right')"
   ]
  },
  {
   "cell_type": "code",
   "execution_count": null,
   "id": "82024b2c-909a-4538-bcf5-04b31fecd1b4",
   "metadata": {},
   "outputs": [],
   "source": [
    "df_3.merge(df_4, on='Year', how='outer')"
   ]
  },
  {
   "cell_type": "code",
   "execution_count": null,
   "id": "53488e50-aec0-405a-af1c-9913967b1c9e",
   "metadata": {},
   "outputs": [],
   "source": [
    "df_3.merge(df_4, ) #on='Year'"
   ]
  },
  {
   "cell_type": "code",
   "execution_count": null,
   "id": "2b99f692-63b9-4017-9ea4-43bfe78bc1a2",
   "metadata": {},
   "outputs": [],
   "source": [
    "pd.DataFrame.merge(df_3, df_4)"
   ]
  },
  {
   "cell_type": "code",
   "execution_count": null,
   "id": "cd734ff1-fa67-423f-b12f-82cdbfb9db5e",
   "metadata": {},
   "outputs": [],
   "source": [
    "df_5 = pd.DataFrame({'A': [1, 2, 3], 'B': [4, 5, 6], 'C':[7, 8, 9]}, index=[0, 1, 2])\n",
    "df_6 = pd.DataFrame({'D': ['a', 'b', 'c'], 'E': ['d', 'e', 'f'], 'F':['g', 'h', 'i']}, index=[1, 2, 3])"
   ]
  },
  {
   "cell_type": "code",
   "execution_count": null,
   "id": "79d6f3b0-7437-40d9-a7a9-7dfb4faaf697",
   "metadata": {},
   "outputs": [],
   "source": [
    "df_5"
   ]
  },
  {
   "cell_type": "code",
   "execution_count": null,
   "id": "40c71599-9b8a-4869-b7c8-e529d822b82c",
   "metadata": {},
   "outputs": [],
   "source": [
    "df_6"
   ]
  },
  {
   "cell_type": "code",
   "execution_count": null,
   "id": "9a4795bb-9c70-4385-8e7a-cc76c25ea8b1",
   "metadata": {},
   "outputs": [],
   "source": [
    "df_5.join(df_6)"
   ]
  },
  {
   "cell_type": "code",
   "execution_count": null,
   "id": "d5a9e0b5-0cee-402b-834e-cce5f566b9f2",
   "metadata": {},
   "outputs": [],
   "source": [
    "df_5.join(df_6, how='left')"
   ]
  },
  {
   "cell_type": "code",
   "execution_count": null,
   "id": "a74eeb3b-d124-4462-a044-1c76eef526ae",
   "metadata": {},
   "outputs": [],
   "source": [
    "df_5.join(df_6, how='right')"
   ]
  },
  {
   "cell_type": "code",
   "execution_count": null,
   "id": "ae172f2d-373b-434b-9c8f-d8ae9a2aaa4e",
   "metadata": {},
   "outputs": [],
   "source": [
    "df_5.join(df_6, how='inner')"
   ]
  },
  {
   "cell_type": "code",
   "execution_count": null,
   "id": "80513493-9799-49fb-858e-e168a7d68613",
   "metadata": {},
   "outputs": [],
   "source": [
    "df_5.join(df_6, how='outer')"
   ]
  },
  {
   "cell_type": "code",
   "execution_count": null,
   "id": "9912db07-17d4-4bb1-af81-29b40e1896f0",
   "metadata": {},
   "outputs": [],
   "source": [
    "df_5.join(df_6, how='cross')"
   ]
  },
  {
   "cell_type": "code",
   "execution_count": null,
   "id": "575564dc-593a-4c8a-85b5-0d844533ea5f",
   "metadata": {},
   "outputs": [],
   "source": [
    "df_3"
   ]
  },
  {
   "cell_type": "code",
   "execution_count": null,
   "id": "5451ed88-a0bb-498e-b869-12cfe3379cb9",
   "metadata": {
    "scrolled": true
   },
   "outputs": [],
   "source": [
    "df_4"
   ]
  },
  {
   "cell_type": "markdown",
   "id": "e70e6d69-1953-470b-b307-f99627e96942",
   "metadata": {
    "jp-MarkdownHeadingCollapsed": true
   },
   "source": [
    "<div class='alert alert-info'>\n",
    "    <h2>Episode #08 | More advanced stuff! [sort, Groupby, plot, and more]</h2>\n",
    "</div>"
   ]
  },
  {
   "cell_type": "code",
   "execution_count": null,
   "id": "b6198197-aa87-4c31-ac37-307cf6ca4f3c",
   "metadata": {},
   "outputs": [],
   "source": [
    "import pandas as pd\n",
    "\n",
    "db = pd.read_csv('World Temperature - Nasa.csv') # Ep. 2\n",
    "db = db.iloc[1:] # Ep. 2\n",
    "db = db.apply(pd.to_numeric) # Ep. 3\n",
    "db.head()"
   ]
  },
  {
   "cell_type": "markdown",
   "id": "c807ad0b-e420-446e-8a07-b62806d5db89",
   "metadata": {
    "jp-MarkdownHeadingCollapsed": true
   },
   "source": [
    "<div class='alert alert-warning'>\n",
    "    <h3>Sampling and Sorting</h3>\n",
    "</div>"
   ]
  },
  {
   "cell_type": "code",
   "execution_count": null,
   "id": "d14f33d3-e7b3-4666-a12e-5984eb10bcf7",
   "metadata": {},
   "outputs": [],
   "source": [
    "db.sample(n=5, )"
   ]
  },
  {
   "cell_type": "code",
   "execution_count": null,
   "id": "45ed7949-0511-41f9-a5ad-51906acf3e19",
   "metadata": {},
   "outputs": [],
   "source": [
    "db.nlargest(5, 'No_Smoothing')"
   ]
  },
  {
   "cell_type": "code",
   "execution_count": null,
   "id": "361990af-6fa3-494b-98e2-c87c32302607",
   "metadata": {},
   "outputs": [],
   "source": [
    "db.nlargest(5, ['No_Smoothing', 'Lowess(5)'])"
   ]
  },
  {
   "cell_type": "code",
   "execution_count": null,
   "id": "ebb2ca17-1305-465b-ad32-5c85068909bd",
   "metadata": {},
   "outputs": [],
   "source": [
    "db.nsmallest(5, 'No_Smoothing')"
   ]
  },
  {
   "cell_type": "code",
   "execution_count": null,
   "id": "6d39c1dc-5f83-45ae-a711-27e6ca3cd3c0",
   "metadata": {},
   "outputs": [],
   "source": [
    "db.nsmallest(len(db), 'No_Smoothing')"
   ]
  },
  {
   "cell_type": "code",
   "execution_count": null,
   "id": "ec1907c2-29e2-4294-9a17-70d2b89a52aa",
   "metadata": {},
   "outputs": [],
   "source": [
    "db.sort_values('No_Smoothing')"
   ]
  },
  {
   "cell_type": "code",
   "execution_count": null,
   "id": "3ac8601a-226d-4964-abab-68eeace1c1ae",
   "metadata": {},
   "outputs": [],
   "source": [
    "db.sort_values(['No_Smoothing', 'Lowess(5)'])"
   ]
  },
  {
   "cell_type": "code",
   "execution_count": null,
   "id": "094b894b-7555-40fd-9f08-8dd5d92022aa",
   "metadata": {},
   "outputs": [],
   "source": [
    "db.sort_values(['No_Smoothing', 'Lowess(5)'], ascending=False, )"
   ]
  },
  {
   "cell_type": "code",
   "execution_count": null,
   "id": "be9c8fde-105c-4df7-bbba-f86b0d77ebe5",
   "metadata": {},
   "outputs": [],
   "source": [
    "db"
   ]
  },
  {
   "cell_type": "code",
   "execution_count": null,
   "id": "5d41be34-6af5-4e73-a369-d04f3c9ad809",
   "metadata": {},
   "outputs": [],
   "source": [
    "db.sort_values(['No_Smoothing', 'Lowess(5)'], ascending=False, inplace=True)"
   ]
  },
  {
   "cell_type": "code",
   "execution_count": null,
   "id": "2472e376-5fa1-4c83-aba4-a999d6f4ca59",
   "metadata": {},
   "outputs": [],
   "source": [
    "db"
   ]
  },
  {
   "cell_type": "code",
   "execution_count": null,
   "id": "cb911543-d3c9-4504-a5b5-e0d6d504518f",
   "metadata": {},
   "outputs": [],
   "source": [
    "db.sort_values(['No_Smoothing', 'Lowess(5)'], ascending=False, ignore_index=True) # reset_index()"
   ]
  },
  {
   "cell_type": "code",
   "execution_count": null,
   "id": "1a69c80c-198d-4e74-a367-a1af7a4ad9eb",
   "metadata": {},
   "outputs": [],
   "source": [
    "db.reset_index(drop=True)"
   ]
  },
  {
   "cell_type": "code",
   "execution_count": null,
   "id": "7c45a8c4-5f12-4905-b3da-056798c9ef8e",
   "metadata": {},
   "outputs": [],
   "source": [
    "db.sort_index()"
   ]
  },
  {
   "cell_type": "code",
   "execution_count": null,
   "id": "7f1d82c0-0a69-405e-ba94-d238670fc4c6",
   "metadata": {
    "scrolled": true
   },
   "outputs": [],
   "source": [
    "db.sort_index(ascending=False, inplace=False, ignore_index=True)"
   ]
  },
  {
   "cell_type": "markdown",
   "id": "b588dacd-8a20-4d3e-a7d2-9e3d6e324d68",
   "metadata": {
    "jp-MarkdownHeadingCollapsed": true
   },
   "source": [
    "<div class='alert alert-warning'>\n",
    "    <h3>Adavnced Analysis [<code>groupby</code>]: <b>Titanic Dataset</b></h3>\n",
    "</div>\n",
    "\n",
    "Data Source: \n",
    "\n",
    "* Original Data Source: [Public Domain](https://www.kaggle.com/c/titanic/data)\n",
    "* Working Data Repo: [GitHub@BabakZolghadrAsli](https://github.com/BabakZolghadrAsli/pandas_series/tree/main/Data)"
   ]
  },
  {
   "cell_type": "code",
   "execution_count": null,
   "id": "a4314243-38c4-419b-84b7-28740d8c8d46",
   "metadata": {},
   "outputs": [],
   "source": [
    "titanic_db = pd.read_csv('Titanic-Dataset.csv')"
   ]
  },
  {
   "cell_type": "code",
   "execution_count": null,
   "id": "0a5cdc7d-75aa-4a56-8feb-375f8088fa68",
   "metadata": {},
   "outputs": [],
   "source": [
    "titanic_db.head()"
   ]
  },
  {
   "cell_type": "code",
   "execution_count": null,
   "id": "f6f4adc9-d203-4461-8596-699ee3ae615e",
   "metadata": {},
   "outputs": [],
   "source": [
    "titanic_db.tail()"
   ]
  },
  {
   "cell_type": "code",
   "execution_count": null,
   "id": "9855b6be-3761-49c9-903b-86786b8ba617",
   "metadata": {},
   "outputs": [],
   "source": [
    "titanic_db.describe()"
   ]
  },
  {
   "cell_type": "code",
   "execution_count": null,
   "id": "bbfad533-8b69-4696-b8e3-335e6ffd7578",
   "metadata": {},
   "outputs": [],
   "source": [
    "titanic_db.info()"
   ]
  },
  {
   "cell_type": "code",
   "execution_count": null,
   "id": "63226417-407e-460c-bc38-2108c67c1c5a",
   "metadata": {},
   "outputs": [],
   "source": [
    "titanic_db.isnull().sum()"
   ]
  },
  {
   "cell_type": "markdown",
   "id": "7b754ab2-37dc-471f-83d8-fc9164f1afd3",
   "metadata": {},
   "source": [
    "<div class='alert alert-danger'>\n",
    "    <h4>Exc. I.</h4>\n",
    "Aalayse the survivol rate based on these factors:\n",
    "    \n",
    "* <b>Ticket class</b>: <code>Pclass</code>\n",
    "* <b>Passengers' gender</b>: <code>sex</code>\n",
    "* <b>Passengers' age</b>: <code>Age</code>\n",
    "* <b>Passengers' companions</b>: <code>sibsp</code> and <code>parch</code>\n",
    "    \n",
    "</div>"
   ]
  },
  {
   "cell_type": "code",
   "execution_count": null,
   "id": "de8a9221-e2f6-44e9-8237-8f1907d5b462",
   "metadata": {},
   "outputs": [],
   "source": [
    "titanic_db.Survived"
   ]
  },
  {
   "cell_type": "code",
   "execution_count": null,
   "id": "da1f982c-f09f-4c3f-ae84-8c27ea3c4460",
   "metadata": {},
   "outputs": [],
   "source": [
    "titanic_db['Survived']"
   ]
  },
  {
   "cell_type": "code",
   "execution_count": null,
   "id": "36a7fd42-0068-4ff0-8a0b-be6febf65d81",
   "metadata": {},
   "outputs": [],
   "source": [
    "titanic_db.Survived.sum()"
   ]
  },
  {
   "cell_type": "code",
   "execution_count": null,
   "id": "a525f2da-669f-4c7a-97df-1a0c041ad420",
   "metadata": {},
   "outputs": [],
   "source": [
    "(titanic_db.Survived==1).sum()"
   ]
  },
  {
   "cell_type": "code",
   "execution_count": null,
   "id": "f492485d-e571-44ca-bd47-a00278633cf6",
   "metadata": {},
   "outputs": [],
   "source": [
    "len(titanic_db)"
   ]
  },
  {
   "cell_type": "code",
   "execution_count": null,
   "id": "57ba09ba-84d4-4d87-98b5-b50e4b79a623",
   "metadata": {},
   "outputs": [],
   "source": [
    "titanic_db.Survived.sum()/len(titanic_db)"
   ]
  },
  {
   "cell_type": "code",
   "execution_count": null,
   "id": "f3c71f97-8ba7-4cbd-8ea7-8e7014ba9adb",
   "metadata": {},
   "outputs": [],
   "source": [
    "survival_rate = ((titanic_db.Survived.sum()/len(titanic_db))*100).round(2)\n",
    "survival_rate"
   ]
  },
  {
   "cell_type": "code",
   "execution_count": null,
   "id": "e4e5cecc-d884-46a2-871f-1762d5c0522a",
   "metadata": {},
   "outputs": [],
   "source": [
    "# Conditional Prob."
   ]
  },
  {
   "cell_type": "code",
   "execution_count": null,
   "id": "02f55cc1-cee4-49ae-bb93-b1f4b50ba667",
   "metadata": {},
   "outputs": [],
   "source": [
    "# I. Ticket classes: Proxy for social class"
   ]
  },
  {
   "cell_type": "code",
   "execution_count": null,
   "id": "844b80c8-3452-44e3-b583-8ab0b52b203c",
   "metadata": {},
   "outputs": [],
   "source": [
    "titanic_db['Pclass'].unique()"
   ]
  },
  {
   "cell_type": "code",
   "execution_count": null,
   "id": "867ea2af-65ff-4eca-ac8b-11fe1fd9dc0c",
   "metadata": {},
   "outputs": [],
   "source": [
    "(titanic_db['Pclass']==1).sum()"
   ]
  },
  {
   "cell_type": "code",
   "execution_count": null,
   "id": "8d652451-cc6e-420b-9e8f-16bdb3cca2a7",
   "metadata": {},
   "outputs": [],
   "source": [
    "((titanic_db['Pclass']==1)&((titanic_db.Survived==1)))"
   ]
  },
  {
   "cell_type": "code",
   "execution_count": null,
   "id": "452c6d01-1394-446e-b710-3cf8fe7f09ae",
   "metadata": {},
   "outputs": [],
   "source": [
    "titanic_db.head()"
   ]
  },
  {
   "cell_type": "code",
   "execution_count": null,
   "id": "88fc7ff2-32a1-4c7f-acd1-c336750e61c4",
   "metadata": {},
   "outputs": [],
   "source": [
    "((titanic_db['Pclass']==1)&((titanic_db.Survived==1))).sum()"
   ]
  },
  {
   "cell_type": "code",
   "execution_count": null,
   "id": "b9550cb2-1e97-4434-b0fc-75e98b28f05c",
   "metadata": {},
   "outputs": [],
   "source": [
    "((titanic_db['Pclass']==1)&((titanic_db.Survived==1))).sum()/(titanic_db['Pclass']==1).sum()"
   ]
  },
  {
   "cell_type": "code",
   "execution_count": null,
   "id": "d05565b3-2509-41f7-97a5-5f2cacb63c08",
   "metadata": {},
   "outputs": [],
   "source": [
    "pclass_var = 1\n",
    "pr_surv = ((titanic_db['Pclass']==pclass_var)&((titanic_db.Survived==1))).sum()/(titanic_db['Pclass']==pclass_var).sum()\n",
    "pr_surv = (pr_surv*100).round(2)\n",
    "pr_surv"
   ]
  },
  {
   "cell_type": "code",
   "execution_count": null,
   "id": "b7ef4a69-0b70-4198-bd42-bb2faaec7eeb",
   "metadata": {},
   "outputs": [],
   "source": [
    "pclass_var = 2\n",
    "pr_surv = ((titanic_db['Pclass']==pclass_var)&((titanic_db.Survived==1))).sum()/(titanic_db['Pclass']==pclass_var).sum()\n",
    "pr_surv = (pr_surv*100).round(2)\n",
    "pr_surv"
   ]
  },
  {
   "cell_type": "code",
   "execution_count": null,
   "id": "e5035e1e-bf2b-42e5-b394-32ebca95a39b",
   "metadata": {},
   "outputs": [],
   "source": [
    "pclass_var = 3\n",
    "pr_surv = ((titanic_db['Pclass']==pclass_var)&((titanic_db.Survived==1))).sum()/(titanic_db['Pclass']==pclass_var).sum()\n",
    "pr_surv = (pr_surv*100).round(2)\n",
    "pr_surv"
   ]
  },
  {
   "cell_type": "code",
   "execution_count": null,
   "id": "75fd719e-3a25-4e92-baa8-f38b84c71f38",
   "metadata": {},
   "outputs": [],
   "source": [
    "# II. Gender of passengers"
   ]
  },
  {
   "cell_type": "code",
   "execution_count": null,
   "id": "8e37db70-484a-42b0-b5ab-ab4fe2916e7f",
   "metadata": {},
   "outputs": [],
   "source": [
    "titanic_db.Sex"
   ]
  },
  {
   "cell_type": "code",
   "execution_count": null,
   "id": "0638b008-71f4-4881-b59b-4fc31b7980e7",
   "metadata": {},
   "outputs": [],
   "source": [
    "titanic_db.Sex.unique()"
   ]
  },
  {
   "cell_type": "code",
   "execution_count": null,
   "id": "6a2efe49-921c-4d17-8d87-f21fb68ac06c",
   "metadata": {},
   "outputs": [],
   "source": [
    "gender_var = 'male'\n",
    "pr_surv = ((titanic_db['Sex']==gender_var)&((titanic_db.Survived==1))).sum()/(titanic_db['Sex']==gender_var).sum()\n",
    "pr_surv = (pr_surv*100).round(2)\n",
    "pr_surv"
   ]
  },
  {
   "cell_type": "code",
   "execution_count": null,
   "id": "34653c71-e156-47d2-946c-2135b75217ad",
   "metadata": {},
   "outputs": [],
   "source": [
    "gender_var = 'female'\n",
    "pr_surv = ((titanic_db['Sex']==gender_var)&((titanic_db.Survived==1))).sum()/(titanic_db['Sex']==gender_var).sum()\n",
    "pr_surv = (pr_surv*100).round(2)\n",
    "pr_surv"
   ]
  },
  {
   "cell_type": "code",
   "execution_count": null,
   "id": "77613174-6187-49ec-8b82-d36fdbd06201",
   "metadata": {},
   "outputs": [],
   "source": [
    "gender_var = 'female'\n",
    "pclass_var = 1\n",
    "\n",
    "pr_surv = ((titanic_db['Sex']==gender_var)&((titanic_db.Survived==1))&(titanic_db['Pclass']==pclass_var)).sum()/((titanic_db['Sex']==gender_var)&(titanic_db['Pclass']==pclass_var)).sum()\n",
    "pr_surv = (pr_surv*100).round(2)\n",
    "pr_surv"
   ]
  },
  {
   "cell_type": "code",
   "execution_count": null,
   "id": "e0f7c8f2-4346-43bd-adef-6b58c389b4e8",
   "metadata": {},
   "outputs": [],
   "source": [
    "gender_var = 'female'\n",
    "pclass_var = 2\n",
    "\n",
    "pr_surv = ((titanic_db['Sex']==gender_var)&((titanic_db.Survived==1))&(titanic_db['Pclass']==pclass_var)).sum()/((titanic_db['Sex']==gender_var)&(titanic_db['Pclass']==pclass_var)).sum()\n",
    "pr_surv = (pr_surv*100).round(2)\n",
    "pr_surv"
   ]
  },
  {
   "cell_type": "code",
   "execution_count": null,
   "id": "70fbc687-0829-4f68-b039-6b41594347db",
   "metadata": {},
   "outputs": [],
   "source": [
    "gender_var = 'female'\n",
    "pclass_var = 3\n",
    "\n",
    "pr_surv = ((titanic_db['Sex']==gender_var)&((titanic_db.Survived==1))&(titanic_db['Pclass']==pclass_var)).sum()/((titanic_db['Sex']==gender_var)&(titanic_db['Pclass']==pclass_var)).sum()\n",
    "pr_surv = (pr_surv*100).round(2)\n",
    "pr_surv"
   ]
  },
  {
   "cell_type": "code",
   "execution_count": null,
   "id": "3e291019-5dcd-4d92-bb59-07d662e0e33b",
   "metadata": {},
   "outputs": [],
   "source": [
    "gender_var = 'male'\n",
    "pclass_var = 1\n",
    "\n",
    "pr_surv = ((titanic_db['Sex']==gender_var)&((titanic_db.Survived==1))&(titanic_db['Pclass']==pclass_var)).sum()/((titanic_db['Sex']==gender_var)&(titanic_db['Pclass']==pclass_var)).sum()\n",
    "pr_surv = (pr_surv*100).round(2)\n",
    "pr_surv"
   ]
  },
  {
   "cell_type": "code",
   "execution_count": null,
   "id": "bbdd5b33-c72b-483a-921d-188992aa4f3a",
   "metadata": {},
   "outputs": [],
   "source": [
    "gender_var = 'male'\n",
    "pclass_var = 2\n",
    "\n",
    "pr_surv = ((titanic_db['Sex']==gender_var)&((titanic_db.Survived==1))&(titanic_db['Pclass']==pclass_var)).sum()/((titanic_db['Sex']==gender_var)&(titanic_db['Pclass']==pclass_var)).sum()\n",
    "pr_surv = (pr_surv*100).round(2)\n",
    "pr_surv"
   ]
  },
  {
   "cell_type": "code",
   "execution_count": null,
   "id": "0c87d6b2-3641-4a28-a86c-8fe5ddf04e96",
   "metadata": {},
   "outputs": [],
   "source": [
    "gender_var = 'male'\n",
    "pclass_var = 3\n",
    "\n",
    "pr_surv = ((titanic_db['Sex']==gender_var)&((titanic_db.Survived==1))&(titanic_db['Pclass']==pclass_var)).sum()/((titanic_db['Sex']==gender_var)&(titanic_db['Pclass']==pclass_var)).sum()\n",
    "pr_surv = (pr_surv*100).round(2)\n",
    "pr_surv"
   ]
  },
  {
   "cell_type": "code",
   "execution_count": null,
   "id": "ea5159a3-9647-4f36-a51d-b24102e17858",
   "metadata": {},
   "outputs": [],
   "source": [
    "# III. Age"
   ]
  },
  {
   "cell_type": "code",
   "execution_count": null,
   "id": "6fa389f4-54c7-4c26-ba29-a4cec955c844",
   "metadata": {},
   "outputs": [],
   "source": [
    "titanic_db.Age"
   ]
  },
  {
   "cell_type": "code",
   "execution_count": null,
   "id": "6aadd166-348e-4028-97be-fee9f8db3b84",
   "metadata": {},
   "outputs": [],
   "source": [
    "titanic_db.Age.quantile(q=0), titanic_db.Age.quantile(q=1) # .min(), .max()"
   ]
  },
  {
   "cell_type": "code",
   "execution_count": null,
   "id": "78a9ca12-a672-4f46-b083-b7b217ea7bcd",
   "metadata": {},
   "outputs": [],
   "source": [
    "titanic_db.Age.quantile(q=.25), titanic_db.Age.quantile(q=.5), titanic_db.Age.quantile(q=.75) # Q1, Q2, Q3"
   ]
  },
  {
   "cell_type": "code",
   "execution_count": null,
   "id": "13ec5b20-5616-4174-b095-d05d8bcf7c10",
   "metadata": {},
   "outputs": [],
   "source": [
    "len(titanic_db)"
   ]
  },
  {
   "cell_type": "code",
   "execution_count": null,
   "id": "e72eb85d-7791-4605-b2c0-364f65f7e367",
   "metadata": {},
   "outputs": [],
   "source": [
    "titanic_db.Age.isna()"
   ]
  },
  {
   "cell_type": "code",
   "execution_count": null,
   "id": "0a2a11a1-588e-4d36-96ff-586ba7f40d5f",
   "metadata": {},
   "outputs": [],
   "source": [
    "~titanic_db.Age.isna()"
   ]
  },
  {
   "cell_type": "code",
   "execution_count": null,
   "id": "a8c78d63-07ff-4c87-8386-057c03502dd1",
   "metadata": {},
   "outputs": [],
   "source": [
    "(~titanic_db.Age.isna()).sum(), (titanic_db.Age.isna()).sum()"
   ]
  },
  {
   "cell_type": "code",
   "execution_count": null,
   "id": "ab1d17c5-5d3b-478f-969c-9165788a3f94",
   "metadata": {},
   "outputs": [],
   "source": [
    "((~titanic_db.Age.isna())&(titanic_db.Survived==1)).sum()"
   ]
  },
  {
   "cell_type": "code",
   "execution_count": null,
   "id": "61697276-9cfc-4b58-90de-8a1417521e51",
   "metadata": {},
   "outputs": [],
   "source": [
    "# before\n",
    "age_th = 28.0\n",
    "\n",
    "\n",
    "pr_sur = ((titanic_db.Age<=age_th)&(titanic_db.Survived==1)).sum()/(titanic_db.Age<=age_th).sum()\n",
    "pr_sur = (pr_sur*100).round(2)\n",
    "pr_sur"
   ]
  },
  {
   "cell_type": "code",
   "execution_count": null,
   "id": "2725c3b7-8f27-4fad-8a4d-752aa0e3c931",
   "metadata": {},
   "outputs": [],
   "source": [
    "# aftter\n",
    "pr_sur = ((titanic_db.Age>=age_th)&(titanic_db.Survived==1)).sum()/(titanic_db.Age>=age_th).sum()\n",
    "pr_sur = (pr_sur*100).round(2)\n",
    "pr_sur"
   ]
  },
  {
   "cell_type": "code",
   "execution_count": null,
   "id": "4d6d229d-38bb-4551-b6c7-0b5e4968e566",
   "metadata": {},
   "outputs": [],
   "source": [
    "# before\n",
    "age_th = 20.125\n",
    "\n",
    "\n",
    "pr_sur = ((titanic_db.Age<=age_th)&(titanic_db.Survived==1)).sum()/(titanic_db.Age<=age_th).sum()\n",
    "pr_sur = (pr_sur*100).round(2)\n",
    "pr_sur"
   ]
  },
  {
   "cell_type": "code",
   "execution_count": null,
   "id": "e8bd1ece-d62b-42d7-90a9-4f14dc9823c8",
   "metadata": {},
   "outputs": [],
   "source": [
    "pr_sur = ((titanic_db.Age>=age_th)&(titanic_db.Survived==1)).sum()/(titanic_db.Age>=age_th).sum()\n",
    "pr_sur = (pr_sur*100).round(2)\n",
    "pr_sur"
   ]
  },
  {
   "cell_type": "code",
   "execution_count": null,
   "id": "7940117b-3d15-4fdb-ad18-3c112d8c37c9",
   "metadata": {},
   "outputs": [],
   "source": [
    "age_th = 10\n",
    "\n",
    "pr_sur = ((titanic_db.Age<=age_th)&(titanic_db.Survived==1)).sum()/(titanic_db.Age<=age_th).sum()\n",
    "pr_sur = (pr_sur*100).round(2)\n",
    "pr_sur"
   ]
  },
  {
   "cell_type": "code",
   "execution_count": null,
   "id": "7bf588c0-2694-4f7c-9a2f-a5850247cd0d",
   "metadata": {},
   "outputs": [],
   "source": [
    "pr_sur = ((titanic_db.Age>=age_th)&(titanic_db.Survived==1)).sum()/(titanic_db.Age>=age_th).sum()\n",
    "pr_sur = (pr_sur*100).round(2)\n",
    "pr_sur"
   ]
  },
  {
   "cell_type": "markdown",
   "id": "9ac806fa-469e-46b1-b98f-cba3173664bb",
   "metadata": {},
   "source": [
    "<div class='alert alert-danger'>\n",
    "    \n",
    "* <b>Passengers' boarding location</b>: <code>embarked</code>\n",
    "</div>"
   ]
  },
  {
   "cell_type": "code",
   "execution_count": null,
   "id": "40a2e0bf-7ac3-4238-906e-eb6606cdca9f",
   "metadata": {},
   "outputs": [],
   "source": [
    "titanic_db.columns"
   ]
  },
  {
   "cell_type": "code",
   "execution_count": null,
   "id": "c64a5e0b-dbc4-4939-9e2c-63f469362ec9",
   "metadata": {},
   "outputs": [],
   "source": [
    "titanic_db.groupby(by=['Survived'])"
   ]
  },
  {
   "cell_type": "code",
   "execution_count": null,
   "id": "c68c9452-928f-4770-b6e1-89325f3e87f5",
   "metadata": {},
   "outputs": [],
   "source": [
    "titanic_db.groupby(by=['Survived']).sum()"
   ]
  },
  {
   "cell_type": "code",
   "execution_count": null,
   "id": "4307420f-3327-4733-ac44-ea7c447e1c1e",
   "metadata": {},
   "outputs": [],
   "source": [
    "titanic_db.groupby(by=['Survived'])['Survived'].count()"
   ]
  },
  {
   "cell_type": "code",
   "execution_count": null,
   "id": "3377609e-5256-4d60-a952-19e3ff27f750",
   "metadata": {},
   "outputs": [],
   "source": [
    "round((342/(342+549))*100, 2)"
   ]
  },
  {
   "cell_type": "code",
   "execution_count": null,
   "id": "ede89aa7-8678-4ea7-8ff0-c394a191d660",
   "metadata": {},
   "outputs": [],
   "source": [
    "titanic_db.groupby(by=['Pclass'])['Survived'].sum()"
   ]
  },
  {
   "cell_type": "code",
   "execution_count": null,
   "id": "ef9710e6-319d-4e42-93bb-32b609969e3e",
   "metadata": {},
   "outputs": [],
   "source": [
    "titanic_db.groupby(by=['Pclass'])['Pclass'].count()"
   ]
  },
  {
   "cell_type": "code",
   "execution_count": null,
   "id": "9bbc13b1-eb1b-4285-9db7-8aa54488ddf1",
   "metadata": {},
   "outputs": [],
   "source": [
    "216+184+491"
   ]
  },
  {
   "cell_type": "code",
   "execution_count": null,
   "id": "5431f7b4-834f-469d-b0a8-8c8cc1da4185",
   "metadata": {},
   "outputs": [],
   "source": [
    "round((136/(216))*100, 2)"
   ]
  },
  {
   "cell_type": "code",
   "execution_count": null,
   "id": "31ca4e98-e84f-454f-89b9-741e47169f65",
   "metadata": {},
   "outputs": [],
   "source": [
    "round((87/(184))*100, 2)"
   ]
  },
  {
   "cell_type": "code",
   "execution_count": null,
   "id": "6095914f-10ea-4b00-85b5-adde6c6badfe",
   "metadata": {},
   "outputs": [],
   "source": [
    "round((119/(491))*100, 2)"
   ]
  },
  {
   "cell_type": "code",
   "execution_count": null,
   "id": "65674f29-568e-440a-90ec-48d2f2cb89ea",
   "metadata": {},
   "outputs": [],
   "source": [
    "titanic_db.groupby(by=['Pclass', 'Sex', 'Survived'])['PassengerId'].count()"
   ]
  },
  {
   "cell_type": "code",
   "execution_count": null,
   "id": "12559ed3-fd65-48e4-ab24-99a77f4895da",
   "metadata": {},
   "outputs": [],
   "source": [
    "# f & c3\n",
    "round((72/(72+72))*100, 2)"
   ]
  },
  {
   "cell_type": "code",
   "execution_count": null,
   "id": "f64c76be-5ae6-4d1d-91be-2f53d4a59323",
   "metadata": {},
   "outputs": [],
   "source": [
    "# m & c3\n",
    "round((47/(47+300))*100, 2)"
   ]
  },
  {
   "cell_type": "code",
   "execution_count": null,
   "id": "8d80fdff-15f3-4cce-a730-780ffb68cf17",
   "metadata": {},
   "outputs": [],
   "source": [
    "titanic_db.groupby(by=['Pclass', 'Sex', 'Survived'])['Age'].mean()"
   ]
  },
  {
   "cell_type": "code",
   "execution_count": null,
   "id": "55483c63-873e-4be5-b6f6-a3447833a039",
   "metadata": {},
   "outputs": [],
   "source": [
    "titanic_db.groupby(by=['Pclass', 'Sex', 'Survived'])['Age'].max()"
   ]
  },
  {
   "cell_type": "code",
   "execution_count": null,
   "id": "d03abc80-ab32-48cb-b671-0e6b3d787b95",
   "metadata": {},
   "outputs": [],
   "source": [
    "titanic_db.groupby(by=['Pclass', 'Sex', 'Survived'])['Age'].min()"
   ]
  },
  {
   "cell_type": "code",
   "execution_count": null,
   "id": "7ec0000b-8fe9-4882-9007-224991d15206",
   "metadata": {},
   "outputs": [],
   "source": [
    "titanic_db['Age'].plot(kind='box')"
   ]
  },
  {
   "cell_type": "code",
   "execution_count": null,
   "id": "2feface9-a9ac-4b79-b47a-9e391bcae9d3",
   "metadata": {},
   "outputs": [],
   "source": [
    "(titanic_db.groupby(by=['Pclass', 'Sex', 'Survived'])['PassengerId'].count()).plot(kind='pie', )"
   ]
  },
  {
   "cell_type": "code",
   "execution_count": null,
   "id": "8baba29f-352d-4507-ae2b-168b96e655fd",
   "metadata": {},
   "outputs": [],
   "source": [
    "db"
   ]
  },
  {
   "cell_type": "code",
   "execution_count": null,
   "id": "3c01f53a-9f32-4502-b6c5-2adb960065e1",
   "metadata": {},
   "outputs": [],
   "source": [
    "db.sort_index().plot(x='Year', figsize=(12, 4), grid=True, ylabel='Temperature [°C]')"
   ]
  },
  {
   "cell_type": "code",
   "execution_count": null,
   "id": "bd80cf28-fdfe-4da3-a90d-4b23de841d7f",
   "metadata": {},
   "outputs": [],
   "source": [
    "!pip install seaborn"
   ]
  },
  {
   "cell_type": "code",
   "execution_count": null,
   "id": "c8dad5c7-b94e-4cdb-b6be-c8400764b63e",
   "metadata": {},
   "outputs": [],
   "source": [
    "import seaborn as sns"
   ]
  },
  {
   "cell_type": "code",
   "execution_count": null,
   "id": "8e8a1e85-d330-407a-951a-0600f269501c",
   "metadata": {},
   "outputs": [],
   "source": [
    "fig = sns.violinplot(titanic_db, x='Pclass', y='Age', )"
   ]
  },
  {
   "cell_type": "code",
   "execution_count": null,
   "id": "d37dcad4-d49b-4699-b2ca-8a7dfd664b63",
   "metadata": {},
   "outputs": [],
   "source": [
    "fig = sns.violinplot(titanic_db, x='Pclass', y='Age', hue='Survived')"
   ]
  },
  {
   "cell_type": "code",
   "execution_count": null,
   "id": "4daa1f1b-4729-4799-8141-c34f22954e97",
   "metadata": {},
   "outputs": [],
   "source": [
    "fig = sns.violinplot(titanic_db, x='Sex', y='Age', hue='Survived')"
   ]
  },
  {
   "cell_type": "code",
   "execution_count": null,
   "id": "12df2481-8492-4402-81eb-d4d7631050bd",
   "metadata": {},
   "outputs": [],
   "source": [
    "plot_series = titanic_db.groupby(by=['Pclass', 'Sex', 'Survived'])['PassengerId'].count()\n",
    "plot_series"
   ]
  },
  {
   "cell_type": "code",
   "execution_count": null,
   "id": "a73d6bb7-a645-47c4-8cd3-a6f2d2a3aeb6",
   "metadata": {},
   "outputs": [],
   "source": [
    "type(plot_series)"
   ]
  },
  {
   "cell_type": "code",
   "execution_count": null,
   "id": "5e7c8444-693c-4179-bc06-5c9341c1ebf7",
   "metadata": {},
   "outputs": [],
   "source": [
    "plot_series.index"
   ]
  },
  {
   "cell_type": "code",
   "execution_count": null,
   "id": "7df08f09-c697-48b7-8228-193c83fd5f44",
   "metadata": {},
   "outputs": [],
   "source": [
    "pd.DataFrame(plot_series)"
   ]
  },
  {
   "cell_type": "code",
   "execution_count": null,
   "id": "b3fbb9cb-5807-4b09-b5b6-13212aca63a5",
   "metadata": {},
   "outputs": [],
   "source": [
    "pd.DataFrame(plot_series).plot(kind='bar')"
   ]
  },
  {
   "cell_type": "code",
   "execution_count": null,
   "id": "f4b006c1-d9c7-418c-8719-9136410314be",
   "metadata": {},
   "outputs": [],
   "source": [
    "sns.barplot(data=pd.DataFrame(plot_series), x='Pclass', y='PassengerId', hue='Survived', errorbar=None)"
   ]
  },
  {
   "cell_type": "markdown",
   "id": "ed09dad3-53eb-4cf0-b3b8-b868ea753fdb",
   "metadata": {
    "jp-MarkdownHeadingCollapsed": true
   },
   "source": [
    "<div class='alert alert-info'>\n",
    "    <h2>Episode #09 | Automating Excel - Part 1</h2>\n",
    "</div>"
   ]
  },
  {
   "cell_type": "code",
   "execution_count": null,
   "id": "f97bd4c8-6adf-4d65-bafc-13ae22ff7ad5",
   "metadata": {},
   "outputs": [],
   "source": [
    "import pandas as pd\n",
    "import numpy as np"
   ]
  },
  {
   "cell_type": "markdown",
   "id": "a2a8dcb4-3f6a-43aa-9416-1d365530c914",
   "metadata": {},
   "source": [
    "<div class='alert alert-warning'>\n",
    "    <h3>Create & Save Files</h3>\n",
    "</div>"
   ]
  },
  {
   "cell_type": "code",
   "execution_count": null,
   "id": "408ebff2-6686-4a8d-887e-fe3ce5e1969d",
   "metadata": {},
   "outputs": [],
   "source": [
    "import pathlib"
   ]
  },
  {
   "cell_type": "markdown",
   "id": "fb321481-72c3-4fca-b9e8-71ae726056cd",
   "metadata": {
    "jp-MarkdownHeadingCollapsed": true
   },
   "source": [
    "#### I. Working File and Folder Names"
   ]
  },
  {
   "cell_type": "code",
   "execution_count": null,
   "id": "20790788-dfb4-40f6-965d-649add4b21c0",
   "metadata": {},
   "outputs": [],
   "source": [
    "folder_dir = 'C:/Users/bz267/Excel_files' # r'C:\\Users\\bz267\\Excel_files'"
   ]
  },
  {
   "cell_type": "code",
   "execution_count": null,
   "id": "0768bc23-2a71-4ffe-8506-a79a7a3b0ca8",
   "metadata": {},
   "outputs": [],
   "source": [
    "folder_dir"
   ]
  },
  {
   "cell_type": "code",
   "execution_count": null,
   "id": "f084e22f-2594-408a-9ec5-e41ccfb443b8",
   "metadata": {},
   "outputs": [],
   "source": [
    "r'C:\\Users\\bz267\\Excel_files' "
   ]
  },
  {
   "cell_type": "code",
   "execution_count": null,
   "id": "0870fba5-c565-4966-bd46-3561041035d1",
   "metadata": {},
   "outputs": [],
   "source": [
    "folder_path = pathlib.Path(folder_dir)\n",
    "folder_path"
   ]
  },
  {
   "cell_type": "code",
   "execution_count": null,
   "id": "f04e43df-c591-4ab9-bcbb-46d838bdd8cd",
   "metadata": {},
   "outputs": [],
   "source": [
    "type(folder_path)"
   ]
  },
  {
   "cell_type": "code",
   "execution_count": null,
   "id": "637ee245-2702-4e9b-badc-5d2f9e70069b",
   "metadata": {},
   "outputs": [],
   "source": [
    "folder_path.mkdir(parents=True, exist_ok=False)"
   ]
  },
  {
   "cell_type": "code",
   "execution_count": null,
   "id": "9a3cadca-cca9-4623-a1e1-9f32d457199e",
   "metadata": {},
   "outputs": [],
   "source": [
    "folder_name = 'file_1.csv'\n",
    "folder_name"
   ]
  },
  {
   "cell_type": "code",
   "execution_count": null,
   "id": "74fdd624-cbae-4ac2-b6dd-2b25969c763d",
   "metadata": {},
   "outputs": [],
   "source": [
    "folder_path / folder_name"
   ]
  },
  {
   "cell_type": "code",
   "execution_count": null,
   "id": "dc2a6685-a302-4778-830d-170e71fe03dd",
   "metadata": {},
   "outputs": [],
   "source": [
    "'%s/%s'%(folder_dir, folder_name)"
   ]
  },
  {
   "cell_type": "code",
   "execution_count": null,
   "id": "a5d9fb8a-3b8a-4b6b-bbc8-28dda86e6a97",
   "metadata": {},
   "outputs": [],
   "source": [
    "f'{folder_dir}/{folder_name}'"
   ]
  },
  {
   "cell_type": "code",
   "execution_count": null,
   "id": "7d9fc6a6-48ce-4122-9e65-0ede4245ce1c",
   "metadata": {},
   "outputs": [],
   "source": [
    "file_path_list = ['Temp.csv', 'Cost_benefit.csv', 'location.csv']\n",
    "file_path_list"
   ]
  },
  {
   "cell_type": "code",
   "execution_count": null,
   "id": "2fcd7cc4-8687-477d-a071-4c561defda0e",
   "metadata": {},
   "outputs": [],
   "source": [
    "file_paths = list()\n",
    "for file_name in file_path_list:\n",
    "    file_paths.append('%s/%s'%(folder_dir, file_name))\n",
    "file_paths"
   ]
  },
  {
   "cell_type": "code",
   "execution_count": null,
   "id": "e11d61ff-46e6-4995-a9fd-790d9b224c32",
   "metadata": {},
   "outputs": [],
   "source": [
    "file_path_list = []\n",
    "for i in range(1, 5):\n",
    "    folder_name = f'file_{i}.csv'\n",
    "    file_path = f'{folder_dir}/{folder_name}'\n",
    "    file_path_list.append(file_path)\n",
    "file_path_list"
   ]
  },
  {
   "cell_type": "code",
   "execution_count": null,
   "id": "04177ac2-c5f3-4404-9de1-f08ad7dd0a3d",
   "metadata": {},
   "outputs": [],
   "source": [
    "file_path_list = ['%s/file_%d.csv'%(folder_dir, i) for i in range(1, 5)]\n",
    "file_path_list"
   ]
  },
  {
   "cell_type": "markdown",
   "id": "d394c78b-2bb7-4132-821f-800bcc5f9810",
   "metadata": {
    "jp-MarkdownHeadingCollapsed": true
   },
   "source": [
    "#### II. Applying functions and saving files"
   ]
  },
  {
   "cell_type": "markdown",
   "id": "719a3a10-362f-459e-9f40-3c1d0adcdf71",
   "metadata": {
    "jp-MarkdownHeadingCollapsed": true
   },
   "source": [
    "<div class='alert alert-danger'>\n",
    "    <h4>Exc. | Creating and Saving Files in a Loop</h4>\n",
    "    Go back to the <b>Titanic dataset</b> and create a series of <code>CSV</code> files, each consisting of the passenger ID columns linked to another column.\n",
    "</div>"
   ]
  },
  {
   "cell_type": "code",
   "execution_count": null,
   "id": "532407dd-0a43-4e4c-b4cd-36e3ff0348ef",
   "metadata": {},
   "outputs": [],
   "source": [
    "titanic_db = pd.read_csv('Titanic-Dataset.csv')"
   ]
  },
  {
   "cell_type": "code",
   "execution_count": null,
   "id": "6020bb57-07b6-4619-9752-49ed3563c081",
   "metadata": {},
   "outputs": [],
   "source": [
    "titanic_db.columns"
   ]
  },
  {
   "cell_type": "code",
   "execution_count": null,
   "id": "26c4c2b7-5f5c-478e-a906-6212b4fb4f9e",
   "metadata": {},
   "outputs": [],
   "source": [
    "titanic_db.columns[1:]"
   ]
  },
  {
   "cell_type": "code",
   "execution_count": null,
   "id": "fcf795e1-16c4-4204-85e4-e396bf190d5c",
   "metadata": {},
   "outputs": [],
   "source": [
    "titanic_db[['PassengerId', 'Survived']]"
   ]
  },
  {
   "cell_type": "code",
   "execution_count": null,
   "id": "85de4b45-530e-4eac-b444-78e2857595a4",
   "metadata": {},
   "outputs": [],
   "source": [
    "for column in titanic_db.columns[1:]:\n",
    "    temp_db = titanic_db[['PassengerId', column]]\n",
    "    print(temp_db.columns)"
   ]
  },
  {
   "cell_type": "code",
   "execution_count": null,
   "id": "effea4e7-8828-4517-939a-1b868edaa05f",
   "metadata": {},
   "outputs": [],
   "source": [
    "titanic_db.loc[:, ['PassengerId', 'Survived']]"
   ]
  },
  {
   "cell_type": "code",
   "execution_count": null,
   "id": "7dc2b72b-42b3-43bd-a0b8-82e93680c951",
   "metadata": {},
   "outputs": [],
   "source": [
    "for coloumn in titanic_db.columns[1:]:\n",
    "    temp_db = titanic_db.loc[:, ['PassengerId', coloumn]]\n",
    "    print(temp_db.columns)"
   ]
  },
  {
   "cell_type": "code",
   "execution_count": null,
   "id": "50480c5d-31f7-4336-a4d5-c735a55fcad9",
   "metadata": {},
   "outputs": [],
   "source": [
    "titanic_db.shape"
   ]
  },
  {
   "cell_type": "code",
   "execution_count": null,
   "id": "2d2bd1b4-d49c-45f2-b49c-ab191deffe25",
   "metadata": {},
   "outputs": [],
   "source": [
    "titanic_db.iloc[:, 11]"
   ]
  },
  {
   "cell_type": "code",
   "execution_count": null,
   "id": "0dea2f05-f7ff-4efa-bf5b-3e792fe9bd40",
   "metadata": {},
   "outputs": [],
   "source": [
    "titanic_db.head()"
   ]
  },
  {
   "cell_type": "code",
   "execution_count": null,
   "id": "d643f8a6-c848-47e4-aab9-64fa649652de",
   "metadata": {},
   "outputs": [],
   "source": [
    "titanic_db.iloc[:, [0, 11]]"
   ]
  },
  {
   "cell_type": "code",
   "execution_count": null,
   "id": "348d3922-a3a0-4392-8789-89642db5b7d4",
   "metadata": {},
   "outputs": [],
   "source": [
    "for col_index in range(1, titanic_db.shape[1]):\n",
    "    temp_db = titanic_db.iloc[:, [0, col_index]]\n",
    "    print(temp_db.columns)"
   ]
  },
  {
   "cell_type": "code",
   "execution_count": null,
   "id": "f9813fe0-b0f5-4fd4-818f-f2c00d81af3b",
   "metadata": {},
   "outputs": [],
   "source": [
    "# Saving file name challenge\n",
    "\n",
    "titanic_db.columns[2]"
   ]
  },
  {
   "cell_type": "code",
   "execution_count": null,
   "id": "72950f3a-f71f-4b85-95d0-274eb12ab52f",
   "metadata": {},
   "outputs": [],
   "source": [
    "col_name = titanic_db.columns[2]"
   ]
  },
  {
   "cell_type": "code",
   "execution_count": null,
   "id": "3c36d035-83d1-45bf-a2c1-2cfa9dcefaca",
   "metadata": {},
   "outputs": [],
   "source": [
    "'%s.csv'%col_name"
   ]
  },
  {
   "cell_type": "code",
   "execution_count": null,
   "id": "32db5981-7ba8-454e-860c-01b6d548bcec",
   "metadata": {},
   "outputs": [],
   "source": [
    "f'{col_name}.csv'"
   ]
  },
  {
   "cell_type": "code",
   "execution_count": null,
   "id": "ead8b734-5967-4aa3-8bfa-61c2c748ca54",
   "metadata": {},
   "outputs": [],
   "source": [
    "folder_names = [] #list()\n",
    "for col_name in titanic_db.columns[1:]:\n",
    "    f_name = f'{col_name}.csv'\n",
    "    folder_names.append(f_name)\n",
    "folder_names"
   ]
  },
  {
   "cell_type": "code",
   "execution_count": null,
   "id": "f86aacc6-7e13-4158-8b57-3acf6428aa5d",
   "metadata": {},
   "outputs": [],
   "source": [
    "folder_names = list()\n",
    "for col_name in titanic_db.columns[1:]:\n",
    "    f_name = f'{col_name}.csv'\n",
    "    folder_names.append(f_name.lower())\n",
    "folder_names"
   ]
  },
  {
   "cell_type": "code",
   "execution_count": null,
   "id": "4925e5c0-12de-41cc-8d06-fdfee079eadb",
   "metadata": {},
   "outputs": [],
   "source": [
    "folder_names = list()\n",
    "for col_name in titanic_db.columns[1:]:\n",
    "    f_name = f'{col_name.upper()}.csv'\n",
    "    folder_names.append(f_name)\n",
    "folder_names"
   ]
  },
  {
   "cell_type": "code",
   "execution_count": null,
   "id": "d56cee73-1e14-440e-bfcb-2afb873db2cf",
   "metadata": {},
   "outputs": [],
   "source": [
    "folder_names = [f'{name}.csv' for name in titanic_db.columns[1:]]\n",
    "folder_names"
   ]
  },
  {
   "cell_type": "code",
   "execution_count": null,
   "id": "2d9fc1d9-b987-4c7f-890d-e4bcb1cb5765",
   "metadata": {},
   "outputs": [],
   "source": [
    "folder_dir = 'C:/Users/bz267/Titanic_files' \n",
    "folder_path = pathlib.Path(folder_dir)\n",
    "folder_path.mkdir(parents=True, exist_ok=True)\n",
    "for coloumn in titanic_db.columns[1:]:\n",
    "    temp_db = titanic_db.loc[:, ['PassengerId', coloumn]]\n",
    "    f_name = f'{coloumn}.csv'\n",
    "    temp_db.to_csv(folder_path/f_name, )"
   ]
  },
  {
   "cell_type": "code",
   "execution_count": null,
   "id": "d37fb701-5f02-4dfc-8c01-8b7823a502a7",
   "metadata": {},
   "outputs": [],
   "source": [
    "folder_dir = 'C:/Users/bz267/Titanic_files' \n",
    "folder_path = pathlib.Path(folder_dir)\n",
    "folder_path.mkdir(parents=True, exist_ok=True)\n",
    "for coloumn in titanic_db.columns[1:]:\n",
    "    temp_db = titanic_db.loc[:, ['PassengerId', coloumn]]\n",
    "    f_name = f'{coloumn}.csv'\n",
    "    temp_db.to_csv(folder_path/f_name, index=False)"
   ]
  },
  {
   "cell_type": "markdown",
   "id": "2ce18f6d-87b7-4f9f-88c8-54407f8327a0",
   "metadata": {},
   "source": [
    "<div class='alert alert-info'>\n",
    "    <h2>Episode #10 | Automating Excel - Part 2</h2>\n",
    "</div>"
   ]
  },
  {
   "cell_type": "code",
   "execution_count": null,
   "id": "bbcc2c24-9c33-407d-bbf7-606b0925eab2",
   "metadata": {},
   "outputs": [],
   "source": [
    "import pandas as pd\n",
    "import numpy as np\n",
    "\n",
    "import pathlib\n",
    "\n",
    "folder_dir = 'C:/Users/bz267/example'"
   ]
  },
  {
   "cell_type": "code",
   "execution_count": null,
   "id": "5d05bbb8-1f2d-4c34-999f-7c16186283c3",
   "metadata": {},
   "outputs": [],
   "source": [
    "np.random.uniform(low=-1, high=1, size=(2, 1))"
   ]
  },
  {
   "cell_type": "code",
   "execution_count": null,
   "id": "d23c9b3c-65d8-4e8a-a7d0-a16db904cccb",
   "metadata": {},
   "outputs": [],
   "source": [
    "rnd_gnt = np.random.default_rng()\n",
    "rnd_gnt.uniform(-1, 1, (2, 1))"
   ]
  },
  {
   "cell_type": "markdown",
   "id": "9799df3d-ab9a-4ad1-a511-ad0874f44e44",
   "metadata": {
    "jp-MarkdownHeadingCollapsed": true
   },
   "source": [
    "<div class='alert alert-danger'>\n",
    "    <h4>Exc. | Wroknig with Random Numbers - Part I</h4>\n",
    "    Use what we have learned to create a dataset consisting of points scattered in a 2D space [Two variables, say x and y].<br>\n",
    "    \n",
    "* Determine how many of these generated points would fall inside an arbitrary circle placed at the center of your space with the size of the circle denoted by a parameter <code>radius</code>.\n",
    "</div>"
   ]
  },
  {
   "cell_type": "code",
   "execution_count": null,
   "id": "1abceb23-1cf6-42f1-9676-cf34232542eb",
   "metadata": {},
   "outputs": [],
   "source": [
    "import numpy as np"
   ]
  },
  {
   "cell_type": "code",
   "execution_count": null,
   "id": "e376459c-31f7-4b84-8335-409c96ca24d0",
   "metadata": {},
   "outputs": [],
   "source": [
    "n_samples = 100\n",
    "x_center,  y_center = 0, 0\n",
    "\n",
    "radius = 1 "
   ]
  },
  {
   "cell_type": "code",
   "execution_count": null,
   "id": "9d2b0e8b-79ba-4191-a6c7-b7122253c12f",
   "metadata": {},
   "outputs": [],
   "source": [
    "rnd_gnt = np.random.default_rng()\n",
    "x = rnd_gnt.uniform(x_center-radius, x_center+radius, n_samples)\n",
    "y = rnd_gnt.uniform(x_center-radius, x_center+radius, n_samples)\n",
    "df = pd.DataFrame()\n",
    "df['X'] = x\n",
    "df['Y'] = y\n",
    "df"
   ]
  },
  {
   "cell_type": "code",
   "execution_count": null,
   "id": "794d2e6f-4417-42b8-90f4-b9d28a3fad52",
   "metadata": {},
   "outputs": [],
   "source": [
    "df = pd.DataFrame(rnd_gnt.uniform([-1, 0], [0, 2], (3, 2)), columns=['X', 'Y'])\n",
    "df"
   ]
  },
  {
   "cell_type": "code",
   "execution_count": null,
   "id": "63cb0e49-d2f3-4567-adf9-391e9f89c28d",
   "metadata": {},
   "outputs": [],
   "source": [
    "def rnd_df_generator(x_center=0, y_center=0, radius=1, n_samples=100):\n",
    "    rnd_eng = np.random.default_rng()\n",
    "    low_val = [x_center-radius, y_center-radius]\n",
    "    high_val = [x_center+radius, y_center+radius]\n",
    "    output = rnd_eng.uniform(low=low_val, high=high_val, size=(n_samples, 2))\n",
    "    return pd.DataFrame(output, columns=['X', 'Y'])"
   ]
  },
  {
   "cell_type": "code",
   "execution_count": null,
   "id": "a2241c6b-8c01-4fcc-b112-51bbc58d5e23",
   "metadata": {},
   "outputs": [],
   "source": [
    "x_center, y_center = 0, 0\n",
    "radius = 1\n",
    "n_samples = 100\n",
    "\n",
    "test = rnd_df_generator(x_center, y_center, radius, n_samples)\n",
    "test"
   ]
  },
  {
   "cell_type": "code",
   "execution_count": null,
   "id": "1450d3fa-613e-408e-a3b3-3b45d2076eba",
   "metadata": {},
   "outputs": [],
   "source": [
    "fig = test.plot(kind='scatter', x='X', y='Y')"
   ]
  },
  {
   "cell_type": "code",
   "execution_count": null,
   "id": "ab1f1331-6e17-46de-8988-6935d096b5de",
   "metadata": {},
   "outputs": [],
   "source": [
    "x_center, y_center = 0, 0\n",
    "radius = 5\n",
    "n_samples = 100\n",
    "\n",
    "test = rnd_df_generator(x_center, y_center, radius, n_samples)\n",
    "fig = test.plot(kind='scatter', x='X', y='Y')\n",
    "test"
   ]
  },
  {
   "cell_type": "code",
   "execution_count": null,
   "id": "bf6c4abe-d933-42fd-9c4c-e33d10c97629",
   "metadata": {},
   "outputs": [],
   "source": [
    "x_center, y_center = 0, 0\n",
    "radius = .5\n",
    "n_samples = 100000\n",
    "\n",
    "test = rnd_df_generator(x_center, y_center, radius, n_samples)\n",
    "fig = test.plot(kind='scatter', x='X', y='Y')\n",
    "test"
   ]
  },
  {
   "cell_type": "code",
   "execution_count": null,
   "id": "bd9d4073-0522-4bd1-8dd0-7e78d3f8063d",
   "metadata": {},
   "outputs": [],
   "source": [
    "x_center, y_center = 0, 0\n",
    "radius = 1\n",
    "n_samples = 100\n",
    "\n",
    "test = rnd_df_generator(x_center, y_center, radius, n_samples)\n",
    "fig = test.plot(kind='scatter', x='X', y='Y')\n",
    "test"
   ]
  },
  {
   "cell_type": "code",
   "execution_count": null,
   "id": "b80c1ab7-33ea-4614-b00c-637a5d6b9315",
   "metadata": {},
   "outputs": [],
   "source": [
    "test"
   ]
  },
  {
   "cell_type": "code",
   "execution_count": null,
   "id": "870d2564-a686-4f3c-82f5-5821eeb160cc",
   "metadata": {},
   "outputs": [],
   "source": [
    "test.Y"
   ]
  },
  {
   "cell_type": "code",
   "execution_count": null,
   "id": "0661392c-b4c7-4eec-8b60-94c7cba77185",
   "metadata": {},
   "outputs": [],
   "source": [
    "test['Y']"
   ]
  },
  {
   "cell_type": "code",
   "execution_count": null,
   "id": "988933dd-8029-49e9-ad7d-ffc6c32689c4",
   "metadata": {},
   "outputs": [],
   "source": [
    "((test.X**2 + test.Y**2)**.5)<=radius"
   ]
  },
  {
   "cell_type": "code",
   "execution_count": null,
   "id": "0396eb76-faab-41fd-95be-2eca99142b46",
   "metadata": {},
   "outputs": [],
   "source": [
    "selected_samples = ((test.X**2 + test.Y**2)**.5)<=radius\n",
    "selected_samples.sum()"
   ]
  },
  {
   "cell_type": "code",
   "execution_count": null,
   "id": "5d22ab54-d8e5-4f7f-bad2-ddf33ab0fd81",
   "metadata": {},
   "outputs": [],
   "source": [
    "test['Test'] = selected_samples\n",
    "test"
   ]
  },
  {
   "cell_type": "code",
   "execution_count": null,
   "id": "03e64589-f41c-47e5-a208-c5f8e7eb5b3b",
   "metadata": {},
   "outputs": [],
   "source": [
    "def rnd_df_generator(x_center=0, y_center=0, radius=1, n_samples=100):\n",
    "    rnd_eng = np.random.default_rng()\n",
    "    low_val = [x_center-radius, y_center-radius]\n",
    "    high_val = [x_center+radius, y_center+radius]\n",
    "    output = rnd_eng.uniform(low=low_val, high=high_val, size=(n_samples, 2)).round(2)\n",
    "    output = pd.DataFrame(output, columns=['X', 'Y'])\n",
    "    output['Test'] = ((output.X**2 + output.Y**2)**.5)<=radius\n",
    "    return output"
   ]
  },
  {
   "cell_type": "code",
   "execution_count": null,
   "id": "ed5793ec-10a7-4e49-b847-96522a8f2e9d",
   "metadata": {},
   "outputs": [],
   "source": [
    "x_center, y_center = 0, 0\n",
    "radius = 5\n",
    "n_samples = 100\n",
    "\n",
    "test = rnd_df_generator(x_center, y_center, radius, n_samples)\n",
    "fig = test.plot(kind='scatter', x='X', y='Y')\n",
    "test"
   ]
  },
  {
   "cell_type": "markdown",
   "id": "c8c40dc5-5c95-443f-ac7f-e24c2047134e",
   "metadata": {
    "jp-MarkdownHeadingCollapsed": true
   },
   "source": [
    "<div class='alert alert-danger'>\n",
    "    <h4>Exc.| Working with Random Numbers - Part II</h4>\n",
    "    Use what we have learned to create a bacth of csv files.<br>\n",
    "    \n",
    "* We want two parent folder, each represnting <code>radius = 1</code> and <code>radius = 5</code>\n",
    "    \n",
    "* In each we need 2 csv files one <code>n_sample = 1000</code> and <code>n_sample = 100000</code>, and the name of the file should reflect that.\n",
    "    \n",
    "</div>"
   ]
  },
  {
   "cell_type": "code",
   "execution_count": null,
   "id": "eb2ac054-a902-4b20-9f38-5fcdef787f09",
   "metadata": {},
   "outputs": [],
   "source": [
    "radius_values = [1, 5]\n",
    "n_samples_values = [1000, 100000]\n",
    "for radius in radius_values:\n",
    "    folder_path = pathlib.Path('C:/Users/bz267/example/radius_%d'%radius)\n",
    "    folder_path.mkdir(parents=True, exist_ok=True)\n",
    "    for n_samples in n_samples_values:\n",
    "        file_name = 'n_samples_%d.csv'%n_samples\n",
    "        temp_df = rnd_df_generator(radius=radius, n_samples=n_samples)\n",
    "        temp_df.to_csv(folder_path/file_name, )"
   ]
  },
  {
   "cell_type": "code",
   "execution_count": null,
   "id": "176bc4f6-3180-47e7-aea1-5fe10b287a24",
   "metadata": {},
   "outputs": [],
   "source": [
    "radius_values = [1, 5]\n",
    "n_samples_values = [1000, 100000]\n",
    "for radius in radius_values:\n",
    "    folder_path = pathlib.Path('C:/Users/bz267/example/radius_%d'%radius)\n",
    "    folder_path.mkdir(parents=True, exist_ok=True)\n",
    "    for n_samples in n_samples_values:\n",
    "        file_name = 'n_samples_%d.csv'%n_samples\n",
    "        temp_df = rnd_df_generator(radius=radius, n_samples=n_samples)\n",
    "        temp_df.to_csv(folder_path/file_name, index=False)"
   ]
  },
  {
   "cell_type": "code",
   "execution_count": null,
   "id": "a3d203f6-a3dc-4fa6-a93f-2c1c8de1232c",
   "metadata": {},
   "outputs": [],
   "source": [
    "radies_values = [1, 5]\n",
    "n_snamples_values = [10000, 100000]\n",
    "\n",
    "folder_path = pathlib.Path(folder_dir)\n",
    "for radius in radies_values:\n",
    "    folder_name = 'radius_%d'%radius\n",
    "    folder_path = pathlib.Path(folder_dir) / folder_name\n",
    "    for n_samples in n_samples_values:\n",
    "        file_name = 'n_samples_%d.csv'%n_samples\n",
    "        print(folder_path/file_name)"
   ]
  },
  {
   "cell_type": "markdown",
   "id": "28f7064b-a162-414b-87ab-f9de313f90bc",
   "metadata": {
    "jp-MarkdownHeadingCollapsed": true
   },
   "source": [
    "<div class='alert alert-warning'>\n",
    "    <h3>Gaging an unxplored Folder</h3>\n",
    "</div>"
   ]
  },
  {
   "cell_type": "code",
   "execution_count": null,
   "id": "9f294582-742c-4140-b850-d6463799c05a",
   "metadata": {},
   "outputs": [],
   "source": [
    "import os"
   ]
  },
  {
   "cell_type": "code",
   "execution_count": null,
   "id": "23a0fb59-04c8-4ad0-8830-292faee85b4e",
   "metadata": {},
   "outputs": [],
   "source": [
    "os.listdir(folder_dir)"
   ]
  },
  {
   "cell_type": "code",
   "execution_count": null,
   "id": "eb44e30e-cc45-4b68-832a-a11b91290a87",
   "metadata": {},
   "outputs": [],
   "source": [
    "os.listdir('C:/Users/bz267/example/radius_1')"
   ]
  },
  {
   "cell_type": "code",
   "execution_count": null,
   "id": "db486119-e4a7-4b65-ba35-03c7b45527dd",
   "metadata": {},
   "outputs": [],
   "source": [
    "fold_list = []\n",
    "folder_dir = 'C:/Users/bz267/example/radius_1'\n",
    "for i in os.listdir(folder_dir):\n",
    "    fold_list.append(pathlib.Path(folder_dir)/i)\n",
    "\n",
    "fold_list"
   ]
  },
  {
   "cell_type": "code",
   "execution_count": null,
   "id": "da3b7bb7-b229-4b78-85c4-1c18dd082c83",
   "metadata": {},
   "outputs": [],
   "source": [
    "folder_dir = 'C:/Users/bz267/example'"
   ]
  },
  {
   "cell_type": "code",
   "execution_count": null,
   "id": "25887b88-48fd-4f5e-b120-3b5888ab36f8",
   "metadata": {},
   "outputs": [],
   "source": [
    "folder_names = os.listdir(folder_dir)\n",
    "file_names = list()\n",
    "\n",
    "for folder_name in folder_names:\n",
    "    temp_file_names = os.listdir(pathlib.Path(folder_dir)/folder_name)\n",
    "    file_names.append(temp_file_names)\n",
    "file_names"
   ]
  },
  {
   "cell_type": "code",
   "execution_count": null,
   "id": "b668c5cd-73ac-4ce2-a454-3aa34bb9493a",
   "metadata": {},
   "outputs": [],
   "source": [
    "file_names[0]"
   ]
  },
  {
   "cell_type": "code",
   "execution_count": null,
   "id": "016934cb-1808-4eca-b72c-fcd278c4e6dd",
   "metadata": {},
   "outputs": [],
   "source": [
    "flatten_file_names = np.array(file_names).flatten()\n",
    "flatten_file_names"
   ]
  },
  {
   "cell_type": "code",
   "execution_count": null,
   "id": "aefb2e27-e28a-49df-945f-629b608c0cd5",
   "metadata": {},
   "outputs": [],
   "source": [
    "full_list = os.walk(folder_dir)\n",
    "full_list"
   ]
  },
  {
   "cell_type": "code",
   "execution_count": null,
   "id": "5d75b025-af6f-43ee-8623-d65a8b9b89c2",
   "metadata": {},
   "outputs": [],
   "source": [
    "[i for i in full_list]"
   ]
  },
  {
   "cell_type": "code",
   "execution_count": null,
   "id": "0bae061a-6858-4535-b6b1-6bc5187ee383",
   "metadata": {},
   "outputs": [],
   "source": [
    "[i for i in full_list]"
   ]
  },
  {
   "cell_type": "code",
   "execution_count": null,
   "id": "20e85de3-51c7-426b-9d8f-eb38045ee979",
   "metadata": {},
   "outputs": [],
   "source": [
    "full_list = [i for i in full_list]\n",
    "full_list"
   ]
  },
  {
   "cell_type": "code",
   "execution_count": null,
   "id": "97d05c1c-a39b-4871-abf4-22db7ad13dae",
   "metadata": {},
   "outputs": [],
   "source": [
    "full_list[0][-1]"
   ]
  },
  {
   "cell_type": "code",
   "execution_count": null,
   "id": "d51211a8-ce91-4d97-8e4b-288cdce76fc2",
   "metadata": {},
   "outputs": [],
   "source": [
    "full_list[1][-1]"
   ]
  },
  {
   "cell_type": "code",
   "execution_count": null,
   "id": "6d0c09b9-81f5-46a3-9e4d-37bcaa843da0",
   "metadata": {},
   "outputs": [],
   "source": [
    "file_names = [i[-1] for i in full_list]\n",
    "file_names"
   ]
  },
  {
   "cell_type": "markdown",
   "id": "d6792ab4-2066-4877-b973-41f1aa6a8d26",
   "metadata": {},
   "source": [
    "<div class='alert alert-warning'>\n",
    "    <h3>Read a batch of Files</h3>\n",
    "</div>"
   ]
  },
  {
   "cell_type": "markdown",
   "id": "ec6466f9-bc67-487b-b95d-2a80e9ee8399",
   "metadata": {},
   "source": [
    "<div class='alert alert-danger'>\n",
    "    <h4>Exc. <i>Monte Carlo (MC) Simulation</i> to estimate $\\pi$</h4>\n",
    "    Use what we have learned to read all the files we have created earlier and using MC estimate $\\pi$.<br>\n",
    "</div>\n",
    "\n",
    "* <b>Hint:</b> Use the probability of genreting a point falling in the circle."
   ]
  },
  {
   "cell_type": "code",
   "execution_count": null,
   "id": "cf0b086c-847a-4361-9d02-8754a5d615e1",
   "metadata": {},
   "outputs": [],
   "source": [
    "temp_db = pd.read_csv(r'C:\\Users\\bz267\\example\\radius_1\\n_samples_1000.csv')\n",
    "temp_db"
   ]
  },
  {
   "cell_type": "code",
   "execution_count": null,
   "id": "89b2caf1-1fb0-4628-be26-1dcae076cd25",
   "metadata": {},
   "outputs": [],
   "source": [
    "prob = temp_db.Test.sum() / len(temp_db)\n",
    "prob"
   ]
  },
  {
   "cell_type": "code",
   "execution_count": null,
   "id": "c5ba122c-76a6-4f5c-9481-2febd44e61b6",
   "metadata": {},
   "outputs": [],
   "source": [
    "estimated_pi = (4 * prob).round(4)\n",
    "estimated_pi"
   ]
  },
  {
   "cell_type": "code",
   "execution_count": null,
   "id": "af3cd344-9f93-4daf-93b9-baa6d0607b8b",
   "metadata": {},
   "outputs": [],
   "source": [
    "radius, n_samples = 1, 100000\n",
    "temp_db = pd.read_csv(r'C:\\Users\\bz267\\example\\radius_%d\\n_samples_%d.csv'%(radius, n_samples))\n",
    "prob = temp_db.Test.sum() / len(temp_db)\n",
    "estimated_pi = (4 * prob).round(4)\n",
    "estimated_pi"
   ]
  },
  {
   "cell_type": "code",
   "execution_count": null,
   "id": "911f8dbe-1db1-404f-9f4d-50df9d2194d6",
   "metadata": {},
   "outputs": [],
   "source": [
    "radius, n_samples = 5, 100000\n",
    "temp_db = pd.read_csv(r'C:\\Users\\bz267\\example\\radius_%d\\n_samples_%d.csv'%(radius, n_samples))\n",
    "prob = temp_db.Test.sum() / len(temp_db)\n",
    "estimated_pi = (4 * prob).round(4)\n",
    "estimated_pi"
   ]
  },
  {
   "cell_type": "code",
   "execution_count": null,
   "id": "bb90379f-0eae-4962-a591-50a382fd2278",
   "metadata": {},
   "outputs": [],
   "source": [
    "radies_values = [1, 5]\n",
    "n_samples_values = [1000, 100000]\n",
    "\n",
    "folder_path = pathlib.Path(folder_dir)\n",
    "for radius in radies_values:\n",
    "    for n_samples in n_samples_values:\n",
    "        temp_db = pd.read_csv(r'C:\\Users\\bz267\\example\\radius_%d\\n_samples_%d.csv'%(radius, n_samples))\n",
    "        prob = temp_db.Test.sum() / len(temp_db)\n",
    "        estimated_pi = (4 * prob).round(4)\n",
    "        print('Radius: %d     \\t     Num. Samples: %d'%(radius, n_samples))\n",
    "        print('Estimated value for Pi: \\t %.4f'%estimated_pi)\n",
    "        print('----'*10)"
   ]
  }
 ],
 "metadata": {
  "kernelspec": {
   "display_name": "Python 3 (ipykernel)",
   "language": "python",
   "name": "python3"
  },
  "language_info": {
   "codemirror_mode": {
    "name": "ipython",
    "version": 3
   },
   "file_extension": ".py",
   "mimetype": "text/x-python",
   "name": "python",
   "nbconvert_exporter": "python",
   "pygments_lexer": "ipython3",
   "version": "3.12.9"
  }
 },
 "nbformat": 4,
 "nbformat_minor": 5
}
